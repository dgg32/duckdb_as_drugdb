{
 "cells": [
  {
   "cell_type": "code",
   "execution_count": 1,
   "metadata": {},
   "outputs": [],
   "source": [
    "import duckdb\n",
    "import pandas as pd\n",
    "import json\n",
    "import yaml\n",
    "import openai\n",
    "from tqdm import tqdm\n",
    "import os\n",
    "from pathlib import Path\n",
    "import re\n",
    "import chart_studio\n",
    "import chart_studio.plotly as py"
   ]
  },
  {
   "cell_type": "code",
   "execution_count": 2,
   "metadata": {},
   "outputs": [],
   "source": [
    "with open(\"config.yaml\", \"r\") as stream:\n",
    "    try:\n",
    "        PARAM = yaml.safe_load(stream)\n",
    "    except yaml.YAMLError as exc:\n",
    "        print(exc)\n",
    "\n",
    "openai.api_key  = PARAM['openai_api']\n",
    "client = openai.OpenAI(api_key = PARAM['openai_api'])\n",
    "\n",
    "def get_embedding(text, model=PARAM['vector_embedding_model']):\n",
    "   text = text.replace(\"\\n\", \" \")\n",
    "   return client.embeddings.create(input = [text], model=model).data[0].embedding\n",
    "\n",
    "username=PARAM['plotly_username']\n",
    "api_key=PARAM['plotly_api_key']\n",
    "chart_studio.tools.set_credentials_file(username=username,\n",
    "                                        api_key=api_key)"
   ]
  },
  {
   "cell_type": "code",
   "execution_count": 3,
   "metadata": {},
   "outputs": [],
   "source": [
    "#con = duckdb.connect(\"drug.db\")\n",
    "con = duckdb.connect()\n",
    "\n",
    "\n",
    "con.sql(\"INSTALL duckpgq FROM community;\")\n",
    "con.sql(\"INSTALL fts;\")\n",
    "con.sql(\"INSTALL vss;\")\n",
    "\n",
    "con.load_extension(\"duckpgq\")\n",
    "con.load_extension(\"fts\")\n",
    "con.load_extension(\"vss\")"
   ]
  },
  {
   "cell_type": "code",
   "execution_count": 4,
   "metadata": {},
   "outputs": [
    {
     "data": {
      "text/plain": [
       "<duckdb.duckdb.DuckDBPyConnection at 0x31ea42d30>"
      ]
     },
     "execution_count": 4,
     "metadata": {},
     "output_type": "execute_result"
    }
   ],
   "source": [
    "con.sql(\"\"\"CREATE TABLE Trials (\n",
    "            PostingID     INTEGER NOT NULL PRIMARY KEY,\n",
    "            Sponsor    VARCHAR,\n",
    "            StudyTitle     VARCHAR,\n",
    "            Disorder   VARCHAR,\n",
    "            Phase   VARCHAR,\n",
    "            LinkToSponsorStudyRegistry   VARCHAR,\n",
    "            LinkToClinicalTrials   VARCHAR,\n",
    "            drug_cui  VARCHAR[],\n",
    "            drug_names   VARCHAR[],\n",
    "            )\"\"\")\n",
    "\n",
    "con.sql(\"\"\"CREATE TABLE Drug (\n",
    "            drug_cui  VARCHAR NOT NULL PRIMARY KEY,\n",
    "            name  VARCHAR\n",
    "            )\"\"\")\n",
    "\n",
    "con.sql(\"\"\"CREATE TABLE Disorder (\n",
    "            disorder_cui  VARCHAR NOT NULL PRIMARY KEY,\n",
    "            name  VARCHAR,\n",
    "            definition  VARCHAR,\n",
    "            definitionEmbedding FLOAT[1536]\n",
    "            )\"\"\")\n",
    "\n",
    "con.sql(\"\"\"CREATE TABLE MOA (\n",
    "            moa_id  VARCHAR NOT NULL PRIMARY KEY,\n",
    "            name  VARCHAR\n",
    "            )\"\"\")\n",
    "\n",
    "con.sql(\"\"\"CREATE TABLE DrugDisorder (\n",
    "            drug_cui  VARCHAR NOT NULL REFERENCES Drug(drug_cui),\n",
    "            disorder_cui  VARCHAR NOT NULL REFERENCES Disorder(disorder_cui)\n",
    "            )\"\"\")\n",
    "\n",
    "con.sql(\"\"\"CREATE TABLE DrugMOA (\n",
    "            drug_cui  VARCHAR NOT NULL REFERENCES Drug(drug_cui),\n",
    "            moa_id  VARCHAR NOT NULL REFERENCES MOA(moa_id)\n",
    "            )\"\"\")\n",
    "\n",
    "con.sql(\"\"\"CREATE TABLE IF NOT EXISTS Prescription (\n",
    "            name     VARCHAR NOT NULL,\n",
    "            id    VARCHAR NOT NULL PRIMARY KEY,\n",
    "            therapeutic_classes     VARCHAR[],\n",
    "            brand_name_synonyms   VARCHAR[],\n",
    "            generic_drug_synonyms   VARCHAR[],\n",
    "            initial_FDA_approval_date   VARCHAR,\n",
    "            \n",
    "            \"Top drug rank (2022)\" INTEGER,\n",
    "            \"Estimated number of prescriptions in the United States (2022)\" BIGINT,\n",
    "            \"Estimated number of patients in the United States (2022)\" BIGINT,\n",
    "            \"Average total drug cost (USD)_Per prescription\" DECIMAL(10,2),\n",
    "            \"Average total drug cost (USD)_Per day of therapy\" DECIMAL(10,2),\n",
    "            \"Average out-of-pocket cost (USD)_Per prescription\" DECIMAL(10,2),\n",
    "            \"Average out-of-pocket cost (USD)_Per day of therapy\" DECIMAL(10,2),\n",
    "            \n",
    "            prescriptions_over_time STRUCT(\n",
    "                year INTEGER,\n",
    "                total_prescriptions BIGINT,\n",
    "                total_patients BIGINT\n",
    "            )[],\n",
    "        prescription_cost_over_time STRUCT(\n",
    "            year INTEGER,\n",
    "            total DECIMAL(10,2), \n",
    "            out_of_pocket DECIMAL(10,2)\n",
    "        )[],\n",
    "        cost_per_day_over_time STRUCT(\n",
    "            year INTEGER,\n",
    "            total DECIMAL(10,2),\n",
    "            out_of_pocket DECIMAL(10,2)\n",
    "        )[],\n",
    "        rank_over_time STRUCT(\n",
    "            year INTEGER,\n",
    "            rank INTEGER,\n",
    "            change INTEGER\n",
    "        )[],\n",
    "        dosage_distribution STRUCT(\n",
    "            dosage_form VARCHAR,\n",
    "            strength VARCHAR,\n",
    "            percentage DECIMAL(5,2)\n",
    "        )[]);\n",
    "        \"\"\")\n",
    "\n",
    "con.sql(\n",
    "    \"\"\"\n",
    "    CREATE TABLE PrescriptionRelatedDrugs (\n",
    "            from_id VARCHAR NOT NULL,\n",
    "            to_id VARCHAR NOT NULL\n",
    "        );\n",
    "        \"\"\"\n",
    ")\n",
    "\n",
    "\n",
    "con.sql(\n",
    "    \"\"\"\n",
    "    CREATE TABLE PrescriptionSubstance (\n",
    "            from_id VARCHAR NOT NULL,\n",
    "            to_cui VARCHAR NOT NULL\n",
    "        );\n",
    "        \"\"\"\n",
    ")\n",
    "\n",
    "con.sql(\n",
    "    \"\"\"\n",
    "    CREATE TABLE DrugDrugInteraction (\n",
    "            from_cui VARCHAR NOT NULL,\n",
    "            to_cui VARCHAR NOT NULL,\n",
    "            level VARCHAR\n",
    "        );\n",
    "        \"\"\"\n",
    ")\n",
    "\n",
    "con.sql(\"\"\"SET hnsw_enable_experimental_persistence = true\"\"\")\n",
    "\n",
    "con.sql(\"\"\"CREATE INDEX my_hnsw_cosine_index ON Disorder USING HNSW (definitionEmbedding);\"\"\")\n",
    "\n",
    "\n",
    "con.sql(\"\"\"\n",
    "CREATE PROPERTY GRAPH drug_graph\n",
    "  VERTEX TABLES (\n",
    "    Drug, Disorder, MOA, Prescription\n",
    "  )\n",
    "EDGE TABLES (\n",
    "  DrugDisorder \tSOURCE KEY (drug_cui) REFERENCES Drug (drug_cui)\n",
    "                DESTINATION KEY (disorder_cui) REFERENCES Disorder (disorder_cui)\n",
    "  LABEL MAY_TREAT,\n",
    "  DrugMOA SOURCE KEY (drug_cui) REFERENCES Drug (drug_cui)\n",
    "          DESTINATION KEY (moa_id) REFERENCES MOA (moa_id)\n",
    "  LABEL HAS_MOA,\n",
    "  PrescriptionRelatedDrugs SOURCE KEY (from_id) REFERENCES Prescription (id)\n",
    "                          DESTINATION KEY (to_id) REFERENCES Prescription (id)\n",
    "  LABEL RELATED,\n",
    "  PrescriptionSubstance SOURCE KEY (from_id) REFERENCES Prescription (id)\n",
    "                      DESTINATION KEY (to_cui) REFERENCES Drug (drug_cui)\n",
    "  LABEL CONTAINS_SUBSTANCE,\n",
    "  DrugDrugInteraction SOURCE KEY (from_cui) REFERENCES Drug (drug_cui)\n",
    "                      DESTINATION KEY (to_cui) REFERENCES Drug (drug_cui)\n",
    "  LABEL INTERACTS_WITH\n",
    ");\n",
    "          \"\"\")\n",
    "\n",
    "def get_embedding(text: str) -> list[float]:\n",
    "   model=\"text-embedding-3-small\"\n",
    "   text = text.replace(\"\\n\", \" \")\n",
    "   return client.embeddings.create(input = [text], model=model).data[0].embedding\n",
    "\n",
    "con.create_function('embeddings', get_embedding)\n"
   ]
  },
  {
   "cell_type": "code",
   "execution_count": 5,
   "metadata": {},
   "outputs": [],
   "source": [
    "df = pd.read_csv(\"drugs/trials_umls.tsv\", sep='\\t', lineterminator='\\n')\n",
    "\n",
    "con.sql(\"\"\"BEGIN TRANSACTION;\"\"\")\n",
    "\n",
    "\n",
    "for index, row in df.iterrows():\n",
    "  con.execute(\"\"\"\n",
    "                INSERT INTO Trials (\n",
    "                    PostingID,\n",
    "                    Sponsor,\n",
    "                    StudyTitle,\n",
    "                    Disorder,\n",
    "                    Phase,\n",
    "                    LinkToSponsorStudyRegistry,\n",
    "                    LinkToClinicalTrials,\n",
    "                    drug_cui,\n",
    "                    drug_names\n",
    "                ) \n",
    "                SELECT \n",
    "                    $1,\n",
    "                    $2,\n",
    "                    $3,\n",
    "                    $4,\n",
    "                    $5,\n",
    "                    $6,\n",
    "                    $7,\n",
    "                    $8::VARCHAR[],\n",
    "                    $9::VARCHAR[]\n",
    "            \"\"\", [\n",
    "                row[\"Posting ID\"],\n",
    "                row[\"Sponsor\"],\n",
    "                row[\"Study Title\"],\n",
    "                row[\"Medical Condition\"],\n",
    "                row[\"Phase\"],\n",
    "                row[\"Link to Sponsor Study Registry\"],\n",
    "                row[\"Link to study details on ClinicalTrials.gov (if available)\"],\n",
    "                row[\"CUI_umls\"].split(\";\"),\n",
    "                row[\"preferred_umls_name\"].split(\";\")\n",
    "            ])\n",
    "\n",
    "con.sql(\"\"\"PRAGMA create_fts_index('Trials', 'PostingID', 'StudyTitle', overwrite=1);\"\"\")\n",
    "\n",
    "con.sql(\"\"\"COMMIT;\"\"\")\n",
    "\n"
   ]
  },
  {
   "cell_type": "code",
   "execution_count": 6,
   "metadata": {},
   "outputs": [
    {
     "data": {
      "text/plain": [
       "┌──────────────────────────────────────────────────────────────────────────────────────────────────────────────────────────────────────────────────────────────────────────────────────────────────────────────────────────────────────────────────────┐\n",
       "│                                                                                                                      StudyTitle                                                                                                                      │\n",
       "│                                                                                                                       varchar                                                                                                                        │\n",
       "├──────────────────────────────────────────────────────────────────────────────────────────────────────────────────────────────────────────────────────────────────────────────────────────────────────────────────────────────────────────────────────┤\n",
       "│ U0289-401: An Evaluator Blinded, 8 Week, Split-Face Study to Evaluate and Compare the Efficacy and Tolerability of MAXCLARITY II and PROACTIV in Subjects with Acne                                                                                  │\n",
       "│ GSK1550188, A randomised, single-blind, placebo controlled, dose ascending, single dose study to evaluate the safety, tolerability, pharmacokinetics, and pharmacodynamic of GSK1550188 in Japanese subjects with Systemic Lupus Erythematosus (SLE) │\n",
       "│ A Multicenter, Randomized, Double-Blind, Phase 3 Study of the Safety and Efficacy of Emulsion Formulation U0267, versus Vehicle in Subjects with Plaque-type Psoriasis                                                                               │\n",
       "│ Two-week Study to Determine and Compare the Tolerance and Irritation Potential of Duac® Topical Gel (clindamycin 1% and benzoyl peroxide 5%) to ACANYA™ Gel (clindamycin phosphate 1.2% and benzoyl peroxide 2.5%) Topical Acne Medications          │\n",
       "│ A single-blind, randomized, comparative split-face study evaluating the tolerability of clindamycin and benzoyl peroxide gel to benzoyl peroxide/adapalene gel in the treatment of acne vulgaris.                                                    │\n",
       "└──────────────────────────────────────────────────────────────────────────────────────────────────────────────────────────────────────────────────────────────────────────────────────────────────────────────────────────────────────────────────────┘"
      ]
     },
     "execution_count": 6,
     "metadata": {},
     "output_type": "execute_result"
    }
   ],
   "source": [
    "con.sql(\"\"\"SELECT StudyTitle FROM Trials LIMIT 5;\"\"\")"
   ]
  },
  {
   "cell_type": "code",
   "execution_count": 7,
   "metadata": {},
   "outputs": [
    {
     "data": {
      "text/plain": [
       "┌──────────┬───────────────────────────────────────────────────────────────────────────────────────────────────────────────────────────────────────────────────────────────────────────────────────────────────────────────────────┬────────────────────┐\n",
       "│ trial_id │                                                                                                      StudyTitle                                                                                                       │       score        │\n",
       "│  int32   │                                                                                                        varchar                                                                                                        │       double       │\n",
       "├──────────┼───────────────────────────────────────────────────────────────────────────────────────────────────────────────────────────────────────────────────────────────────────────────────────────────────────────────────────┼────────────────────┤\n",
       "│     1938 │ A Multicenter, Double-Blind, Placebo-Controlled Evaluation of Valaciclovir for the Reduction of the Length of Cold Sore Episodes                                                                                      │ 3.6408433952342056 │\n",
       "│     1939 │ A Multicenter, Double-Blind, Placebo-Controlled Evaluation of Valaciclovir for the Prevention/Blockage of the Progression of Cold Sore Lesion Development                                                             │  3.478101096201219 │\n",
       "│     1941 │ An International, Randomized, Double-Blind, Placebo-Controlled Study of Valaciclovir for the Suppression of Recurrent Ano-Genital HSV Infections in HIV-Infected Subjects                                             │   3.25955265740557 │\n",
       "│     5037 │ An International, Double-Blind, Controlled Trial Comparing Oral Acyclovir to Oral Valaciclovir for the Treatment of Herpes Zoster in Immunocompetent Patients 50 Years of Age or Older                                │ 3.1926813479499074 │\n",
       "│     1940 │ A Randomized, Double-Blind, Placebo-Controlled Evaluation of Valaciclovir for the Prevention of Herpes Simplex Virus (HSV) Transmission in Heterosexual Couples (Double-Blind Phase and Open-Label Suppression Phase) │ 3.1873946799384236 │\n",
       "└──────────┴───────────────────────────────────────────────────────────────────────────────────────────────────────────────────────────────────────────────────────────────────────────────────────────────────────────────────────┴────────────────────┘"
      ]
     },
     "execution_count": 7,
     "metadata": {},
     "output_type": "execute_result"
    }
   ],
   "source": [
    "db = \"Trials\"\n",
    "\n",
    "query = f\"\"\"SELECT PostingID as trial_id, StudyTitle, score\n",
    "FROM (\n",
    "    SELECT *, fts_main_{db}.match_bm25(\n",
    "        PostingID,\n",
    "        'double blind & Valaciclovir',\n",
    "        fields := 'StudyTitle'\n",
    "    ) AS score\n",
    "    FROM {db}\n",
    ")\n",
    "WHERE score IS NOT NULL\n",
    "ORDER BY score DESC LIMIT 5;\n",
    "\"\"\"\n",
    "\n",
    "con.sql(query)"
   ]
  },
  {
   "cell_type": "code",
   "execution_count": 8,
   "metadata": {},
   "outputs": [],
   "source": [
    "con.sql(\"\"\"BEGIN TRANSACTION;\"\"\")\n",
    "\n",
    "for line in open(\"drugs/drugs_8.json\", \"r\"):\n",
    "  value = json.loads(line)\n",
    "\n",
    "  con.execute(\"\"\"\n",
    "                INSERT INTO Drug (\n",
    "                    drug_cui,\n",
    "                    name\n",
    "                ) \n",
    "                SELECT \n",
    "                    $1,\n",
    "                    $2\n",
    "            \"\"\", [\n",
    "                value[\"cui\"],\n",
    "                value[\"name\"]\n",
    "            ])\n",
    "\n",
    "  #query = f\"\"\"INSERT INTO Drug VALUES ('{value[\"cui\"]}', '{value[\"name\"].replace(\"'\", \"''\")}');\"\"\"\n",
    "  #print(query)\n",
    "  #con.sql(query)\n",
    "\n",
    "con.sql(\"\"\"COMMIT;\"\"\")"
   ]
  },
  {
   "cell_type": "code",
   "execution_count": 9,
   "metadata": {},
   "outputs": [
    {
     "data": {
      "text/plain": [
       "┌──────────┬────────────────────────┐\n",
       "│ drug_cui │          name          │\n",
       "│ varchar  │        varchar         │\n",
       "├──────────┼────────────────────────┤\n",
       "│ C0046056 │ fluorodeoxyglucose F18 │\n",
       "└──────────┴────────────────────────┘"
      ]
     },
     "execution_count": 9,
     "metadata": {},
     "output_type": "execute_result"
    }
   ],
   "source": [
    "con.sql(\"\"\"\n",
    "SELECT * FROM Drug WHERE drug_cui = 'C0046056'\n",
    "\"\"\")"
   ]
  },
  {
   "cell_type": "code",
   "execution_count": 10,
   "metadata": {},
   "outputs": [],
   "source": [
    "con.sql(\"\"\"BEGIN TRANSACTION;\"\"\")\n",
    "\n",
    "for line in open(\"drugs/disease_8_embedding.json\", \"r\"):\n",
    "  value = json.loads(line)\n",
    "\n",
    "  con.execute(\"\"\"\n",
    "                INSERT INTO Disorder (\n",
    "                    disorder_cui,\n",
    "                    name,\n",
    "                    definition,\n",
    "                    definitionEmbedding\n",
    "                ) \n",
    "                SELECT \n",
    "                    $1,\n",
    "                    $2,\n",
    "                    $3,\n",
    "                    $4::FLOAT[1536]\n",
    "            \"\"\", [\n",
    "                value[\"cui\"],\n",
    "                value[\"name\"],\n",
    "                value[\"definition\"],\n",
    "                value[\"definitionEmbedding\"]\n",
    "            ])\n",
    "\n",
    "  #query = f\"\"\"INSERT INTO Disorder VALUES ('{value[\"cui\"]}', '{value[\"name\"].replace(\"'\", \"''\")}', '{value[\"definition\"].replace(\"'\", \"''\")}', {value[\"definitionEmbedding\"]});\"\"\"\n",
    "  #print(query)\n",
    "  #con.sql(query)\n",
    "\n",
    "con.sql(\"\"\"COMMIT;\"\"\")"
   ]
  },
  {
   "cell_type": "code",
   "execution_count": 11,
   "metadata": {},
   "outputs": [],
   "source": [
    "con.sql(\"\"\"BEGIN TRANSACTION;\"\"\")\n",
    "\n",
    "df = pd.read_csv(\"drugs/moa_8.tsv\", sep='\\t', lineterminator='\\n')\n",
    "\n",
    "for index, row in df.iterrows():\n",
    "\n",
    "    con.execute(\"\"\"\n",
    "                INSERT INTO MOA (\n",
    "                    moa_id,\n",
    "                    name\n",
    "                ) \n",
    "                SELECT \n",
    "                    $1,\n",
    "                    $2\n",
    "            \"\"\", [\n",
    "                row[\"id\"],\n",
    "                row[\"name\"]\n",
    "            ])\n",
    "\n",
    "  #query = f\"\"\"INSERT INTO MOA VALUES ('{row[\"id\"]}', '{row[\"name\"].replace(\"'\", \"''\")}');\"\"\"\n",
    "  #print(query)\n",
    "  #con.sql(query)\n",
    "\n",
    "\n",
    "con.sql(\"\"\"COMMIT;\"\"\")"
   ]
  },
  {
   "cell_type": "code",
   "execution_count": 12,
   "metadata": {},
   "outputs": [],
   "source": [
    "con.sql(\"\"\"BEGIN TRANSACTION;\"\"\")\n",
    "df = pd.read_csv(\"drugs/cui_indication_8.tsv\", sep='\\t', lineterminator='\\n')\n",
    "\n",
    "for index, row in df.iterrows():\n",
    "    con.execute(\"\"\"\n",
    "              INSERT INTO DrugDisorder (\n",
    "                  drug_cui,\n",
    "                  disorder_cui\n",
    "              ) \n",
    "              SELECT \n",
    "                  $1,\n",
    "                  $2\n",
    "          \"\"\", [\n",
    "              row[\"from\"],\n",
    "              row[\"to\"]\n",
    "          ])\n",
    "  #query = f\"\"\"INSERT INTO DrugDisorder VALUES ('{row[\"from\"]}', '{row[\"to\"]}');\"\"\"\n",
    "  #con.sql(query)\n",
    "\n",
    "\n",
    "\n",
    "con.sql(\"\"\"COMMIT;\"\"\")"
   ]
  },
  {
   "cell_type": "code",
   "execution_count": 13,
   "metadata": {},
   "outputs": [],
   "source": [
    "con.sql(\"\"\"BEGIN TRANSACTION;\"\"\")\n",
    "df = pd.read_csv(\"drugs/cui_moa_8.tsv\", sep='\\t', lineterminator='\\n')\n",
    "\n",
    "for index, row in df.iterrows():\n",
    "  con.execute(\"\"\"\n",
    "              INSERT INTO DrugMOA (\n",
    "                  drug_cui,\n",
    "                  moa_id\n",
    "              ) \n",
    "              SELECT \n",
    "                  $1,\n",
    "                  $2\n",
    "          \"\"\", [\n",
    "              row[\"from\"],\n",
    "              row[\"to\"]\n",
    "          ])\n",
    "  \n",
    "\n",
    "  #query = f\"\"\"INSERT INTO DrugMOA VALUES ('{row[\"from\"]}', '{row[\"to\"]}');\"\"\"\n",
    "  #con.sql(query)\n",
    "\n",
    "\n",
    "con.sql(\"\"\"COMMIT;\"\"\")"
   ]
  },
  {
   "cell_type": "code",
   "execution_count": 14,
   "metadata": {},
   "outputs": [],
   "source": [
    "con.sql(\"\"\"BEGIN TRANSACTION;\"\"\")\n",
    "df = pd.read_csv(\"drugs/ddinter_cui_interaction.tsv\", sep='\\t', lineterminator='\\n')\n",
    "\n",
    "for index, row in df.iterrows():\n",
    "    con.execute(\"\"\"\n",
    "              INSERT INTO DrugDrugInteraction (\n",
    "                  from_cui,\n",
    "                  to_cui,\n",
    "                  level\n",
    "              ) \n",
    "              SELECT \n",
    "                  $1,\n",
    "                  $2,\n",
    "                  $3\n",
    "          \"\"\", [\n",
    "              row[\"from_cui\"],\n",
    "              row[\"to_cui\"],\n",
    "              row[\"level\"]\n",
    "          ])\n",
    "\n",
    "\n",
    "  #query = f\"\"\"INSERT INTO DrugDrugInteraction VALUES ('{row[\"from_cui\"]}', '{row[\"to_cui\"]}', '{row[\"level\"]}');\"\"\"\n",
    "  #con.sql(query)\n",
    "\n",
    "\n",
    "con.sql(\"\"\"COMMIT;\"\"\")"
   ]
  },
  {
   "cell_type": "code",
   "execution_count": 15,
   "metadata": {},
   "outputs": [
    {
     "data": {
      "text/plain": [
       "┌──────────────────────────┐\n",
       "│        drug_name         │\n",
       "│         varchar          │\n",
       "├──────────────────────────┤\n",
       "│ tocopherol acetate       │\n",
       "│ valproic acid            │\n",
       "│ rivastigmine tartrate    │\n",
       "│ aducanumab               │\n",
       "│ galantamine hydrobromide │\n",
       "└──────────────────────────┘"
      ]
     },
     "execution_count": 15,
     "metadata": {},
     "output_type": "execute_result"
    }
   ],
   "source": [
    "con.sql(\"\"\"\n",
    "FROM GRAPH_TABLE (drug_graph\n",
    "  MATCH\n",
    "  (i:Drug)-[m:MAY_TREAT]->(c:Disorder WHERE c.name = 'Alzheimer''s Disease')\n",
    "  COLUMNS (i.name AS drug_name)\n",
    ")\n",
    "LIMIT 5;\n",
    "\"\"\")"
   ]
  },
  {
   "cell_type": "code",
   "execution_count": 16,
   "metadata": {},
   "outputs": [
    {
     "data": {
      "text/plain": [
       "┌──────────────────────────────────────────┐\n",
       "│                 moa_name                 │\n",
       "│                 varchar                  │\n",
       "├──────────────────────────────────────────┤\n",
       "│ Lipoxygenase Inhibitors                  │\n",
       "│ Corticosteroid Hormone Receptor Agonists │\n",
       "│ Glucocorticoid Receptor Agonists         │\n",
       "└──────────────────────────────────────────┘"
      ]
     },
     "execution_count": 16,
     "metadata": {},
     "output_type": "execute_result"
    }
   ],
   "source": [
    "con.sql(\"\"\"FROM GRAPH_TABLE (drug_graph\n",
    "        MATCH\n",
    "        (d:Drug WHERE d.name = 'medrysone')-[h:HAS_MOA]->(m:MOA)\n",
    "        COLUMNS (m.name AS moa_name)\n",
    "      )\n",
    "      LIMIT 5;\"\"\")"
   ]
  },
  {
   "cell_type": "code",
   "execution_count": 17,
   "metadata": {},
   "outputs": [
    {
     "data": {
      "text/plain": [
       "┌──────────┬────────────┬────────────┐\n",
       "│ trial_id │  drug_cui  │ drug_cui_1 │\n",
       "│  int32   │ varchar[]  │  varchar   │\n",
       "├──────────┼────────────┼────────────┤\n",
       "│     4086 │ [C0649350] │ C0649350   │\n",
       "│     4179 │ [C0649350] │ C0649350   │\n",
       "│     4180 │ [C0649350] │ C0649350   │\n",
       "│     4556 │ [C0649350] │ C0649350   │\n",
       "│     4688 │ [C0649350] │ C0649350   │\n",
       "│     4689 │ [C0649350] │ C0649350   │\n",
       "│     4749 │ [C0649350] │ C0649350   │\n",
       "│    19970 │ [C0527316] │ C0527316   │\n",
       "│    19971 │ [C0527316] │ C0527316   │\n",
       "│    19972 │ [C0527316] │ C0527316   │\n",
       "│    19973 │ [C0527316] │ C0527316   │\n",
       "│    19974 │ [C0527316] │ C0527316   │\n",
       "│    19975 │ [C0527316] │ C0527316   │\n",
       "│    19976 │ [C0527316] │ C0527316   │\n",
       "│    19977 │ [C0527316] │ C0527316   │\n",
       "│    19978 │ [C0527316] │ C0527316   │\n",
       "│    19979 │ [C0527316] │ C0527316   │\n",
       "│    19980 │ [C0527316] │ C0527316   │\n",
       "│    20782 │ [C0527316] │ C0527316   │\n",
       "│    20783 │ [C0527316] │ C0527316   │\n",
       "│    20784 │ [C0527316] │ C0527316   │\n",
       "│    21103 │ [C0649350] │ C0649350   │\n",
       "├──────────┴────────────┴────────────┤\n",
       "│ 22 rows                  3 columns │\n",
       "└────────────────────────────────────┘"
      ]
     },
     "execution_count": 17,
     "metadata": {},
     "output_type": "execute_result"
    }
   ],
   "source": [
    "con.sql(\"\"\"\n",
    "SELECT Trials.PostingID as trial_id, Trials.drug_cui, drug_for_disease.drug_cui\n",
    "FROM Trials,\n",
    "    GRAPH_TABLE(\n",
    "            drug_graph\n",
    "                MATCH\n",
    "                (i:Drug)-[m:MAY_TREAT]->(c:Disorder WHERE c.name = 'Alzheimer''s Disease')\n",
    "                COLUMNS (i.drug_cui AS drug_cui)\n",
    "    )  drug_for_disease\n",
    "WHERE list_contains(Trials.drug_cui, drug_for_disease.drug_cui)\n",
    "\"\"\")"
   ]
  },
  {
   "cell_type": "code",
   "execution_count": 18,
   "metadata": {},
   "outputs": [
    {
     "data": {
      "text/plain": [
       "┌──────────┬────────────┬──────────┐\n",
       "│ trial_id │  drug_cui  │ drug_cui │\n",
       "│  int32   │ varchar[]  │ varchar  │\n",
       "├──────────┼────────────┼──────────┤\n",
       "│     4086 │ [C0649350] │ C0649350 │\n",
       "│     4179 │ [C0649350] │ C0649350 │\n",
       "│     4180 │ [C0649350] │ C0649350 │\n",
       "│     4556 │ [C0649350] │ C0649350 │\n",
       "│     4688 │ [C0649350] │ C0649350 │\n",
       "│     4689 │ [C0649350] │ C0649350 │\n",
       "│     4749 │ [C0649350] │ C0649350 │\n",
       "│    21103 │ [C0649350] │ C0649350 │\n",
       "│    19970 │ [C0527316] │ C0527316 │\n",
       "│    19971 │ [C0527316] │ C0527316 │\n",
       "│    19972 │ [C0527316] │ C0527316 │\n",
       "│    19973 │ [C0527316] │ C0527316 │\n",
       "│    19974 │ [C0527316] │ C0527316 │\n",
       "│    19975 │ [C0527316] │ C0527316 │\n",
       "│    19976 │ [C0527316] │ C0527316 │\n",
       "│    19977 │ [C0527316] │ C0527316 │\n",
       "│    19978 │ [C0527316] │ C0527316 │\n",
       "│    19979 │ [C0527316] │ C0527316 │\n",
       "│    19980 │ [C0527316] │ C0527316 │\n",
       "│    20782 │ [C0527316] │ C0527316 │\n",
       "│    20783 │ [C0527316] │ C0527316 │\n",
       "│    20784 │ [C0527316] │ C0527316 │\n",
       "├──────────┴────────────┴──────────┤\n",
       "│ 22 rows                3 columns │\n",
       "└──────────────────────────────────┘"
      ]
     },
     "execution_count": 18,
     "metadata": {},
     "output_type": "execute_result"
    }
   ],
   "source": [
    "con.sql(\"\"\"\n",
    "SELECT Trials.PostingID as trial_id, Trials.drug_cui, Drug.drug_cui\n",
    "FROM Trials, Drug, Disorder, DrugDisorder\n",
    "WHERE Disorder.name = 'Alzheimer''s Disease' \n",
    "  AND Disorder.disorder_cui = DrugDisorder.disorder_cui \n",
    "  AND Drug.drug_cui = DrugDisorder.drug_cui \n",
    "  AND list_contains(Trials.drug_cui, Drug.drug_cui)\n",
    "\"\"\")"
   ]
  },
  {
   "cell_type": "code",
   "execution_count": 19,
   "metadata": {},
   "outputs": [
    {
     "data": {
      "text/plain": [
       "┌──────────┬────────────┬──────────┐\n",
       "│ trial_id │  drug_cui  │ drug_cui │\n",
       "│  int32   │ varchar[]  │ varchar  │\n",
       "├──────────┼────────────┼──────────┤\n",
       "│     4086 │ [C0649350] │ C0649350 │\n",
       "│     4179 │ [C0649350] │ C0649350 │\n",
       "│     4180 │ [C0649350] │ C0649350 │\n",
       "│     4556 │ [C0649350] │ C0649350 │\n",
       "│     4688 │ [C0649350] │ C0649350 │\n",
       "│     4689 │ [C0649350] │ C0649350 │\n",
       "│     4749 │ [C0649350] │ C0649350 │\n",
       "│    19970 │ [C0527316] │ C0527316 │\n",
       "│    19971 │ [C0527316] │ C0527316 │\n",
       "│    19972 │ [C0527316] │ C0527316 │\n",
       "│    19973 │ [C0527316] │ C0527316 │\n",
       "│    19974 │ [C0527316] │ C0527316 │\n",
       "│    19975 │ [C0527316] │ C0527316 │\n",
       "│    19976 │ [C0527316] │ C0527316 │\n",
       "│    19977 │ [C0527316] │ C0527316 │\n",
       "│    19978 │ [C0527316] │ C0527316 │\n",
       "│    19979 │ [C0527316] │ C0527316 │\n",
       "│    19980 │ [C0527316] │ C0527316 │\n",
       "│    20782 │ [C0527316] │ C0527316 │\n",
       "│    20783 │ [C0527316] │ C0527316 │\n",
       "│    20784 │ [C0527316] │ C0527316 │\n",
       "│    21103 │ [C0649350] │ C0649350 │\n",
       "├──────────┴────────────┴──────────┤\n",
       "│ 22 rows                3 columns │\n",
       "└──────────────────────────────────┘"
      ]
     },
     "execution_count": 19,
     "metadata": {},
     "output_type": "execute_result"
    }
   ],
   "source": [
    "con.sql(\"\"\"\n",
    "SELECT Trials.PostingID as trial_id, Trials.drug_cui, Drug.drug_cui\n",
    "FROM Trials, Drug\n",
    "JOIN DrugDisorder dd ON Drug.drug_cui = dd.drug_cui\n",
    "JOIN Disorder d ON dd.disorder_cui = d.disorder_cui\n",
    "WHERE d.name = 'Alzheimer''s Disease' AND list_contains(Trials.drug_cui, Drug.drug_cui)\n",
    "\"\"\")"
   ]
  },
  {
   "cell_type": "code",
   "execution_count": 20,
   "metadata": {},
   "outputs": [
    {
     "data": {
      "text/plain": [
       "┌──────────────────────┬───────────────────────────────────────────────────────────────────────────────────────────────────────────────────────────────────────────────────────────────────────────────────────────────────────────────────────────────────────────────────────────────────────────────────────────────────────────────────────────────────────────────────────────────────────────────────────────────────────┐\n",
       "│         name         │                                                                                                                                                                                              definition                                                                                                                                                                                               │\n",
       "│       varchar        │                                                                                                                                                                                                varchar                                                                                                                                                                                                │\n",
       "├──────────────────────┼───────────────────────────────────────────────────────────────────────────────────────────────────────────────────────────────────────────────────────────────────────────────────────────────────────────────────────────────────────────────────────────────────────────────────────────────────────────────────────────────────────────────────────────────────────────────────────────────────────┤\n",
       "│ Arthropathy          │ Diseases involving the JOINTS.                                                                                                                                                                                                                                                                                                                                                                        │\n",
       "│ Spondylarthropathies │ Heterogeneous group of arthritic diseases sharing clinical and radiologic features. They are associated with the HLA-B27 ANTIGEN and some with a triggering infection. Most involve the axial joints in the SPINE, particularly the SACROILIAC JOINT, but can also involve asymmetric peripheral joints. Subsets include ANKYLOSING SPONDYLITIS; REACTIVE ARTHRITIS; PSORIATIC ARTHRITIS; and others. │\n",
       "│ Rheumatoid Arthritis │ A chronic systemic disease, primarily of the joints, marked by inflammatory changes in the synovial membranes and articular structures, widespread fibrinoid degeneration of the collagen fibers in mesenchymal tissues, and by atrophy and rarefaction of bony structures. Etiology is unknown, but autoimmune mechanisms have been implicated.                                                      │\n",
       "└──────────────────────┴───────────────────────────────────────────────────────────────────────────────────────────────────────────────────────────────────────────────────────────────────────────────────────────────────────────────────────────────────────────────────────────────────────────────────────────────────────────────────────────────────────────────────────────────────────────────────────────────────────┘"
      ]
     },
     "execution_count": 20,
     "metadata": {},
     "output_type": "execute_result"
    }
   ],
   "source": [
    "question = \"joint-related disease\"\n",
    "\n",
    "question_embedding = get_embedding(question)\n",
    "\n",
    "con.sql(f\"\"\"\n",
    "SELECT name, definition\n",
    "FROM Disorder\n",
    "ORDER BY array_distance(definitionEmbedding, {question_embedding}::FLOAT[1536])\n",
    "LIMIT 3;\n",
    "\"\"\")\n",
    "\n"
   ]
  },
  {
   "cell_type": "code",
   "execution_count": 21,
   "metadata": {},
   "outputs": [
    {
     "data": {
      "text/plain": [
       "┌──────────┬──────────────────────┬────────────────────┐\n",
       "│ trial_id │         name         │     drug_name      │\n",
       "│  int32   │       varchar        │      varchar       │\n",
       "├──────────┼──────────────────────┼────────────────────┤\n",
       "│     4829 │ Rheumatoid Arthritis │ certolizumab pegol │\n",
       "│     4774 │ Rheumatoid Arthritis │ aspirin            │\n",
       "│     4775 │ Rheumatoid Arthritis │ aspirin            │\n",
       "│     3610 │ Rheumatoid Arthritis │ nabumetone         │\n",
       "│      121 │ Rheumatoid Arthritis │ naproxen           │\n",
       "│      122 │ Rheumatoid Arthritis │ naproxen           │\n",
       "│      123 │ Rheumatoid Arthritis │ naproxen           │\n",
       "│     3474 │ Rheumatoid Arthritis │ naproxen           │\n",
       "│     3475 │ Rheumatoid Arthritis │ naproxen           │\n",
       "│     3476 │ Rheumatoid Arthritis │ naproxen           │\n",
       "│       ·  │          ·           │    ·               │\n",
       "│       ·  │          ·           │    ·               │\n",
       "│       ·  │          ·           │    ·               │\n",
       "│     3489 │ Rheumatoid Arthritis │ naproxen           │\n",
       "│     3490 │ Rheumatoid Arthritis │ naproxen           │\n",
       "│     3491 │ Rheumatoid Arthritis │ naproxen           │\n",
       "│     3492 │ Rheumatoid Arthritis │ naproxen           │\n",
       "│     3493 │ Rheumatoid Arthritis │ naproxen           │\n",
       "│     3494 │ Rheumatoid Arthritis │ naproxen           │\n",
       "│     3495 │ Rheumatoid Arthritis │ naproxen           │\n",
       "│     3496 │ Rheumatoid Arthritis │ naproxen           │\n",
       "│     4005 │ Rheumatoid Arthritis │ enalapril          │\n",
       "│    19531 │ Rheumatoid Arthritis │ meloxicam          │\n",
       "├──────────┴──────────────────────┴────────────────────┤\n",
       "│ 32 rows (20 shown)                         3 columns │\n",
       "└──────────────────────────────────────────────────────┘"
      ]
     },
     "execution_count": 21,
     "metadata": {},
     "output_type": "execute_result"
    }
   ],
   "source": [
    "con.sql(f\"\"\"\n",
    "SELECT Trials.PostingID AS trial_id, target_disease.name, drug_for_disorder.drug_name FROM \n",
    "  Trials, (\n",
    "  SELECT disorder_cui, name\n",
    "    FROM Disorder\n",
    "    ORDER BY array_distance(definitionEmbedding, {question_embedding}::FLOAT[1536])\n",
    "    LIMIT 3\n",
    "  ) target_disease,\n",
    "  GRAPH_TABLE(\n",
    "    drug_graph\n",
    "      MATCH (i:Drug)-[m:MAY_TREAT]->(c:Disorder)\n",
    "      COLUMNS (i.drug_cui AS drug_cui, i.name AS drug_name,c.disorder_cui AS disorder_cui)\n",
    "    )  drug_for_disorder\n",
    "WHERE target_disease.disorder_cui = drug_for_disorder.disorder_cui AND list_contains(Trials.drug_cui, drug_for_disorder.drug_cui)\n",
    "\"\"\")"
   ]
  },
  {
   "cell_type": "code",
   "execution_count": 22,
   "metadata": {},
   "outputs": [
    {
     "data": {
      "text/plain": [
       "┌──────────────────────────────────┐\n",
       "│             moa_name             │\n",
       "│             varchar              │\n",
       "├──────────────────────────────────┤\n",
       "│ Free Radical Scavenging Activity │\n",
       "│ GABA B Receptor Interactions     │\n",
       "│ GABA A Receptor Interactions     │\n",
       "│ Monoamine Oxidase Inhibitors     │\n",
       "│ Monoamine Oxidase-B Inhibitors   │\n",
       "└──────────────────────────────────┘"
      ]
     },
     "execution_count": 22,
     "metadata": {},
     "output_type": "execute_result"
    }
   ],
   "source": [
    "con.sql(\"\"\"\n",
    "                    FROM GRAPH_TABLE (drug_graph\n",
    "                    MATCH\n",
    "                    (mo:MOA)<-[h:HAS_MOA]-(i:Drug)-[m:MAY_TREAT]->(c:Disorder WHERE c.name = 'Alzheimer''s Disease')\n",
    "                    COLUMNS (mo.name AS moa_name)\n",
    "                    )\n",
    "                    LIMIT 5;\n",
    "\"\"\")"
   ]
  },
  {
   "cell_type": "code",
   "execution_count": 23,
   "metadata": {},
   "outputs": [
    {
     "data": {
      "text/plain": [
       "┌─────────────────────┐\n",
       "│    disorder_name    │\n",
       "│       varchar       │\n",
       "├─────────────────────┤\n",
       "│ Alzheimer's Disease │\n",
       "│ Epilepsy            │\n",
       "│ Bipolar Disorder    │\n",
       "│ Absence Epilepsy    │\n",
       "│ Mood Disorders      │\n",
       "└─────────────────────┘"
      ]
     },
     "execution_count": 23,
     "metadata": {},
     "output_type": "execute_result"
    }
   ],
   "source": [
    "con.sql(\"\"\"\n",
    "                    FROM GRAPH_TABLE (drug_graph\n",
    "                    MATCH\n",
    "                    (mo:MOA WHERE mo.name = 'GABA B Receptor Interactions')<-[h:HAS_MOA]-(i:Drug)-[m:MAY_TREAT]->(c:Disorder)\n",
    "                    COLUMNS (c.name AS disorder_name)\n",
    "                    )\n",
    "                    LIMIT 5;\n",
    "\"\"\")"
   ]
  },
  {
   "cell_type": "code",
   "execution_count": 24,
   "metadata": {},
   "outputs": [
    {
     "data": {
      "text/plain": [
       "┌───────────────────────────────────────────────────────────────────────────────────────────────────────────────────────────────────────────────────────────────────────────────────────────────────────────────────────────────────────────────────────────────────────────────────────┬──────────┐\n",
       "│                                                                                                                                      StudyTitle                                                                                                                                       │ drug_cui │\n",
       "│                                                                                                                                        varchar                                                                                                                                        │ varchar  │\n",
       "├───────────────────────────────────────────────────────────────────────────────────────────────────────────────────────────────────────────────────────────────────────────────────────────────────────────────────────────────────────────────────────────────────────────────────────┼──────────┤\n",
       "│ A 24-week, Multicenter, Randomized, Double-blind, Placebo-controlled, Parallel-group, Dose-finding Evaluation of the Efficacy, Safety, and Tolerability of the Once-daily Rivastigmine Transdermal Patch in Patients With Probable Alzheimer's Disease (MMSE 10-20)                   │ C0649350 │\n",
       "│ A Prospective, Randomized, Multicenter, Double-Blind, Placebo-Controlled, Parallel-Group Study of the Effect of Rivastigmine on the Time to Clinical Diagnosis of Alzheimer’s Disease in Subjects with Mild Cognitive Impairment (MCI)                                                │ C0649350 │\n",
       "│ A 24-week Prospective, Randomized, Multicenter, Double-Blind, Placebo-Controlled, Parallel-Group Study of the Efficacy, Tolerability, and Safety of 3-12 mg/day of Rivastigmine Capsules in Patients with Parkinson’s Disease Dementia                                                │ C0649350 │\n",
       "│ A 76-week Prospective, Open-label, Multicenter Study to Evaluate the Long-term Effect of Rivastigmine Capsule and Transdermal Patch on Worsening of the Underlying Motor Symptoms of PD in Patients With Mild to Moderately Severe Dementia Associated With Parkinson's Disease (PDD) │ C0649350 │\n",
       "│ Efficacy and Safety of the Rivastigmine Transdermal Patch in Patients With Probable Alzheimer's Disease                                                                                                                                                                               │ C0649350 │\n",
       "└───────────────────────────────────────────────────────────────────────────────────────────────────────────────────────────────────────────────────────────────────────────────────────────────────────────────────────────────────────────────────────────────────────────────────────┴──────────┘"
      ]
     },
     "execution_count": 24,
     "metadata": {},
     "output_type": "execute_result"
    }
   ],
   "source": [
    "con.sql(\"\"\"\n",
    "    SELECT Trials.StudyTitle as StudyTitle, drug_for_disease.drug_cui\n",
    "    FROM Trials,\n",
    "    GRAPH_TABLE(\n",
    "        drug_graph\n",
    "        MATCH\n",
    "        (i:Drug)-[m:MAY_TREAT]->(c:Disorder WHERE c.name = 'Alzheimer''s Disease')\n",
    "        COLUMNS (i.drug_cui AS drug_cui)\n",
    "    )  drug_for_disease\n",
    "    WHERE list_contains(Trials.drug_cui, drug_for_disease.drug_cui)\n",
    "    LIMIT 5;\n",
    "\"\"\")"
   ]
  },
  {
   "cell_type": "code",
   "execution_count": 25,
   "metadata": {},
   "outputs": [
    {
     "data": {
      "text/plain": [
       "┌──────────┬─────────┬─────────────┐\n",
       "│ Sponsor  │  Phase  │ trial_count │\n",
       "│ varchar  │ varchar │    int64    │\n",
       "├──────────┼─────────┼─────────────┤\n",
       "│ GSK      │ Phase 1 │          27 │\n",
       "│ GSK      │ Phase 2 │           6 │\n",
       "│ GSK      │ Phase 3 │          39 │\n",
       "│ GSK      │ Phase 4 │          80 │\n",
       "│ GSK      │ nan     │           3 │\n",
       "│ Novartis │ Phase 2 │           1 │\n",
       "└──────────┴─────────┴─────────────┘"
      ]
     },
     "execution_count": 25,
     "metadata": {},
     "output_type": "execute_result"
    }
   ],
   "source": [
    "con.sql(\"\"\"\n",
    "SELECT Sponsor, Phase, COUNT(PostingID) AS trial_count\n",
    "                FROM Trials, Drug\n",
    "                WHERE LOWER(Drug.name) = LOWER('Fluticasone pRopionate') AND list_contains(Trials.drug_cui, Drug.drug_cui)\n",
    "                GROUP BY Sponsor, Phase\n",
    "                ORDER BY Sponsor, Phase;\n",
    "\"\"\")"
   ]
  },
  {
   "cell_type": "code",
   "execution_count": 26,
   "metadata": {},
   "outputs": [
    {
     "data": {
      "text/plain": [
       "┌────────────────────┐\n",
       "│        name        │\n",
       "│      varchar       │\n",
       "├────────────────────┤\n",
       "│ Hand Dermatoses    │\n",
       "│ Foot Dermatoses    │\n",
       "│ Dermatitis, Atopic │\n",
       "│ Scalp Dermatoses   │\n",
       "│ Psoriasis          │\n",
       "│ Inflammation       │\n",
       "│ Facial Dermatoses  │\n",
       "│ Pruritus           │\n",
       "│ Leg Dermatoses     │\n",
       "└────────────────────┘"
      ]
     },
     "execution_count": 26,
     "metadata": {},
     "output_type": "execute_result"
    }
   ],
   "source": [
    "con.sql(\"\"\"\n",
    "SELECT Disorder.name \n",
    "                        FROM DrugDisorder, Drug, Disorder\n",
    "                        WHERE DrugDisorder.drug_cui = Drug.drug_cui\n",
    "                        AND DrugDisorder.disorder_cui = Disorder.disorder_cui\n",
    "                        AND LOWER(Drug.name) = LOWER('fluocinolone acetonide');\n",
    "\"\"\")"
   ]
  },
  {
   "cell_type": "code",
   "execution_count": 27,
   "metadata": {},
   "outputs": [
    {
     "name": "stderr",
     "output_type": "stream",
     "text": [
      "344it [00:00, 1117.56it/s]"
     ]
    },
    {
     "name": "stdout",
     "output_type": "stream",
     "text": [
      "Import completed successfully!\n"
     ]
    },
    {
     "name": "stderr",
     "output_type": "stream",
     "text": [
      "\n"
     ]
    }
   ],
   "source": [
    "root = \"/Users/dgg32/Documents/drug_atc\"\n",
    "\n",
    "json_dir = f\"{root}/test/clincalc_json/\"\n",
    "\n",
    "re_rank = re.compile(r'#(\\d+) \\(.+?\\)')\n",
    "\n",
    "con.sql(\"BEGIN TRANSACTION;\")\n",
    "\n",
    "try:\n",
    "    pathlist = Path(json_dir).rglob('*.json')\n",
    "    for path in tqdm(pathlist):\n",
    "        with open(path, 'r') as file:\n",
    "            data = json.load(file)\n",
    "            \n",
    "            # Clean up data\n",
    "            # Handle ≤ symbol in summary\n",
    "            for f in data[\"summary\"]:\n",
    "                if isinstance(data[\"summary\"][f], str) and \"\\u2264\" in data[\"summary\"][f]:\n",
    "                    data[\"summary\"][f] = float(data[\"summary\"][f].replace(\"\\u2264\", \"\"))\n",
    "                if isinstance(data[\"summary\"][f], str) and re_rank.match(data[\"summary\"][f]):\n",
    "                    data[\"summary\"][f] = int(re_rank.match(data[\"summary\"][f]).group(1))\n",
    "            \n",
    "            # Handle optional arrays\n",
    "            data[\"dosage_distribution\"] = data.get(\"dosage_distribution\", [])\n",
    "            data[\"brand_name_synonyms\"] = data.get(\"brand_name_synonyms\", [])\n",
    "            data[\"generic_drug_synonyms\"] = data.get(\"generic_drug_synonyms\", [])\n",
    "            \n",
    "            # Use parameterized query instead of string formatting\n",
    "            con.execute(\"\"\"\n",
    "                INSERT INTO Prescription (\n",
    "                    name, \n",
    "                    id, \n",
    "                    therapeutic_classes,\n",
    "                    brand_name_synonyms,\n",
    "                    generic_drug_synonyms,\n",
    "                    initial_FDA_approval_date,\n",
    "                    \"Top drug rank (2022)\",\n",
    "                    \"Estimated number of prescriptions in the United States (2022)\",\n",
    "                    \"Estimated number of patients in the United States (2022)\",\n",
    "                    \"Average total drug cost (USD)_Per prescription\",\n",
    "                    \"Average total drug cost (USD)_Per day of therapy\",\n",
    "                    \"Average out-of-pocket cost (USD)_Per prescription\",\n",
    "                    \"Average out-of-pocket cost (USD)_Per day of therapy\",\n",
    "                    prescriptions_over_time,\n",
    "                    prescription_cost_over_time,\n",
    "                    cost_per_day_over_time,\n",
    "                    rank_over_time,\n",
    "                    dosage_distribution\n",
    "                ) \n",
    "                SELECT \n",
    "                    $1,\n",
    "                    $2,\n",
    "                    $3::VARCHAR[],\n",
    "                    $4::VARCHAR[],\n",
    "                    $5::VARCHAR[],\n",
    "                    $6,\n",
    "                    $7,\n",
    "                    $8,\n",
    "                    $9,\n",
    "                    $10,\n",
    "                    $11,\n",
    "                    $12,\n",
    "                    $13,\n",
    "                    $14,\n",
    "                    $15,\n",
    "                    $16,\n",
    "                    $17,\n",
    "                    $18\n",
    "            \"\"\", [\n",
    "                data[\"name\"],\n",
    "                data[\"id\"],\n",
    "                data[\"therapeutic_classes\"],\n",
    "                data[\"brand_name_synonyms\"],\n",
    "                data[\"generic_drug_synonyms\"],\n",
    "                data[\"initial_FDA_approval_date\"],\n",
    "                data[\"summary\"][\"Top drug rank\"],\n",
    "                data[\"summary\"][\"Estimated number of prescriptions in the United States (2022)\"],\n",
    "                data[\"summary\"][\"Estimated number of patients in the United States (2022)\"],\n",
    "                data[\"summary\"][\"Average total drug cost (USD)_Per prescription\"],\n",
    "                data[\"summary\"][\"Average total drug cost (USD)_Per day of therapy\"],\n",
    "                data[\"summary\"][\"Average out-of-pocket cost (USD)_Per prescription\"],\n",
    "                data[\"summary\"][\"Average out-of-pocket cost (USD)_Per day of therapy\"],\n",
    "                data[\"prescriptions_over_time\"],\n",
    "                data[\"prescription_cost_over_time\"],\n",
    "                data[\"cost_per_day_over_time\"],\n",
    "                data[\"rank_over_time\"],\n",
    "                data[\"dosage_distribution\"]\n",
    "            ])\n",
    "\n",
    "            con.execute(\"\"\"\n",
    "                INSERT INTO PrescriptionRelatedDrugs (from_id, to_id)\n",
    "                SELECT $1, unnest($2::VARCHAR[])\n",
    "            \"\"\", [\n",
    "                data[\"id\"],\n",
    "                data.get(\"related_drugs\", [])\n",
    "            ])\n",
    "            \n",
    "    # Commit transaction if everything succeeded\n",
    "    con.sql(\"COMMIT;\")\n",
    "    print(\"Import completed successfully!\")\n",
    "    \n",
    "except Exception as e:\n",
    "    # Rollback transaction if there was an error\n",
    "    con.sql(\"ROLLBACK;\")\n",
    "    print(f\"Error occurred: {e}\")\n",
    "    raise\n"
   ]
  },
  {
   "cell_type": "code",
   "execution_count": 28,
   "metadata": {},
   "outputs": [],
   "source": [
    "con.sql(\"BEGIN TRANSACTION;\")\n",
    "\n",
    "#prescription_substance = {}\n",
    "\n",
    "for index, row in pd.read_csv(f\"{root}/test/top_344_drugs_manual_annotated.tsv\", sep=\"\\t\").iterrows():\n",
    "    con.execute(\"\"\"\n",
    "                INSERT INTO PrescriptionSubstance (from_id, to_cui)\n",
    "                SELECT $1, unnest($2::VARCHAR[])\n",
    "            \"\"\", [\n",
    "                row[\"id\"],\n",
    "                [x.strip() for x in row[\"CUI\"].split(\";\")]\n",
    "            ])\n",
    "    \n",
    "    # for cui, name in zip(row[\"CUI\"].split(\";\"), row[\"Preferred_Name\"].split(\";\")):\n",
    "    #     prescription_substance[cui] = name\n",
    "    #con.execute(\"INSERT INTO PrescriptionSubstance (from_id, to_cui) VALUES (?, ?)\", [row[\"Drug_Name\"], row[\"CUI\"]])\n",
    "\n",
    "con.sql(\"COMMIT;\")"
   ]
  },
  {
   "cell_type": "code",
   "execution_count": 29,
   "metadata": {},
   "outputs": [
    {
     "data": {
      "application/vnd.microsoft.datawrangler.viewer.v0+json": {
       "columns": [
        {
         "name": "index",
         "rawType": "int64",
         "type": "integer"
        },
        {
         "name": "from_id",
         "rawType": "object",
         "type": "string"
        },
        {
         "name": "to_cui",
         "rawType": "object",
         "type": "string"
        }
       ],
       "conversionMethod": "pd.DataFrame",
       "ref": "acb0aa08-945a-4edf-84fc-e53a216738ba",
       "rows": [
        [
         "0",
         "Drugs/Dapagliflozin",
         "C2353951"
        ],
        [
         "1",
         "Drugs/UmeclidiniumVilanterol",
         "C3661274"
        ],
        [
         "2",
         "Drugs/UmeclidiniumVilanterol",
         "C2935023"
        ],
        [
         "3",
         "Drugs/DextromethorphanGuaifenesinPhenylephrine",
         "C0011816"
        ],
        [
         "4",
         "Drugs/DextromethorphanGuaifenesinPhenylephrine",
         "C0018305"
        ],
        [
         "5",
         "Drugs/DextromethorphanGuaifenesinPhenylephrine",
         "C0031469"
        ],
        [
         "6",
         "Drugs/Pseudoephedrine",
         "C0033798"
        ],
        [
         "7",
         "Drugs/Hydroxychloroquine",
         "C0020336"
        ],
        [
         "8",
         "Drugs/CitricAcidPotassiumCitrate",
         "C0055819"
        ],
        [
         "9",
         "Drugs/CitricAcidPotassiumCitrate",
         "C0137996"
        ],
        [
         "10",
         "Drugs/Ciclopirox",
         "C0055711"
        ],
        [
         "11",
         "Drugs/Ofloxacin",
         "C0028902"
        ],
        [
         "12",
         "Drugs/Alendronate",
         "C0102118"
        ],
        [
         "13",
         "Drugs/Nifedipine",
         "C0028066"
        ],
        [
         "14",
         "Drugs/AzelastineFluticasone",
         "C0052762"
        ],
        [
         "15",
         "Drugs/AzelastineFluticasone",
         "C0082607"
        ],
        [
         "16",
         "Drugs/Lidocaine",
         "C0023660"
        ],
        [
         "17",
         "Drugs/Omega3AcidEthylEsters",
         "C1532673"
        ],
        [
         "18",
         "Drugs/PolyethyleneGlycol3350WithElectrolytes",
         "C1657003"
        ],
        [
         "19",
         "Drugs/Trifarotene",
         "C4519213"
        ],
        [
         "20",
         "Drugs/ChlorpheniraminePhenylephrine",
         "C0008281"
        ],
        [
         "21",
         "Drugs/ChlorpheniraminePhenylephrine",
         "C0031469"
        ],
        [
         "22",
         "Drugs/Bepotastine",
         "C2698371"
        ],
        [
         "23",
         "Drugs/Fluoxetine",
         "C0016365"
        ],
        [
         "24",
         "Drugs/Nitroglycerin",
         "C0017887"
        ],
        [
         "25",
         "Drugs/DrospirenoneEthinylEstradiolLevomefolate",
         "C0043822"
        ],
        [
         "26",
         "Drugs/DrospirenoneEthinylEstradiolLevomefolate",
         "C0015011"
        ],
        [
         "27",
         "Drugs/DrospirenoneEthinylEstradiolLevomefolate",
         "C2939773"
        ],
        [
         "28",
         "Drugs/Ramipril",
         "C0072973"
        ],
        [
         "29",
         "Drugs/Lovastatin",
         "C0024027"
        ],
        [
         "30",
         "Drugs/Phentermine",
         "C0031447"
        ],
        [
         "31",
         "Drugs/Tramadol",
         "C0040610"
        ],
        [
         "32",
         "Drugs/NeomycinPolymyxinBHydrocortisone",
         "C0027603"
        ],
        [
         "33",
         "Drugs/NeomycinPolymyxinBHydrocortisone",
         "C0032535"
        ],
        [
         "34",
         "Drugs/NeomycinPolymyxinBHydrocortisone",
         "C0020268"
        ],
        [
         "35",
         "Drugs/Allopurinol",
         "C0002144"
        ],
        [
         "36",
         "Drugs/Moxifloxacin",
         "C0536495"
        ],
        [
         "37",
         "Drugs/Pramipexole",
         "C0074710"
        ],
        [
         "38",
         "Drugs/InsulinDetemir",
         "C0537270"
        ],
        [
         "39",
         "Drugs/Tretinoin",
         "C0040845"
        ],
        [
         "40",
         "Drugs/Ranolazine",
         "C0073633"
        ],
        [
         "41",
         "Drugs/InsulinGlargine",
         "C0907402"
        ],
        [
         "42",
         "Drugs/Guaifenesin",
         "C0018305"
        ],
        [
         "43",
         "Drugs/Dexlansoprazole",
         "C2348248"
        ],
        [
         "44",
         "Drugs/HydrochlorothiazideLosartan",
         "C0020261"
        ],
        [
         "45",
         "Drugs/HydrochlorothiazideLosartan",
         "C0126174"
        ],
        [
         "46",
         "Drugs/Irbesartan",
         "C0288171"
        ],
        [
         "47",
         "Drugs/HydrochlorothiazideOlmesartan",
         "C0020261"
        ],
        [
         "48",
         "Drugs/HydrochlorothiazideOlmesartan",
         "C1098320"
        ],
        [
         "49",
         "Drugs/Adalimumab",
         "C1122087"
        ]
       ],
       "shape": {
        "columns": 2,
        "rows": 441
       }
      },
      "text/html": [
       "<div>\n",
       "<style scoped>\n",
       "    .dataframe tbody tr th:only-of-type {\n",
       "        vertical-align: middle;\n",
       "    }\n",
       "\n",
       "    .dataframe tbody tr th {\n",
       "        vertical-align: top;\n",
       "    }\n",
       "\n",
       "    .dataframe thead th {\n",
       "        text-align: right;\n",
       "    }\n",
       "</style>\n",
       "<table border=\"1\" class=\"dataframe\">\n",
       "  <thead>\n",
       "    <tr style=\"text-align: right;\">\n",
       "      <th></th>\n",
       "      <th>from_id</th>\n",
       "      <th>to_cui</th>\n",
       "    </tr>\n",
       "  </thead>\n",
       "  <tbody>\n",
       "    <tr>\n",
       "      <th>0</th>\n",
       "      <td>Drugs/Dapagliflozin</td>\n",
       "      <td>C2353951</td>\n",
       "    </tr>\n",
       "    <tr>\n",
       "      <th>1</th>\n",
       "      <td>Drugs/UmeclidiniumVilanterol</td>\n",
       "      <td>C3661274</td>\n",
       "    </tr>\n",
       "    <tr>\n",
       "      <th>2</th>\n",
       "      <td>Drugs/UmeclidiniumVilanterol</td>\n",
       "      <td>C2935023</td>\n",
       "    </tr>\n",
       "    <tr>\n",
       "      <th>3</th>\n",
       "      <td>Drugs/DextromethorphanGuaifenesinPhenylephrine</td>\n",
       "      <td>C0011816</td>\n",
       "    </tr>\n",
       "    <tr>\n",
       "      <th>4</th>\n",
       "      <td>Drugs/DextromethorphanGuaifenesinPhenylephrine</td>\n",
       "      <td>C0018305</td>\n",
       "    </tr>\n",
       "    <tr>\n",
       "      <th>...</th>\n",
       "      <td>...</td>\n",
       "      <td>...</td>\n",
       "    </tr>\n",
       "    <tr>\n",
       "      <th>436</th>\n",
       "      <td>Drugs/Metformin</td>\n",
       "      <td>C0025598</td>\n",
       "    </tr>\n",
       "    <tr>\n",
       "      <th>437</th>\n",
       "      <td>Drugs/AcetaminophenOxycodone</td>\n",
       "      <td>C0000970</td>\n",
       "    </tr>\n",
       "    <tr>\n",
       "      <th>438</th>\n",
       "      <td>Drugs/AcetaminophenOxycodone</td>\n",
       "      <td>C0030049</td>\n",
       "    </tr>\n",
       "    <tr>\n",
       "      <th>439</th>\n",
       "      <td>Drugs/Sildenafil</td>\n",
       "      <td>C0529793</td>\n",
       "    </tr>\n",
       "    <tr>\n",
       "      <th>440</th>\n",
       "      <td>Drugs/Fluconazole</td>\n",
       "      <td>C0016277</td>\n",
       "    </tr>\n",
       "  </tbody>\n",
       "</table>\n",
       "<p>441 rows × 2 columns</p>\n",
       "</div>"
      ],
      "text/plain": [
       "                                            from_id    to_cui\n",
       "0                               Drugs/Dapagliflozin  C2353951\n",
       "1                      Drugs/UmeclidiniumVilanterol  C3661274\n",
       "2                      Drugs/UmeclidiniumVilanterol  C2935023\n",
       "3    Drugs/DextromethorphanGuaifenesinPhenylephrine  C0011816\n",
       "4    Drugs/DextromethorphanGuaifenesinPhenylephrine  C0018305\n",
       "..                                              ...       ...\n",
       "436                                 Drugs/Metformin  C0025598\n",
       "437                    Drugs/AcetaminophenOxycodone  C0000970\n",
       "438                    Drugs/AcetaminophenOxycodone  C0030049\n",
       "439                                Drugs/Sildenafil  C0529793\n",
       "440                               Drugs/Fluconazole  C0016277\n",
       "\n",
       "[441 rows x 2 columns]"
      ]
     },
     "execution_count": 29,
     "metadata": {},
     "output_type": "execute_result"
    }
   ],
   "source": [
    "con.execute(\"SELECT * FROM PrescriptionSubstance\").fetch_df()"
   ]
  },
  {
   "cell_type": "code",
   "execution_count": 30,
   "metadata": {},
   "outputs": [
    {
     "data": {
      "text/plain": [
       "┌──────────────┐\n",
       "│ count_star() │\n",
       "│    int64     │\n",
       "├──────────────┤\n",
       "│          344 │\n",
       "└──────────────┘"
      ]
     },
     "execution_count": 30,
     "metadata": {},
     "output_type": "execute_result"
    }
   ],
   "source": [
    "con.sql(\"\"\"\n",
    "    SELECT COUNT(*) FROM\n",
    "    Prescription\n",
    "\"\"\")"
   ]
  },
  {
   "cell_type": "code",
   "execution_count": 31,
   "metadata": {},
   "outputs": [
    {
     "data": {
      "text/plain": [
       "┌─────────────────────────────────────────────────────────────────────────────────────────────┐\n",
       "│ (list_filter(Pre.prescriptions_over_time, (x -> (x.\"year\" = 2022)))[1]).total_prescriptions │\n",
       "│                                            int64                                            │\n",
       "├─────────────────────────────────────────────────────────────────────────────────────────────┤\n",
       "│                                                                                    18201857 │\n",
       "└─────────────────────────────────────────────────────────────────────────────────────────────┘"
      ]
     },
     "execution_count": 31,
     "metadata": {},
     "output_type": "execute_result"
    }
   ],
   "source": [
    "con.sql(\"\"\"\n",
    "    SELECT list_filter(Pre.prescriptions_over_time, x -> x.year = 2022)[1].total_prescriptions FROM\n",
    "    GRAPH_TABLE(\n",
    "        drug_graph\n",
    "        MATCH\n",
    "        (p:Prescription)-[m:CONTAINS_SUBSTANCE]->(d:Drug WHERE d.name = 'prednisone')\n",
    "        COLUMNS (p.prescriptions_over_time AS prescriptions_over_time)\n",
    "    ) Pre\n",
    "\"\"\")"
   ]
  },
  {
   "cell_type": "code",
   "execution_count": 32,
   "metadata": {},
   "outputs": [
    {
     "data": {
      "text/plain": [
       "┌─────────────────────┐\n",
       "│ total_prescriptions │\n",
       "│        int64        │\n",
       "├─────────────────────┤\n",
       "│            18201857 │\n",
       "└─────────────────────┘"
      ]
     },
     "execution_count": 32,
     "metadata": {},
     "output_type": "execute_result"
    }
   ],
   "source": [
    "con.sql(\"\"\"\n",
    "    SELECT t.unnest.total_prescriptions\n",
    "    FROM\n",
    "    GRAPH_TABLE(\n",
    "        drug_graph\n",
    "        MATCH\n",
    "        (p:Prescription)-[m:CONTAINS_SUBSTANCE]->(d:Drug WHERE d.name = 'prednisone')\n",
    "        COLUMNS (p.prescriptions_over_time AS prescriptions_over_time)\n",
    "    ) Pre,\n",
    "    unnest(Pre.prescriptions_over_time) AS t\n",
    "    WHERE t.unnest.year = 2022\n",
    "\"\"\")"
   ]
  },
  {
   "cell_type": "code",
   "execution_count": 33,
   "metadata": {},
   "outputs": [
    {
     "data": {
      "text/plain": [
       "┌───────────────────────────────────────┬────────────┐\n",
       "│                 name1                 │   name2    │\n",
       "│                varchar                │  varchar   │\n",
       "├───────────────────────────────────────┼────────────┤\n",
       "│ Fluocinolone; Hydroquinone; Tretinoin │ Prednisone │\n",
       "│ Budesonide                            │ Prednisone │\n",
       "│ Betamethasone; Clotrimazole           │ Prednisone │\n",
       "│ Hydrocortisone                        │ Prednisone │\n",
       "│ Betamethasone                         │ Prednisone │\n",
       "│ Fluticasone; Salmeterol               │ Prednisone │\n",
       "│ Fluticasone                           │ Prednisone │\n",
       "│ Mometasone                            │ Prednisone │\n",
       "│ Ciprofloxacin; Dexamethasone          │ Prednisone │\n",
       "│ Triamcinolone                         │ Prednisone │\n",
       "│ Fluticasone; Vilanterol               │ Prednisone │\n",
       "│ Prednisolone                          │ Prednisone │\n",
       "│ Methylprednisolone                    │ Prednisone │\n",
       "│ Dexamethasone                         │ Prednisone │\n",
       "│ Budesonide; Formoterol                │ Prednisone │\n",
       "│ Fluticasone; Umeclidinium; Vilanterol │ Prednisone │\n",
       "│ Dexamethasone; Neomycin; Polymyxin B  │ Prednisone │\n",
       "│ Clobetasol                            │ Prednisone │\n",
       "│ Azelastine; Fluticasone               │ Prednisone │\n",
       "│ Neomycin; Polymyxin B; Hydrocortisone │ Prednisone │\n",
       "│ Fluocinonide                          │ Prednisone │\n",
       "├───────────────────────────────────────┴────────────┤\n",
       "│ 21 rows                                  2 columns │\n",
       "└────────────────────────────────────────────────────┘"
      ]
     },
     "execution_count": 33,
     "metadata": {},
     "output_type": "execute_result"
    }
   ],
   "source": [
    "con.sql(\"\"\"\n",
    "    SELECT *\n",
    "    FROM\n",
    "    GRAPH_TABLE(\n",
    "        drug_graph\n",
    "        MATCH\n",
    "        (p1:Prescription)<-[r:RELATED]-(p:Prescription)-[m:CONTAINS_SUBSTANCE]->(d:Drug WHERE d.name = 'prednisone')\n",
    "        COLUMNS (p1.name AS name1, p.name AS name2)\n",
    "    ) Pre\n",
    "\"\"\")"
   ]
  },
  {
   "cell_type": "code",
   "execution_count": 34,
   "metadata": {},
   "outputs": [
    {
     "data": {
      "text/plain": [
       "┌───────────────────────┬───────────────┐\n",
       "│         name          │ out_of_pocket │\n",
       "│        varchar        │ decimal(10,2) │\n",
       "├───────────────────────┼───────────────┤\n",
       "│ Adalimumab            │        255.12 │\n",
       "│ Sacubitril; Valsartan │         92.19 │\n",
       "│ Insulin Detemir       │         89.53 │\n",
       "│ Apixaban              │         89.17 │\n",
       "│ Liraglutide           │         79.97 │\n",
       "└───────────────────────┴───────────────┘"
      ]
     },
     "execution_count": 34,
     "metadata": {},
     "output_type": "execute_result"
    }
   ],
   "source": [
    "con.sql(\"\"\"\n",
    "      \n",
    "        SELECT name, t.unnest.out_of_pocket\n",
    "        FROM Prescription,\n",
    "        UNNEST (prescription_cost_over_time) AS t\n",
    "        WHERE t.unnest.year = 2022\n",
    "        ORDER BY t.unnest.out_of_pocket DESC\n",
    "        LIMIT 5\n",
    "      \n",
    "\"\"\")"
   ]
  },
  {
   "cell_type": "code",
   "execution_count": 35,
   "metadata": {},
   "outputs": [
    {
     "data": {
      "text/plain": [
       "┌───────────────────────┬───────────────┬─────────────────┐\n",
       "│         name          │ out_of_pocket │    drug_name    │\n",
       "│        varchar        │ decimal(10,2) │     varchar     │\n",
       "├───────────────────────┼───────────────┼─────────────────┤\n",
       "│ Adalimumab            │        255.12 │ adalimumab      │\n",
       "│ Sacubitril; Valsartan │         92.19 │ sacubitril      │\n",
       "│ Sacubitril; Valsartan │         92.19 │ valsartan       │\n",
       "│ Insulin Detemir       │         89.53 │ insulin detemir │\n",
       "│ Apixaban              │         89.17 │ apixaban        │\n",
       "│ Liraglutide           │         79.97 │ liraglutide     │\n",
       "└───────────────────────┴───────────────┴─────────────────┘"
      ]
     },
     "execution_count": 35,
     "metadata": {},
     "output_type": "execute_result"
    }
   ],
   "source": [
    "con.sql(\"\"\"\n",
    "      WITH top_5_prescriptions AS (\n",
    "        SELECT name, t.unnest.out_of_pocket\n",
    "        FROM Prescription,\n",
    "        UNNEST (prescription_cost_over_time) AS t\n",
    "        WHERE t.unnest.year = 2022\n",
    "        ORDER BY t.unnest.out_of_pocket DESC\n",
    "        LIMIT 5)\n",
    "      SELECT top_5_prescriptions.name, top_5_prescriptions.out_of_pocket, drug_name FROM top_5_prescriptions,\n",
    "        GRAPH_TABLE(\n",
    "            drug_graph\n",
    "            MATCH\n",
    "            (p:Prescription)-[m:CONTAINS_SUBSTANCE]->(d:Drug)\n",
    "            COLUMNS (p.name AS prescription_name, d.name AS drug_name)\n",
    "        ) Pre\n",
    "      WHERE top_5_prescriptions.name = Pre.prescription_name\n",
    "      ORDER BY top_5_prescriptions.out_of_pocket DESC\n",
    "\"\"\")"
   ]
  },
  {
   "cell_type": "code",
   "execution_count": 36,
   "metadata": {},
   "outputs": [
    {
     "data": {
      "text/plain": [
       "┌───────────────┬─────────┐\n",
       "│     names     │  level  │\n",
       "│    varchar    │ varchar │\n",
       "├───────────────┼─────────┤\n",
       "│ infliximab    │ Major   │\n",
       "│ tofacitinib   │ Major   │\n",
       "│ etanercept    │ Major   │\n",
       "│ teriflunomide │ Major   │\n",
       "│ vandetanib    │ Major   │\n",
       "└───────────────┴─────────┘"
      ]
     },
     "execution_count": 36,
     "metadata": {},
     "output_type": "execute_result"
    }
   ],
   "source": [
    "con.sql(\"\"\"\n",
    "    SELECT *\n",
    "    FROM\n",
    "    GRAPH_TABLE(\n",
    "        drug_graph\n",
    "        MATCH\n",
    "        (d1:Drug)-[m:INTERACTS_WITH]->(d2:Drug WHERE d2.name = 'rucaparib')\n",
    "        COLUMNS (d1.name AS names, m.level AS level)\n",
    "    )\n",
    "        WHERE level = 'Major'\n",
    "      LIMIT 5\n",
    "\"\"\")"
   ]
  },
  {
   "cell_type": "markdown",
   "metadata": {},
   "source": [
    "1. Prescription Volume and Drug Interactions: \"Which commonly prescribed medications in 2022 have the highest number of severe drug-drug interactions, and what alternative treatments with similar mechanisms of action (MOA) might present fewer interaction risks?”: A scatter chart with interaction count vs prescription, and then search for alternative?"
   ]
  },
  {
   "cell_type": "code",
   "execution_count": 37,
   "metadata": {},
   "outputs": [
    {
     "data": {
      "application/vnd.microsoft.datawrangler.viewer.v0+json": {
       "columns": [
        {
         "name": "index",
         "rawType": "int64",
         "type": "integer"
        },
        {
         "name": "rank",
         "rawType": "int32",
         "type": "integer"
        },
        {
         "name": "name",
         "rawType": "object",
         "type": "string"
        },
        {
         "name": "ingredient_name",
         "rawType": "object",
         "type": "string"
        },
        {
         "name": "major_dd_count",
         "rawType": "int64",
         "type": "integer"
        }
       ],
       "conversionMethod": "pd.DataFrame",
       "ref": "f03937c2-0c66-4fc6-85ac-c1e529960106",
       "rows": [
        [
         "0",
         "175",
         "Ketoconazole",
         "ketoconazole",
         "184"
        ],
        [
         "1",
         "349",
         "Homatropine; Hydrocodone",
         "hydrocodone",
         "158"
        ],
        [
         "2",
         "23",
         "Acetaminophen; Hydrocodone",
         "hydrocodone",
         "158"
        ],
        [
         "3",
         "354",
         "Hydrocodone; Chlorpheniramine",
         "hydrocodone",
         "158"
        ],
        [
         "4",
         "271",
         "Erythromycin",
         "erythromycin",
         "155"
        ],
        [
         "5",
         "350",
         "Benzoyl Peroxide; Erythromycin",
         "erythromycin",
         "155"
        ],
        [
         "6",
         "112",
         "Hydroxychloroquine",
         "hydroxychloroquine",
         "147"
        ],
        [
         "7",
         "160",
         "Fluconazole",
         "fluconazole",
         "123"
        ],
        [
         "9",
         "185",
         "Cyclosporine",
         "cyclosporine",
         "113"
        ],
        [
         "8",
         "237",
         "Amiodarone",
         "amiodarone",
         "113"
        ],
        [
         "10",
         "218",
         "Doxepin",
         "doxepin",
         "106"
        ],
        [
         "11",
         "40",
         "Citalopram",
         "citalopram",
         "102"
        ],
        [
         "13",
         "272",
         "Codeine; Guaifenesin",
         "codeine",
         "100"
        ],
        [
         "15",
         "366",
         "Codeine; Phenylephrine; Promethazine",
         "codeine",
         "100"
        ],
        [
         "14",
         "166",
         "Acetaminophen; Codeine",
         "codeine",
         "100"
        ],
        [
         "12",
         "322",
         "Codeine; Promethazine",
         "codeine",
         "100"
        ],
        [
         "16",
         "241",
         "Adalimumab",
         "adalimumab",
         "99"
        ],
        [
         "18",
         "274",
         "Dexamethasone; Neomycin; Polymyxin B",
         "dexamethasone",
         "95"
        ],
        [
         "19",
         "234",
         "Dexamethasone",
         "dexamethasone",
         "95"
        ],
        [
         "17",
         "286",
         "Ciprofloxacin; Dexamethasone",
         "dexamethasone",
         "95"
        ],
        [
         "20",
         "140",
         "Morphine",
         "morphine",
         "72"
        ],
        [
         "21",
         "132",
         "Methotrexate",
         "methotrexate",
         "72"
        ],
        [
         "22",
         "21",
         "Bupropion",
         "bupropion",
         "68"
        ],
        [
         "23",
         "85",
         "Warfarin",
         "warfarin",
         "67"
        ],
        [
         "25",
         "181",
         "Ciprofloxacin",
         "ciprofloxacin",
         "65"
        ],
        [
         "26",
         "61",
         "Ondansetron",
         "ondansetron",
         "65"
        ],
        [
         "27",
         "153",
         "Methylprednisolone",
         "methylprednisolone",
         "63"
        ],
        [
         "28",
         "164",
         "Nirmatrelvir; Ritonavir",
         "ritonavir",
         "60"
        ],
        [
         "29",
         "35",
         "Potassium Chloride",
         "potassium chloride",
         "59"
        ],
        [
         "30",
         "102",
         "Triamcinolone",
         "triamcinolone",
         "57"
        ],
        [
         "33",
         "33",
         "Ibuprofen",
         "ibuprofen",
         "55"
        ],
        [
         "32",
         "51",
         "Diclofenac",
         "diclofenac",
         "55"
        ],
        [
         "31",
         "368",
         "Diclofenac; Misoprostol",
         "diclofenac",
         "55"
        ],
        [
         "35",
         "260",
         "Dextromethorphan; Promethazine",
         "promethazine",
         "52"
        ],
        [
         "36",
         "198",
         "Promethazine",
         "promethazine",
         "52"
        ],
        [
         "39",
         "55",
         "Tramadol",
         "tramadol",
         "47"
        ],
        [
         "40",
         "296",
         "Neomycin; Polymyxin B; Hydrocortisone",
         "hydrocortisone",
         "47"
        ],
        [
         "38",
         "202",
         "Hydrocortisone",
         "hydrocortisone",
         "47"
        ],
        [
         "42",
         "242",
         "Betamethasone; Clotrimazole",
         "betamethasone",
         "46"
        ],
        [
         "41",
         "263",
         "Betamethasone",
         "betamethasone",
         "46"
        ],
        [
         "43",
         "87",
         "Amitriptyline",
         "amitriptyline",
         "44"
        ],
        [
         "44",
         "47",
         "Clopidogrel",
         "clopidogrel",
         "44"
        ],
        [
         "45",
         "36",
         "Aspirin",
         "aspirin",
         "43"
        ],
        [
         "46",
         "273",
         "Moxifloxacin",
         "moxifloxacin",
         "43"
        ],
        [
         "47",
         "22",
         "Fluoxetine",
         "fluoxetine",
         "42"
        ],
        [
         "50",
         "206",
         "Ofloxacin",
         "ofloxacin",
         "41"
        ],
        [
         "51",
         "83",
         "Budesonide; Formoterol",
         "budesonide",
         "41"
        ],
        [
         "49",
         "177",
         "Budesonide",
         "budesonide",
         "41"
        ],
        [
         "48",
         "256",
         "Indomethacin",
         "indomethacin",
         "41"
        ],
        [
         "58",
         "324",
         "Dextromethorphan",
         "dextromethorphan",
         "39"
        ]
       ],
       "shape": {
        "columns": 4,
        "rows": 254
       }
      },
      "text/html": [
       "<div>\n",
       "<style scoped>\n",
       "    .dataframe tbody tr th:only-of-type {\n",
       "        vertical-align: middle;\n",
       "    }\n",
       "\n",
       "    .dataframe tbody tr th {\n",
       "        vertical-align: top;\n",
       "    }\n",
       "\n",
       "    .dataframe thead th {\n",
       "        text-align: right;\n",
       "    }\n",
       "</style>\n",
       "<table border=\"1\" class=\"dataframe\">\n",
       "  <thead>\n",
       "    <tr style=\"text-align: right;\">\n",
       "      <th></th>\n",
       "      <th>rank</th>\n",
       "      <th>name</th>\n",
       "      <th>ingredient_name</th>\n",
       "      <th>major_dd_count</th>\n",
       "    </tr>\n",
       "  </thead>\n",
       "  <tbody>\n",
       "    <tr>\n",
       "      <th>0</th>\n",
       "      <td>175</td>\n",
       "      <td>Ketoconazole</td>\n",
       "      <td>ketoconazole</td>\n",
       "      <td>184</td>\n",
       "    </tr>\n",
       "    <tr>\n",
       "      <th>1</th>\n",
       "      <td>349</td>\n",
       "      <td>Homatropine; Hydrocodone</td>\n",
       "      <td>hydrocodone</td>\n",
       "      <td>158</td>\n",
       "    </tr>\n",
       "    <tr>\n",
       "      <th>2</th>\n",
       "      <td>23</td>\n",
       "      <td>Acetaminophen; Hydrocodone</td>\n",
       "      <td>hydrocodone</td>\n",
       "      <td>158</td>\n",
       "    </tr>\n",
       "    <tr>\n",
       "      <th>3</th>\n",
       "      <td>354</td>\n",
       "      <td>Hydrocodone; Chlorpheniramine</td>\n",
       "      <td>hydrocodone</td>\n",
       "      <td>158</td>\n",
       "    </tr>\n",
       "    <tr>\n",
       "      <th>4</th>\n",
       "      <td>271</td>\n",
       "      <td>Erythromycin</td>\n",
       "      <td>erythromycin</td>\n",
       "      <td>155</td>\n",
       "    </tr>\n",
       "    <tr>\n",
       "      <th>...</th>\n",
       "      <td>...</td>\n",
       "      <td>...</td>\n",
       "      <td>...</td>\n",
       "      <td>...</td>\n",
       "    </tr>\n",
       "    <tr>\n",
       "      <th>300</th>\n",
       "      <td>171</td>\n",
       "      <td>Olanzapine</td>\n",
       "      <td>olanzapine</td>\n",
       "      <td>1</td>\n",
       "    </tr>\n",
       "    <tr>\n",
       "      <th>299</th>\n",
       "      <td>190</td>\n",
       "      <td>Rizatriptan</td>\n",
       "      <td>rizatriptan</td>\n",
       "      <td>1</td>\n",
       "    </tr>\n",
       "    <tr>\n",
       "      <th>298</th>\n",
       "      <td>196</td>\n",
       "      <td>Nitroglycerin</td>\n",
       "      <td>nitroglycerin</td>\n",
       "      <td>1</td>\n",
       "    </tr>\n",
       "    <tr>\n",
       "      <th>297</th>\n",
       "      <td>81</td>\n",
       "      <td>Lorazepam</td>\n",
       "      <td>lorazepam</td>\n",
       "      <td>1</td>\n",
       "    </tr>\n",
       "    <tr>\n",
       "      <th>307</th>\n",
       "      <td>119</td>\n",
       "      <td>Isosorbide</td>\n",
       "      <td>isosorbide</td>\n",
       "      <td>1</td>\n",
       "    </tr>\n",
       "  </tbody>\n",
       "</table>\n",
       "<p>254 rows × 4 columns</p>\n",
       "</div>"
      ],
      "text/plain": [
       "     rank                           name ingredient_name  major_dd_count\n",
       "0     175                   Ketoconazole    ketoconazole             184\n",
       "1     349       Homatropine; Hydrocodone     hydrocodone             158\n",
       "2      23     Acetaminophen; Hydrocodone     hydrocodone             158\n",
       "3     354  Hydrocodone; Chlorpheniramine     hydrocodone             158\n",
       "4     271                   Erythromycin    erythromycin             155\n",
       "..    ...                            ...             ...             ...\n",
       "300   171                     Olanzapine      olanzapine               1\n",
       "299   190                    Rizatriptan     rizatriptan               1\n",
       "298   196                  Nitroglycerin   nitroglycerin               1\n",
       "297    81                      Lorazepam       lorazepam               1\n",
       "307   119                     Isosorbide      isosorbide               1\n",
       "\n",
       "[254 rows x 4 columns]"
      ]
     },
     "execution_count": 37,
     "metadata": {},
     "output_type": "execute_result"
    }
   ],
   "source": [
    "query = \"\"\"\n",
    "SELECT \n",
    "  \"rank\", \n",
    "  name, \n",
    "  ingredient_name, \n",
    "  COUNT(d2_name) AS major_dd_count\n",
    "FROM\n",
    "GRAPH_TABLE(\n",
    "  drug_graph\n",
    "  MATCH\n",
    "  (p:Prescription)-[m:CONTAINS_SUBSTANCE]->(d:Drug)-[i:INTERACTS_WITH WHERE i.level = 'Major']->(d2:Drug)\n",
    "  COLUMNS (p.\"Top drug rank (2022)\" AS rank, p.name AS name, d.name AS ingredient_name, d2.name AS d2_name)\n",
    ") \n",
    "GROUP BY \"rank\", name, ingredient_name\n",
    "ORDER BY major_dd_count DESC;\n",
    "\"\"\"\n",
    "\n",
    "popular_prescription = con.execute(query).fetch_df()\n",
    "popular_prescription_most_dd_only = popular_prescription.sort_values('major_dd_count').drop_duplicates([\"rank\", \"name\"], keep='last')\n",
    "popular_prescription_most_dd_only.sort_values('major_dd_count', ascending=False)"
   ]
  },
  {
   "cell_type": "code",
   "execution_count": 38,
   "metadata": {},
   "outputs": [],
   "source": [
    "popular_prescription_most_dd_only.sort_values('major_dd_count', ascending=False).head(20).to_csv(\"popular_prescription_most_dd_only.csv\", index=False)"
   ]
  },
  {
   "cell_type": "code",
   "execution_count": 39,
   "metadata": {},
   "outputs": [
    {
     "data": {
      "application/vnd.microsoft.datawrangler.viewer.v0+json": {
       "columns": [
        {
         "name": "index",
         "rawType": "int64",
         "type": "integer"
        },
        {
         "name": "name",
         "rawType": "object",
         "type": "string"
        },
        {
         "name": "ingredient_name",
         "rawType": "object",
         "type": "string"
        },
        {
         "name": "major_dd_count",
         "rawType": "int64",
         "type": "integer"
        }
       ],
       "conversionMethod": "pd.DataFrame",
       "ref": "59cdebcf-b4da-4678-8b50-52019528f1af",
       "rows": [
        [
         "0",
         "Azithromycin",
         "azithromycin",
         "25"
        ]
       ],
       "shape": {
        "columns": 3,
        "rows": 1
       }
      },
      "text/html": [
       "<div>\n",
       "<style scoped>\n",
       "    .dataframe tbody tr th:only-of-type {\n",
       "        vertical-align: middle;\n",
       "    }\n",
       "\n",
       "    .dataframe tbody tr th {\n",
       "        vertical-align: top;\n",
       "    }\n",
       "\n",
       "    .dataframe thead th {\n",
       "        text-align: right;\n",
       "    }\n",
       "</style>\n",
       "<table border=\"1\" class=\"dataframe\">\n",
       "  <thead>\n",
       "    <tr style=\"text-align: right;\">\n",
       "      <th></th>\n",
       "      <th>name</th>\n",
       "      <th>ingredient_name</th>\n",
       "      <th>major_dd_count</th>\n",
       "    </tr>\n",
       "  </thead>\n",
       "  <tbody>\n",
       "    <tr>\n",
       "      <th>0</th>\n",
       "      <td>Azithromycin</td>\n",
       "      <td>azithromycin</td>\n",
       "      <td>25</td>\n",
       "    </tr>\n",
       "  </tbody>\n",
       "</table>\n",
       "</div>"
      ],
      "text/plain": [
       "           name ingredient_name  major_dd_count\n",
       "0  Azithromycin    azithromycin              25"
      ]
     },
     "execution_count": 39,
     "metadata": {},
     "output_type": "execute_result"
    }
   ],
   "source": [
    "query = \"\"\"\n",
    "SELECT \n",
    "name,\n",
    "ingredient_name,\n",
    "COUNT(dd_drug_name) AS major_dd_count\n",
    "FROM\n",
    "GRAPH_TABLE(\n",
    "  drug_graph\n",
    "  MATCH\n",
    "  (p:Prescription WHERE p.name = 'Erythromycin')<-[m:RELATED]-(d:Prescription)-[c:CONTAINS_SUBSTANCE]->(ingredient:Drug)-[i:INTERACTS_WITH WHERE i.level = 'Major']->(dd_drug:Drug)\n",
    "  COLUMNS (d.name AS name, ingredient.name AS ingredient_name, dd_drug.name AS dd_drug_name)\n",
    ") \n",
    "WHERE ingredient_name != 'erythromycin'\n",
    "GROUP BY name, ingredient_name\n",
    "\"\"\"\n",
    "\n",
    "popular_prescription = con.execute(query).fetch_df()\n",
    "popular_prescription.sort_values('major_dd_count')"
   ]
  },
  {
   "cell_type": "code",
   "execution_count": 40,
   "metadata": {},
   "outputs": [],
   "source": [
    "query = \"\"\"\n",
    "SELECT \n",
    "ingredient_name,\n",
    "MOA_name,\n",
    "COUNT(dd_drug_name) AS major_dd_count\n",
    "FROM\n",
    "GRAPH_TABLE(\n",
    "  drug_graph\n",
    "  MATCH\n",
    "  (p:Drug WHERE p.name = 'erythromycin')-[h:HAS_MOA]->(m:MOA)<-[h2:HAS_MOA]-(d:Drug)-[i:INTERACTS_WITH WHERE i.level = 'Major']->(dd_drug:Drug)\n",
    "  COLUMNS (d.name AS ingredient_name, m.name as MOA_name, dd_drug.name AS dd_drug_name)\n",
    ")\n",
    "WHERE ingredient_name != 'erythromycin'\n",
    "GROUP BY ingredient_name, MOA_name\n",
    "\"\"\"\n",
    "\n",
    "popular_prescription = con.execute(query).fetch_df()\n",
    "popular_prescription.sort_values('major_dd_count').head(5).to_csv(\"popular_prescription_most_dd_only.csv\", index=False)"
   ]
  },
  {
   "cell_type": "code",
   "execution_count": 41,
   "metadata": {},
   "outputs": [
    {
     "data": {
      "application/vnd.microsoft.datawrangler.viewer.v0+json": {
       "columns": [
        {
         "name": "index",
         "rawType": "int64",
         "type": "integer"
        },
        {
         "name": "ingredient_name",
         "rawType": "object",
         "type": "string"
        },
        {
         "name": "disorder_name",
         "rawType": "object",
         "type": "string"
        },
        {
         "name": "major_dd_count",
         "rawType": "int64",
         "type": "integer"
        }
       ],
       "conversionMethod": "pd.DataFrame",
       "ref": "1e2292ec-b8d8-4a7f-b511-a68254dee5ae",
       "rows": [
        [
         "197",
         "sulfadiazine",
         "Chancroid",
         "1"
        ],
        [
         "30",
         "piperacillin",
         "Streptococcal Infections",
         "1"
        ],
        [
         "156",
         "ampicillin",
         "Gonorrhea",
         "1"
        ],
        [
         "163",
         "sulfisoxazole",
         "Chlamydia Infections",
         "1"
        ],
        [
         "44",
         "delafloxacin",
         "Staphylococcal Infections",
         "1"
        ],
        [
         "45",
         "tedizolid",
         "Staphylococcal Infections",
         "1"
        ],
        [
         "48",
         "rifaximin",
         "Bacterial Infections",
         "1"
        ],
        [
         "108",
         "sulfisoxazole",
         "Bacterial Infections",
         "1"
        ],
        [
         "107",
         "sulfadiazine",
         "Bacterial Infections",
         "1"
        ],
        [
         "153",
         "carbenicillin",
         "Bacterial Infections",
         "1"
        ],
        [
         "59",
         "ampicillin",
         "Staphylococcal Infections",
         "1"
        ],
        [
         "62",
         "delafloxacin",
         "Bacterial Infections",
         "1"
        ],
        [
         "63",
         "tedizolid",
         "Bacterial Infections",
         "1"
        ],
        [
         "65",
         "clindamycin",
         "Acne Vulgaris",
         "1"
        ],
        [
         "66",
         "rifamycins",
         "Bacterial Infections",
         "1"
        ],
        [
         "95",
         "piperacillin",
         "Bacterial Infections",
         "1"
        ],
        [
         "89",
         "sulfamethoxazole",
         "Bacterial Infections",
         "1"
        ],
        [
         "161",
         "clindamycin",
         "Streptococcal Infections",
         "1"
        ],
        [
         "162",
         "sulfamethoxazole",
         "Protozoan Infections",
         "1"
        ],
        [
         "196",
         "sulfisoxazole",
         "Protozoan Infections",
         "1"
        ],
        [
         "26",
         "clindamycin",
         "Bacterial Infections",
         "1"
        ],
        [
         "39",
         "ampicillin",
         "Bacterial Infections",
         "1"
        ],
        [
         "193",
         "delafloxacin",
         "Streptococcal Infections",
         "1"
        ],
        [
         "194",
         "tedizolid",
         "Streptococcal Infections",
         "1"
        ],
        [
         "136",
         "clindamycin",
         "Staphylococcal Infections",
         "1"
        ],
        [
         "134",
         "meropenem",
         "Bacterial Infections",
         "1"
        ],
        [
         "160",
         "benznidazole",
         "Bacterial Infections",
         "2"
        ],
        [
         "133",
         "tinidazole",
         "Bacterial Infections",
         "2"
        ],
        [
         "88",
         "benznidazole",
         "Protozoan Infections",
         "2"
        ],
        [
         "34",
         "amoxicillin",
         "Chlamydia Infections",
         "2"
        ],
        [
         "116",
         "methenamine",
         "Staphylococcal Infections",
         "2"
        ],
        [
         "144",
         "amoxicillin",
         "Streptococcal Infections",
         "2"
        ],
        [
         "5",
         "dicloxacillin",
         "Bacterial Infections",
         "2"
        ],
        [
         "23",
         "tinidazole",
         "Protozoan Infections",
         "2"
        ],
        [
         "150",
         "clavulanic acid",
         "Staphylococcal Infections",
         "2"
        ],
        [
         "9",
         "amoxicillin",
         "Bacterial Infections",
         "2"
        ],
        [
         "158",
         "nitrofurantoin",
         "Staphylococcal Infections",
         "3"
        ],
        [
         "13",
         "imipenem",
         "Bacterial Infections",
         "3"
        ],
        [
         "192",
         "ceftriaxone",
         "Chancroid",
         "3"
        ],
        [
         "191",
         "ceftriaxone",
         "Staphylococcal Infections",
         "3"
        ],
        [
         "43",
         "ceftriaxone",
         "Streptococcal Infections",
         "3"
        ],
        [
         "135",
         "desogestrel",
         "Acne Vulgaris",
         "3"
        ],
        [
         "69",
         "probenecid",
         "Gonorrhea",
         "3"
        ],
        [
         "105",
         "ceftriaxone",
         "Bacterial Infections",
         "3"
        ],
        [
         "87",
         "nitrofurantoin",
         "Bacterial Infections",
         "3"
        ],
        [
         "151",
         "imipenem",
         "Streptococcal Infections",
         "3"
        ],
        [
         "24",
         "ceftriaxone",
         "Gonorrhea",
         "3"
        ],
        [
         "131",
         "imipenem",
         "Staphylococcal Infections",
         "3"
        ],
        [
         "195",
         "gentamicin",
         "Eye Infections, Bacterial",
         "4"
        ],
        [
         "46",
         "metronidazole",
         "Bacterial Infections",
         "4"
        ]
       ],
       "shape": {
        "columns": 3,
        "rows": 198
       }
      },
      "text/html": [
       "<div>\n",
       "<style scoped>\n",
       "    .dataframe tbody tr th:only-of-type {\n",
       "        vertical-align: middle;\n",
       "    }\n",
       "\n",
       "    .dataframe tbody tr th {\n",
       "        vertical-align: top;\n",
       "    }\n",
       "\n",
       "    .dataframe thead th {\n",
       "        text-align: right;\n",
       "    }\n",
       "</style>\n",
       "<table border=\"1\" class=\"dataframe\">\n",
       "  <thead>\n",
       "    <tr style=\"text-align: right;\">\n",
       "      <th></th>\n",
       "      <th>ingredient_name</th>\n",
       "      <th>disorder_name</th>\n",
       "      <th>major_dd_count</th>\n",
       "    </tr>\n",
       "  </thead>\n",
       "  <tbody>\n",
       "    <tr>\n",
       "      <th>197</th>\n",
       "      <td>sulfadiazine</td>\n",
       "      <td>Chancroid</td>\n",
       "      <td>1</td>\n",
       "    </tr>\n",
       "    <tr>\n",
       "      <th>30</th>\n",
       "      <td>piperacillin</td>\n",
       "      <td>Streptococcal Infections</td>\n",
       "      <td>1</td>\n",
       "    </tr>\n",
       "    <tr>\n",
       "      <th>156</th>\n",
       "      <td>ampicillin</td>\n",
       "      <td>Gonorrhea</td>\n",
       "      <td>1</td>\n",
       "    </tr>\n",
       "    <tr>\n",
       "      <th>163</th>\n",
       "      <td>sulfisoxazole</td>\n",
       "      <td>Chlamydia Infections</td>\n",
       "      <td>1</td>\n",
       "    </tr>\n",
       "    <tr>\n",
       "      <th>44</th>\n",
       "      <td>delafloxacin</td>\n",
       "      <td>Staphylococcal Infections</td>\n",
       "      <td>1</td>\n",
       "    </tr>\n",
       "    <tr>\n",
       "      <th>...</th>\n",
       "      <td>...</td>\n",
       "      <td>...</td>\n",
       "      <td>...</td>\n",
       "    </tr>\n",
       "    <tr>\n",
       "      <th>50</th>\n",
       "      <td>clarithromycin</td>\n",
       "      <td>Bacterial Infections</td>\n",
       "      <td>150</td>\n",
       "    </tr>\n",
       "    <tr>\n",
       "      <th>174</th>\n",
       "      <td>clarithromycin</td>\n",
       "      <td>Streptococcal Infections</td>\n",
       "      <td>150</td>\n",
       "    </tr>\n",
       "    <tr>\n",
       "      <th>32</th>\n",
       "      <td>clarithromycin</td>\n",
       "      <td>Staphylococcal Infections</td>\n",
       "      <td>150</td>\n",
       "    </tr>\n",
       "    <tr>\n",
       "      <th>27</th>\n",
       "      <td>clarithromycin</td>\n",
       "      <td>Protozoan Infections</td>\n",
       "      <td>150</td>\n",
       "    </tr>\n",
       "    <tr>\n",
       "      <th>130</th>\n",
       "      <td>clarithromycin</td>\n",
       "      <td>Chlamydia Infections</td>\n",
       "      <td>150</td>\n",
       "    </tr>\n",
       "  </tbody>\n",
       "</table>\n",
       "<p>198 rows × 3 columns</p>\n",
       "</div>"
      ],
      "text/plain": [
       "    ingredient_name              disorder_name  major_dd_count\n",
       "197    sulfadiazine                  Chancroid               1\n",
       "30     piperacillin   Streptococcal Infections               1\n",
       "156      ampicillin                  Gonorrhea               1\n",
       "163   sulfisoxazole       Chlamydia Infections               1\n",
       "44     delafloxacin  Staphylococcal Infections               1\n",
       "..              ...                        ...             ...\n",
       "50   clarithromycin       Bacterial Infections             150\n",
       "174  clarithromycin   Streptococcal Infections             150\n",
       "32   clarithromycin  Staphylococcal Infections             150\n",
       "27   clarithromycin       Protozoan Infections             150\n",
       "130  clarithromycin       Chlamydia Infections             150\n",
       "\n",
       "[198 rows x 3 columns]"
      ]
     },
     "execution_count": 41,
     "metadata": {},
     "output_type": "execute_result"
    }
   ],
   "source": [
    "query = \"\"\"\n",
    "SELECT \n",
    "ingredient_name,\n",
    "disorder_name,\n",
    "COUNT(dd_drug_name) AS major_dd_count\n",
    "FROM\n",
    "GRAPH_TABLE(\n",
    "  drug_graph\n",
    "  MATCH\n",
    "  (p:Drug WHERE p.name = 'erythromycin')-[h:MAY_TREAT]->(di:Disorder)<-[h2:MAY_TREAT]-(d:Drug)-[i:INTERACTS_WITH WHERE i.level = 'Major']->(dd_drug:Drug)\n",
    "  COLUMNS (d.name AS ingredient_name, di.name as disorder_name, dd_drug.name AS dd_drug_name)\n",
    ")\n",
    "WHERE ingredient_name != 'erythromycin'\n",
    "GROUP BY ingredient_name, disorder_name\n",
    "\"\"\"\n",
    "\n",
    "popular_prescription = con.execute(query).fetch_df()\n",
    "popular_prescription.sort_values('major_dd_count')"
   ]
  },
  {
   "cell_type": "code",
   "execution_count": 42,
   "metadata": {},
   "outputs": [
    {
     "data": {
      "application/vnd.microsoft.datawrangler.viewer.v0+json": {
       "columns": [
        {
         "name": "index",
         "rawType": "int64",
         "type": "integer"
        },
        {
         "name": "ingredient_name",
         "rawType": "object",
         "type": "string"
        },
        {
         "name": "disorder_name",
         "rawType": "object",
         "type": "string"
        },
        {
         "name": "MOA_name",
         "rawType": "object",
         "type": "string"
        },
        {
         "name": "major_dd_count",
         "rawType": "int64",
         "type": "integer"
        }
       ],
       "conversionMethod": "pd.DataFrame",
       "ref": "31c915ab-0e82-4fde-aee2-9aae900329f0",
       "rows": [
        [
         "81",
         "tedizolid",
         "Staphylococcal Infections",
         "Protein Synthesis Inhibitors",
         "1"
        ],
        [
         "26",
         "clindamycin",
         "Acne Vulgaris",
         "Protein Synthesis Inhibitors",
         "1"
        ],
        [
         "54",
         "clindamycin",
         "Streptococcal Infections",
         "Protein Synthesis Inhibitors",
         "1"
        ],
        [
         "7",
         "clindamycin",
         "Staphylococcal Infections",
         "Protein Synthesis Inhibitors",
         "1"
        ],
        [
         "47",
         "clindamycin",
         "Bacterial Infections",
         "Protein Synthesis Inhibitors",
         "1"
        ],
        [
         "61",
         "tedizolid",
         "Streptococcal Infections",
         "Protein Synthesis Inhibitors",
         "1"
        ],
        [
         "33",
         "tedizolid",
         "Bacterial Infections",
         "Protein Synthesis Inhibitors",
         "1"
        ],
        [
         "25",
         "gentamicin",
         "Eye Infections, Bacterial",
         "Protein Synthesis Inhibitors",
         "4"
        ],
        [
         "24",
         "gentamicin",
         "Bacterial Infections",
         "Protein Synthesis Inhibitors",
         "4"
        ],
        [
         "62",
         "gentamicin",
         "Staphylococcal Infections",
         "Protein Synthesis Inhibitors",
         "4"
        ],
        [
         "23",
         "tetracycline",
         "Chlamydia Infections",
         "Protein Synthesis Inhibitors",
         "7"
        ],
        [
         "22",
         "oxytetracycline",
         "Gonorrhea",
         "Protein Synthesis Inhibitors",
         "7"
        ],
        [
         "21",
         "oxytetracycline",
         "Syphilis",
         "Protein Synthesis Inhibitors",
         "7"
        ],
        [
         "42",
         "tetracycline",
         "Protozoan Infections",
         "Protein Synthesis Inhibitors",
         "7"
        ],
        [
         "71",
         "tetracycline",
         "Bacterial Infections",
         "Protein Synthesis Inhibitors",
         "7"
        ],
        [
         "16",
         "oxytetracycline",
         "Acne Vulgaris",
         "Protein Synthesis Inhibitors",
         "7"
        ],
        [
         "72",
         "tetracycline",
         "Staphylococcal Infections",
         "Protein Synthesis Inhibitors",
         "7"
        ],
        [
         "73",
         "tetracycline",
         "Gonorrhea",
         "Protein Synthesis Inhibitors",
         "7"
        ],
        [
         "45",
         "oxytetracycline",
         "Chlamydia Infections",
         "Protein Synthesis Inhibitors",
         "7"
        ],
        [
         "46",
         "tetracycline",
         "Campylobacter infection",
         "Protein Synthesis Inhibitors",
         "7"
        ],
        [
         "52",
         "oxytetracycline",
         "Mycoplasma Infections",
         "Protein Synthesis Inhibitors",
         "7"
        ],
        [
         "53",
         "tetracycline",
         "Mycoplasma Infections",
         "Protein Synthesis Inhibitors",
         "7"
        ],
        [
         "6",
         "tetracycline",
         "Eye Infections, Bacterial",
         "Protein Synthesis Inhibitors",
         "7"
        ],
        [
         "5",
         "tetracycline",
         "Chancroid",
         "Protein Synthesis Inhibitors",
         "7"
        ],
        [
         "4",
         "tetracycline",
         "Streptococcal Infections",
         "Protein Synthesis Inhibitors",
         "7"
        ],
        [
         "3",
         "tetracycline",
         "Acne Vulgaris",
         "Protein Synthesis Inhibitors",
         "7"
        ],
        [
         "59",
         "oxytetracycline",
         "Protozoan Infections",
         "Protein Synthesis Inhibitors",
         "7"
        ],
        [
         "44",
         "tetracycline",
         "Syphilis",
         "Protein Synthesis Inhibitors",
         "7"
        ],
        [
         "32",
         "oxytetracycline",
         "Bacterial Infections",
         "Protein Synthesis Inhibitors",
         "7"
        ],
        [
         "65",
         "demeclocycline",
         "Acne Vulgaris",
         "Protein Synthesis Inhibitors",
         "8"
        ],
        [
         "28",
         "demeclocycline",
         "Protozoan Infections",
         "Protein Synthesis Inhibitors",
         "8"
        ],
        [
         "57",
         "demeclocycline",
         "Campylobacter infection",
         "Protein Synthesis Inhibitors",
         "8"
        ],
        [
         "2",
         "demeclocycline",
         "Bacterial Infections",
         "Protein Synthesis Inhibitors",
         "8"
        ],
        [
         "68",
         "demeclocycline",
         "Pertussis",
         "Protein Synthesis Inhibitors",
         "8"
        ],
        [
         "70",
         "demeclocycline",
         "Gonorrhea",
         "Protein Synthesis Inhibitors",
         "8"
        ],
        [
         "1",
         "netilmicin",
         "Bacterial Infections",
         "Protein Synthesis Inhibitors",
         "9"
        ],
        [
         "51",
         "tobramycin",
         "Eye Infections, Bacterial",
         "Protein Synthesis Inhibitors",
         "9"
        ],
        [
         "49",
         "minocycline",
         "Acne Vulgaris",
         "Protein Synthesis Inhibitors",
         "9"
        ],
        [
         "48",
         "tobramycin",
         "Bacterial Infections",
         "Protein Synthesis Inhibitors",
         "9"
        ],
        [
         "67",
         "minocycline",
         "Mycoplasma Infections",
         "Protein Synthesis Inhibitors",
         "9"
        ],
        [
         "19",
         "netilmicin",
         "Staphylococcal Infections",
         "Protein Synthesis Inhibitors",
         "9"
        ],
        [
         "66",
         "doxycycline",
         "Syphilis",
         "Protein Synthesis Inhibitors",
         "9"
        ],
        [
         "38",
         "minocycline",
         "Chancroid",
         "Protein Synthesis Inhibitors",
         "9"
        ],
        [
         "36",
         "tobramycin",
         "Staphylococcal Infections",
         "Protein Synthesis Inhibitors",
         "9"
        ],
        [
         "64",
         "doxycycline",
         "Mycoplasma Infections",
         "Protein Synthesis Inhibitors",
         "9"
        ],
        [
         "15",
         "doxycycline",
         "Campylobacter infection",
         "Protein Synthesis Inhibitors",
         "9"
        ],
        [
         "75",
         "paromomycin",
         "Protozoan Infections",
         "Protein Synthesis Inhibitors",
         "11"
        ],
        [
         "12",
         "linezolid",
         "Streptococcal Infections",
         "Protein Synthesis Inhibitors",
         "14"
        ],
        [
         "74",
         "linezolid",
         "Bacterial Infections",
         "Protein Synthesis Inhibitors",
         "14"
        ],
        [
         "50",
         "linezolid",
         "Staphylococcal Infections",
         "Protein Synthesis Inhibitors",
         "14"
        ]
       ],
       "shape": {
        "columns": 4,
        "rows": 82
       }
      },
      "text/html": [
       "<div>\n",
       "<style scoped>\n",
       "    .dataframe tbody tr th:only-of-type {\n",
       "        vertical-align: middle;\n",
       "    }\n",
       "\n",
       "    .dataframe tbody tr th {\n",
       "        vertical-align: top;\n",
       "    }\n",
       "\n",
       "    .dataframe thead th {\n",
       "        text-align: right;\n",
       "    }\n",
       "</style>\n",
       "<table border=\"1\" class=\"dataframe\">\n",
       "  <thead>\n",
       "    <tr style=\"text-align: right;\">\n",
       "      <th></th>\n",
       "      <th>ingredient_name</th>\n",
       "      <th>disorder_name</th>\n",
       "      <th>MOA_name</th>\n",
       "      <th>major_dd_count</th>\n",
       "    </tr>\n",
       "  </thead>\n",
       "  <tbody>\n",
       "    <tr>\n",
       "      <th>81</th>\n",
       "      <td>tedizolid</td>\n",
       "      <td>Staphylococcal Infections</td>\n",
       "      <td>Protein Synthesis Inhibitors</td>\n",
       "      <td>1</td>\n",
       "    </tr>\n",
       "    <tr>\n",
       "      <th>26</th>\n",
       "      <td>clindamycin</td>\n",
       "      <td>Acne Vulgaris</td>\n",
       "      <td>Protein Synthesis Inhibitors</td>\n",
       "      <td>1</td>\n",
       "    </tr>\n",
       "    <tr>\n",
       "      <th>54</th>\n",
       "      <td>clindamycin</td>\n",
       "      <td>Streptococcal Infections</td>\n",
       "      <td>Protein Synthesis Inhibitors</td>\n",
       "      <td>1</td>\n",
       "    </tr>\n",
       "    <tr>\n",
       "      <th>7</th>\n",
       "      <td>clindamycin</td>\n",
       "      <td>Staphylococcal Infections</td>\n",
       "      <td>Protein Synthesis Inhibitors</td>\n",
       "      <td>1</td>\n",
       "    </tr>\n",
       "    <tr>\n",
       "      <th>47</th>\n",
       "      <td>clindamycin</td>\n",
       "      <td>Bacterial Infections</td>\n",
       "      <td>Protein Synthesis Inhibitors</td>\n",
       "      <td>1</td>\n",
       "    </tr>\n",
       "    <tr>\n",
       "      <th>...</th>\n",
       "      <td>...</td>\n",
       "      <td>...</td>\n",
       "      <td>...</td>\n",
       "      <td>...</td>\n",
       "    </tr>\n",
       "    <tr>\n",
       "      <th>35</th>\n",
       "      <td>clarithromycin</td>\n",
       "      <td>Protozoan Infections</td>\n",
       "      <td>Protein Synthesis Inhibitors</td>\n",
       "      <td>150</td>\n",
       "    </tr>\n",
       "    <tr>\n",
       "      <th>14</th>\n",
       "      <td>clarithromycin</td>\n",
       "      <td>Streptococcal Infections</td>\n",
       "      <td>Protein Synthesis Inhibitors</td>\n",
       "      <td>150</td>\n",
       "    </tr>\n",
       "    <tr>\n",
       "      <th>11</th>\n",
       "      <td>clarithromycin</td>\n",
       "      <td>Bacterial Infections</td>\n",
       "      <td>Protein Synthesis Inhibitors</td>\n",
       "      <td>150</td>\n",
       "    </tr>\n",
       "    <tr>\n",
       "      <th>79</th>\n",
       "      <td>clarithromycin</td>\n",
       "      <td>Staphylococcal Infections</td>\n",
       "      <td>Protein Synthesis Inhibitors</td>\n",
       "      <td>150</td>\n",
       "    </tr>\n",
       "    <tr>\n",
       "      <th>18</th>\n",
       "      <td>clarithromycin</td>\n",
       "      <td>Chlamydia Infections</td>\n",
       "      <td>Protein Synthesis Inhibitors</td>\n",
       "      <td>150</td>\n",
       "    </tr>\n",
       "  </tbody>\n",
       "</table>\n",
       "<p>82 rows × 4 columns</p>\n",
       "</div>"
      ],
      "text/plain": [
       "   ingredient_name              disorder_name                      MOA_name  \\\n",
       "81       tedizolid  Staphylococcal Infections  Protein Synthesis Inhibitors   \n",
       "26     clindamycin              Acne Vulgaris  Protein Synthesis Inhibitors   \n",
       "54     clindamycin   Streptococcal Infections  Protein Synthesis Inhibitors   \n",
       "7      clindamycin  Staphylococcal Infections  Protein Synthesis Inhibitors   \n",
       "47     clindamycin       Bacterial Infections  Protein Synthesis Inhibitors   \n",
       "..             ...                        ...                           ...   \n",
       "35  clarithromycin       Protozoan Infections  Protein Synthesis Inhibitors   \n",
       "14  clarithromycin   Streptococcal Infections  Protein Synthesis Inhibitors   \n",
       "11  clarithromycin       Bacterial Infections  Protein Synthesis Inhibitors   \n",
       "79  clarithromycin  Staphylococcal Infections  Protein Synthesis Inhibitors   \n",
       "18  clarithromycin       Chlamydia Infections  Protein Synthesis Inhibitors   \n",
       "\n",
       "    major_dd_count  \n",
       "81               1  \n",
       "26               1  \n",
       "54               1  \n",
       "7                1  \n",
       "47               1  \n",
       "..             ...  \n",
       "35             150  \n",
       "14             150  \n",
       "11             150  \n",
       "79             150  \n",
       "18             150  \n",
       "\n",
       "[82 rows x 4 columns]"
      ]
     },
     "execution_count": 42,
     "metadata": {},
     "output_type": "execute_result"
    }
   ],
   "source": [
    "query = \"\"\"\n",
    "SELECT \n",
    "ingredient_name,\n",
    "disorder_name,\n",
    "MOA_name,\n",
    "COUNT(dd_drug_name) AS major_dd_count\n",
    "FROM\n",
    "GRAPH_TABLE(\n",
    "  drug_graph\n",
    "  MATCH\n",
    "  (p:Drug WHERE p.name = 'erythromycin')-[h:MAY_TREAT]->(di:Disorder)<-[h2:MAY_TREAT]-(d:Drug)-[h3:HAS_MOA]->(m:MOA)<-[h4:HAS_MOA]-(p:Drug),\n",
    "  (d:Drug)-[i:INTERACTS_WITH WHERE i.level = 'Major']->(dd_drug:Drug)\n",
    "  COLUMNS (d.name AS ingredient_name, di.name as disorder_name, dd_drug.name AS dd_drug_name, m.name AS MOA_name)\n",
    ")\n",
    "WHERE ingredient_name != 'erythromycin'\n",
    "GROUP BY ingredient_name, disorder_name, MOA_name\n",
    "\"\"\"\n",
    "\n",
    "popular_prescription = con.execute(query).fetch_df()\n",
    "popular_prescription.sort_values('major_dd_count')"
   ]
  },
  {
   "cell_type": "markdown",
   "metadata": {},
   "source": [
    "2. Are there more clincal trials for popular drugs?"
   ]
  },
  {
   "cell_type": "code",
   "execution_count": 43,
   "metadata": {},
   "outputs": [
    {
     "data": {
      "application/vnd.microsoft.datawrangler.viewer.v0+json": {
       "columns": [
        {
         "name": "index",
         "rawType": "int64",
         "type": "integer"
        },
        {
         "name": "rank",
         "rawType": "int32",
         "type": "integer"
        },
        {
         "name": "cost",
         "rawType": "float64",
         "type": "float"
        },
        {
         "name": "name",
         "rawType": "object",
         "type": "string"
        },
        {
         "name": "drug_name",
         "rawType": "object",
         "type": "string"
        },
        {
         "name": "trial_count",
         "rawType": "int64",
         "type": "integer"
        }
       ],
       "conversionMethod": "pd.DataFrame",
       "ref": "68785563-a1fc-42be-a585-98ab0323a35c",
       "rows": [
        [
         "0",
         "221",
         "11.6",
         "Sodium Fluoride",
         "sodium fluoride",
         "1"
        ],
        [
         "1",
         "34",
         "16.45",
         "Carvedilol",
         "carvedilol",
         "17"
        ],
        [
         "2",
         "36",
         "4.8",
         "Aspirin",
         "aspirin",
         "2"
        ],
        [
         "3",
         "2",
         "70.33",
         "Metformin",
         "metformin",
         "15"
        ],
        [
         "4",
         "141",
         "18.6",
         "Enalapril",
         "enalapril",
         "1"
        ],
        [
         "5",
         "189",
         "690.3",
         "Linaclotide",
         "linaclotide",
         "2"
        ],
        [
         "6",
         "53",
         "11.46",
         "Hydrochlorothiazide; Lisinopril",
         "hydrochlorothiazide",
         "1"
        ],
        [
         "7",
         "116",
         "12.44",
         "Hydrochlorothiazide; Triamterene",
         "hydrochlorothiazide",
         "1"
        ],
        [
         "8",
         "21",
         "147.4",
         "Bupropion",
         "bupropion",
         "37"
        ],
        [
         "9",
         "59",
         "416.27",
         "Fluticasone; Salmeterol",
         "salmeterol",
         "129"
        ],
        [
         "10",
         "145",
         "532.17",
         "Fluticasone; Vilanterol",
         "vilanterol",
         "107"
        ],
        [
         "11",
         "13",
         "37.2",
         "Rosuvastatin",
         "rosuvastatin",
         "1"
        ],
        [
         "12",
         "307",
         "94.01",
         "Benzoyl Peroxide; Clindamycin",
         "benzoyl peroxide",
         "14"
        ],
        [
         "13",
         "178",
         "218.91",
         "Albuterol; Ipratropium",
         "albuterol",
         "9"
        ],
        [
         "14",
         "117",
         "49.28",
         "Valsartan",
         "valsartan",
         "7"
        ],
        [
         "15",
         "163",
         "37.04",
         "Ropinirole",
         "ropinirole",
         "44"
        ],
        [
         "16",
         "146",
         "23.69",
         "Donepezil",
         "donepezil",
         "14"
        ],
        [
         "17",
         "170",
         "69.8",
         "Amlodipine; Benazepril",
         "amlodipine",
         "5"
        ],
        [
         "18",
         "75",
         "34.25",
         "Hydrochlorothiazide; Losartan",
         "losartan",
         "2"
        ],
        [
         "19",
         "381",
         "0.0",
         "Benzoyl Peroxide; Tretinoin",
         "benzoyl peroxide",
         "14"
        ],
        [
         "20",
         "1",
         "19.0",
         "Atorvastatin",
         "atorvastatin",
         "1"
        ],
        [
         "21",
         "16",
         "26.23",
         "Pantoprazole",
         "pantoprazole",
         "2"
        ],
        [
         "22",
         "26",
         "9.5",
         "Amoxicillin",
         "amoxicillin",
         "19"
        ],
        [
         "23",
         "175",
         "26.85",
         "Ketoconazole",
         "ketoconazole",
         "1"
        ],
        [
         "24",
         "20",
         "30.95",
         "Tamsulosin",
         "tamsulosin",
         "7"
        ],
        [
         "25",
         "8",
         "18.46",
         "Losartan",
         "losartan",
         "2"
        ],
        [
         "26",
         "156",
         "72.33",
         "Clobetasol",
         "clobetasol",
         "1"
        ],
        [
         "27",
         "350",
         "36.78",
         "Benzoyl Peroxide; Erythromycin",
         "benzoyl peroxide",
         "14"
        ],
        [
         "28",
         "292",
         "402.65",
         "Adapalene; Benzoyl Peroxide",
         "benzoyl peroxide",
         "14"
        ],
        [
         "29",
         "25",
         "94.76",
         "Fluticasone",
         "fluticasone",
         "1"
        ],
        [
         "30",
         "58",
         "70.32",
         "Lamotrigine",
         "lamotrigine",
         "61"
        ],
        [
         "31",
         "307",
         "94.01",
         "Benzoyl Peroxide; Clindamycin",
         "clindamycin",
         "1"
        ],
        [
         "32",
         "64",
         "14.35",
         "Glimepiride",
         "glimepiride",
         "6"
        ],
        [
         "33",
         "89",
         "24.02",
         "Naproxen",
         "naproxen",
         "26"
        ],
        [
         "34",
         "95",
         "52.13",
         "Sumatriptan",
         "sumatriptan",
         "49"
        ],
        [
         "35",
         "29",
         "9.05",
         "Meloxicam",
         "meloxicam",
         "1"
        ],
        [
         "36",
         "239",
         "31.38",
         "Nabumetone",
         "nabumetone",
         "1"
        ],
        [
         "37",
         "32",
         "168.7",
         "Methylphenidate",
         "methylphenidate",
         "1"
        ],
        [
         "38",
         "96",
         "26.51",
         "Amoxicillin; Clavulanate",
         "amoxicillin",
         "19"
        ],
        [
         "39",
         "147",
         "39.66",
         "Clindamycin",
         "clindamycin",
         "1"
        ],
        [
         "40",
         "3",
         "10.54",
         "Lisinopril",
         "lisinopril",
         "1"
        ],
        [
         "41",
         "5",
         "10.29",
         "Amlodipine",
         "amlodipine",
         "5"
        ],
        [
         "42",
         "144",
         "897.87",
         "Fluticasone; Umeclidinium; Vilanterol",
         "fluticasone",
         "1"
        ],
        [
         "43",
         "299",
         "185.49",
         "Azelastine; Fluticasone",
         "fluticasone",
         "1"
        ],
        [
         "44",
         "165",
         "1225.78",
         "Sacubitril; Valsartan",
         "sacubitril",
         "5"
        ],
        [
         "45",
         "167",
         "260.85",
         "Oxcarbazepine",
         "oxcarbazepine",
         "3"
        ],
        [
         "46",
         "113",
         "42.79",
         "Valacyclovir",
         "valacyclovir",
         "17"
        ],
        [
         "47",
         "152",
         "45.47",
         "Levocetirizine",
         "levocetirizine",
         "1"
        ],
        [
         "48",
         "182",
         "808.0",
         "Metformin; Sitagliptin",
         "metformin",
         "15"
        ],
        [
         "49",
         "235",
         "71.22",
         "Hydrochlorothiazide; Olmesartan",
         "hydrochlorothiazide",
         "1"
        ]
       ],
       "shape": {
        "columns": 5,
        "rows": 66
       }
      },
      "text/html": [
       "<div>\n",
       "<style scoped>\n",
       "    .dataframe tbody tr th:only-of-type {\n",
       "        vertical-align: middle;\n",
       "    }\n",
       "\n",
       "    .dataframe tbody tr th {\n",
       "        vertical-align: top;\n",
       "    }\n",
       "\n",
       "    .dataframe thead th {\n",
       "        text-align: right;\n",
       "    }\n",
       "</style>\n",
       "<table border=\"1\" class=\"dataframe\">\n",
       "  <thead>\n",
       "    <tr style=\"text-align: right;\">\n",
       "      <th></th>\n",
       "      <th>rank</th>\n",
       "      <th>cost</th>\n",
       "      <th>name</th>\n",
       "      <th>drug_name</th>\n",
       "      <th>trial_count</th>\n",
       "    </tr>\n",
       "  </thead>\n",
       "  <tbody>\n",
       "    <tr>\n",
       "      <th>0</th>\n",
       "      <td>221</td>\n",
       "      <td>11.60</td>\n",
       "      <td>Sodium Fluoride</td>\n",
       "      <td>sodium fluoride</td>\n",
       "      <td>1</td>\n",
       "    </tr>\n",
       "    <tr>\n",
       "      <th>1</th>\n",
       "      <td>34</td>\n",
       "      <td>16.45</td>\n",
       "      <td>Carvedilol</td>\n",
       "      <td>carvedilol</td>\n",
       "      <td>17</td>\n",
       "    </tr>\n",
       "    <tr>\n",
       "      <th>2</th>\n",
       "      <td>36</td>\n",
       "      <td>4.80</td>\n",
       "      <td>Aspirin</td>\n",
       "      <td>aspirin</td>\n",
       "      <td>2</td>\n",
       "    </tr>\n",
       "    <tr>\n",
       "      <th>3</th>\n",
       "      <td>2</td>\n",
       "      <td>70.33</td>\n",
       "      <td>Metformin</td>\n",
       "      <td>metformin</td>\n",
       "      <td>15</td>\n",
       "    </tr>\n",
       "    <tr>\n",
       "      <th>4</th>\n",
       "      <td>141</td>\n",
       "      <td>18.60</td>\n",
       "      <td>Enalapril</td>\n",
       "      <td>enalapril</td>\n",
       "      <td>1</td>\n",
       "    </tr>\n",
       "    <tr>\n",
       "      <th>...</th>\n",
       "      <td>...</td>\n",
       "      <td>...</td>\n",
       "      <td>...</td>\n",
       "      <td>...</td>\n",
       "      <td>...</td>\n",
       "    </tr>\n",
       "    <tr>\n",
       "      <th>61</th>\n",
       "      <td>92</td>\n",
       "      <td>19.10</td>\n",
       "      <td>Paroxetine</td>\n",
       "      <td>paroxetine</td>\n",
       "      <td>104</td>\n",
       "    </tr>\n",
       "    <tr>\n",
       "      <th>62</th>\n",
       "      <td>12</td>\n",
       "      <td>8.36</td>\n",
       "      <td>Hydrochlorothiazide</td>\n",
       "      <td>hydrochlorothiazide</td>\n",
       "      <td>1</td>\n",
       "    </tr>\n",
       "    <tr>\n",
       "      <th>63</th>\n",
       "      <td>165</td>\n",
       "      <td>1225.78</td>\n",
       "      <td>Sacubitril; Valsartan</td>\n",
       "      <td>valsartan</td>\n",
       "      <td>7</td>\n",
       "    </tr>\n",
       "    <tr>\n",
       "      <th>64</th>\n",
       "      <td>145</td>\n",
       "      <td>532.17</td>\n",
       "      <td>Fluticasone; Vilanterol</td>\n",
       "      <td>fluticasone</td>\n",
       "      <td>1</td>\n",
       "    </tr>\n",
       "    <tr>\n",
       "      <th>65</th>\n",
       "      <td>211</td>\n",
       "      <td>1030.16</td>\n",
       "      <td>Umeclidinium; Vilanterol</td>\n",
       "      <td>vilanterol</td>\n",
       "      <td>107</td>\n",
       "    </tr>\n",
       "  </tbody>\n",
       "</table>\n",
       "<p>66 rows × 5 columns</p>\n",
       "</div>"
      ],
      "text/plain": [
       "    rank     cost                      name            drug_name  trial_count\n",
       "0    221    11.60           Sodium Fluoride      sodium fluoride            1\n",
       "1     34    16.45                Carvedilol           carvedilol           17\n",
       "2     36     4.80                   Aspirin              aspirin            2\n",
       "3      2    70.33                 Metformin            metformin           15\n",
       "4    141    18.60                 Enalapril            enalapril            1\n",
       "..   ...      ...                       ...                  ...          ...\n",
       "61    92    19.10                Paroxetine           paroxetine          104\n",
       "62    12     8.36       Hydrochlorothiazide  hydrochlorothiazide            1\n",
       "63   165  1225.78     Sacubitril; Valsartan            valsartan            7\n",
       "64   145   532.17   Fluticasone; Vilanterol          fluticasone            1\n",
       "65   211  1030.16  Umeclidinium; Vilanterol           vilanterol          107\n",
       "\n",
       "[66 rows x 5 columns]"
      ]
     },
     "execution_count": 43,
     "metadata": {},
     "output_type": "execute_result"
    }
   ],
   "source": [
    "query = \"\"\"\n",
    "SELECT \n",
    "  \"rank\", \n",
    "  \"cost\",\n",
    "  name, \n",
    "  drug_name,\n",
    "  COUNT(PostingID) AS trial_count\n",
    "FROM\n",
    "GRAPH_TABLE(\n",
    "  drug_graph\n",
    "  MATCH\n",
    "  (p:Prescription)-[m:CONTAINS_SUBSTANCE]->(d:Drug)\n",
    "  COLUMNS (p.\"Top drug rank (2022)\" AS rank, \n",
    "          p.\"Average total drug cost (USD)_Per prescription\" AS cost, \n",
    "          p.name AS name, \n",
    "          d.name AS drug_name, \n",
    "          d.drug_cui AS drug_cui)\n",
    ") Pre,\n",
    "Trials\n",
    "WHERE list_contains(Trials.drug_cui, Pre.drug_cui)\n",
    "GROUP BY \"rank\", \"cost\", name, drug_name\n",
    "\"\"\"\n",
    "\n",
    "\n",
    "\n",
    "popular_prescription = con.execute(query).fetch_df()\n",
    "popular_prescription"
   ]
  },
  {
   "cell_type": "code",
   "execution_count": 44,
   "metadata": {},
   "outputs": [
    {
     "data": {
      "application/vnd.microsoft.datawrangler.viewer.v0+json": {
       "columns": [
        {
         "name": "index",
         "rawType": "int64",
         "type": "integer"
        },
        {
         "name": "rank",
         "rawType": "int32",
         "type": "integer"
        },
        {
         "name": "cost",
         "rawType": "float64",
         "type": "float"
        },
        {
         "name": "name",
         "rawType": "object",
         "type": "string"
        },
        {
         "name": "drug_name",
         "rawType": "object",
         "type": "string"
        },
        {
         "name": "trial_count",
         "rawType": "int64",
         "type": "integer"
        }
       ],
       "conversionMethod": "pd.DataFrame",
       "ref": "076ea882-a39e-47a5-904d-4ae992c2f503",
       "rows": [
        [
         "0",
         "182",
         "808.0",
         "Metformin; Sitagliptin",
         "metformin",
         "15"
        ],
        [
         "1",
         "34",
         "16.45",
         "Carvedilol",
         "carvedilol",
         "17"
        ],
        [
         "2",
         "156",
         "72.33",
         "Clobetasol",
         "clobetasol",
         "1"
        ],
        [
         "3",
         "29",
         "9.05",
         "Meloxicam",
         "meloxicam",
         "1"
        ],
        [
         "4",
         "147",
         "39.66",
         "Clindamycin",
         "clindamycin",
         "1"
        ],
        [
         "5",
         "116",
         "12.44",
         "Hydrochlorothiazide; Triamterene",
         "hydrochlorothiazide",
         "1"
        ],
        [
         "6",
         "146",
         "23.69",
         "Donepezil",
         "donepezil",
         "14"
        ],
        [
         "7",
         "167",
         "260.85",
         "Oxcarbazepine",
         "oxcarbazepine",
         "3"
        ],
        [
         "8",
         "222",
         "841.36",
         "Mirabegron",
         "mirabegron",
         "21"
        ],
        [
         "9",
         "5",
         "10.29",
         "Amlodipine",
         "amlodipine",
         "5"
        ],
        [
         "10",
         "170",
         "69.8",
         "Amlodipine; Benazepril",
         "amlodipine",
         "5"
        ],
        [
         "11",
         "1",
         "19.0",
         "Atorvastatin",
         "atorvastatin",
         "1"
        ],
        [
         "12",
         "13",
         "37.2",
         "Rosuvastatin",
         "rosuvastatin",
         "1"
        ],
        [
         "13",
         "20",
         "30.95",
         "Tamsulosin",
         "tamsulosin",
         "7"
        ],
        [
         "14",
         "58",
         "70.32",
         "Lamotrigine",
         "lamotrigine",
         "61"
        ],
        [
         "15",
         "75",
         "34.25",
         "Hydrochlorothiazide; Losartan",
         "losartan",
         "2"
        ],
        [
         "16",
         "113",
         "42.79",
         "Valacyclovir",
         "valacyclovir",
         "17"
        ],
        [
         "17",
         "178",
         "218.91",
         "Albuterol; Ipratropium",
         "albuterol",
         "9"
        ],
        [
         "18",
         "211",
         "1030.16",
         "Umeclidinium; Vilanterol",
         "vilanterol",
         "107"
        ],
        [
         "19",
         "299",
         "185.49",
         "Azelastine; Fluticasone",
         "fluticasone",
         "1"
        ],
        [
         "20",
         "144",
         "897.87",
         "Fluticasone; Umeclidinium; Vilanterol",
         "vilanterol",
         "107"
        ],
        [
         "21",
         "25",
         "94.76",
         "Fluticasone",
         "fluticasone",
         "1"
        ],
        [
         "22",
         "350",
         "36.78",
         "Benzoyl Peroxide; Erythromycin",
         "benzoyl peroxide",
         "14"
        ],
        [
         "23",
         "32",
         "168.7",
         "Methylphenidate",
         "methylphenidate",
         "1"
        ],
        [
         "24",
         "89",
         "24.02",
         "Naproxen",
         "naproxen",
         "26"
        ],
        [
         "25",
         "307",
         "94.01",
         "Benzoyl Peroxide; Clindamycin",
         "benzoyl peroxide",
         "14"
        ],
        [
         "26",
         "141",
         "18.6",
         "Enalapril",
         "enalapril",
         "1"
        ],
        [
         "27",
         "53",
         "11.46",
         "Hydrochlorothiazide; Lisinopril",
         "lisinopril",
         "1"
        ],
        [
         "28",
         "239",
         "31.38",
         "Nabumetone",
         "nabumetone",
         "1"
        ],
        [
         "29",
         "117",
         "49.28",
         "Valsartan",
         "valsartan",
         "7"
        ],
        [
         "30",
         "145",
         "532.17",
         "Fluticasone; Vilanterol",
         "vilanterol",
         "107"
        ],
        [
         "31",
         "3",
         "10.54",
         "Lisinopril",
         "lisinopril",
         "1"
        ],
        [
         "32",
         "8",
         "18.46",
         "Losartan",
         "losartan",
         "2"
        ],
        [
         "33",
         "16",
         "26.23",
         "Pantoprazole",
         "pantoprazole",
         "2"
        ],
        [
         "34",
         "21",
         "147.4",
         "Bupropion",
         "bupropion",
         "37"
        ],
        [
         "35",
         "17",
         "26.12",
         "Montelukast",
         "montelukast",
         "1"
        ],
        [
         "36",
         "26",
         "9.5",
         "Amoxicillin",
         "amoxicillin",
         "19"
        ],
        [
         "37",
         "64",
         "14.35",
         "Glimepiride",
         "glimepiride",
         "6"
        ],
        [
         "38",
         "96",
         "26.51",
         "Amoxicillin; Clavulanate",
         "amoxicillin",
         "19"
        ],
        [
         "39",
         "381",
         "0.0",
         "Benzoyl Peroxide; Tretinoin",
         "benzoyl peroxide",
         "14"
        ],
        [
         "40",
         "175",
         "26.85",
         "Ketoconazole",
         "ketoconazole",
         "1"
        ],
        [
         "41",
         "12",
         "8.36",
         "Hydrochlorothiazide",
         "hydrochlorothiazide",
         "1"
        ],
        [
         "42",
         "92",
         "19.1",
         "Paroxetine",
         "paroxetine",
         "104"
        ],
        [
         "43",
         "95",
         "52.13",
         "Sumatriptan",
         "sumatriptan",
         "49"
        ],
        [
         "44",
         "286",
         "163.05",
         "Ciprofloxacin; Dexamethasone",
         "ciprofloxacin",
         "1"
        ],
        [
         "45",
         "163",
         "37.04",
         "Ropinirole",
         "ropinirole",
         "44"
        ],
        [
         "46",
         "181",
         "16.45",
         "Ciprofloxacin",
         "ciprofloxacin",
         "1"
        ],
        [
         "47",
         "189",
         "690.3",
         "Linaclotide",
         "linaclotide",
         "2"
        ],
        [
         "48",
         "235",
         "71.22",
         "Hydrochlorothiazide; Olmesartan",
         "hydrochlorothiazide",
         "1"
        ],
        [
         "49",
         "220",
         "45.79",
         "Omega-3-acid Ethyl Esters",
         "omega-3 acid ethyl esters (USP)",
         "9"
        ]
       ],
       "shape": {
        "columns": 5,
        "rows": 59
       }
      },
      "text/html": [
       "<div>\n",
       "<style scoped>\n",
       "    .dataframe tbody tr th:only-of-type {\n",
       "        vertical-align: middle;\n",
       "    }\n",
       "\n",
       "    .dataframe tbody tr th {\n",
       "        vertical-align: top;\n",
       "    }\n",
       "\n",
       "    .dataframe thead th {\n",
       "        text-align: right;\n",
       "    }\n",
       "</style>\n",
       "<table border=\"1\" class=\"dataframe\">\n",
       "  <thead>\n",
       "    <tr style=\"text-align: right;\">\n",
       "      <th></th>\n",
       "      <th>rank</th>\n",
       "      <th>cost</th>\n",
       "      <th>name</th>\n",
       "      <th>drug_name</th>\n",
       "      <th>trial_count</th>\n",
       "    </tr>\n",
       "  </thead>\n",
       "  <tbody>\n",
       "    <tr>\n",
       "      <th>0</th>\n",
       "      <td>182</td>\n",
       "      <td>808.00</td>\n",
       "      <td>Metformin; Sitagliptin</td>\n",
       "      <td>metformin</td>\n",
       "      <td>15</td>\n",
       "    </tr>\n",
       "    <tr>\n",
       "      <th>1</th>\n",
       "      <td>34</td>\n",
       "      <td>16.45</td>\n",
       "      <td>Carvedilol</td>\n",
       "      <td>carvedilol</td>\n",
       "      <td>17</td>\n",
       "    </tr>\n",
       "    <tr>\n",
       "      <th>2</th>\n",
       "      <td>156</td>\n",
       "      <td>72.33</td>\n",
       "      <td>Clobetasol</td>\n",
       "      <td>clobetasol</td>\n",
       "      <td>1</td>\n",
       "    </tr>\n",
       "    <tr>\n",
       "      <th>3</th>\n",
       "      <td>29</td>\n",
       "      <td>9.05</td>\n",
       "      <td>Meloxicam</td>\n",
       "      <td>meloxicam</td>\n",
       "      <td>1</td>\n",
       "    </tr>\n",
       "    <tr>\n",
       "      <th>4</th>\n",
       "      <td>147</td>\n",
       "      <td>39.66</td>\n",
       "      <td>Clindamycin</td>\n",
       "      <td>clindamycin</td>\n",
       "      <td>1</td>\n",
       "    </tr>\n",
       "    <tr>\n",
       "      <th>5</th>\n",
       "      <td>116</td>\n",
       "      <td>12.44</td>\n",
       "      <td>Hydrochlorothiazide; Triamterene</td>\n",
       "      <td>hydrochlorothiazide</td>\n",
       "      <td>1</td>\n",
       "    </tr>\n",
       "    <tr>\n",
       "      <th>6</th>\n",
       "      <td>146</td>\n",
       "      <td>23.69</td>\n",
       "      <td>Donepezil</td>\n",
       "      <td>donepezil</td>\n",
       "      <td>14</td>\n",
       "    </tr>\n",
       "    <tr>\n",
       "      <th>7</th>\n",
       "      <td>167</td>\n",
       "      <td>260.85</td>\n",
       "      <td>Oxcarbazepine</td>\n",
       "      <td>oxcarbazepine</td>\n",
       "      <td>3</td>\n",
       "    </tr>\n",
       "    <tr>\n",
       "      <th>8</th>\n",
       "      <td>222</td>\n",
       "      <td>841.36</td>\n",
       "      <td>Mirabegron</td>\n",
       "      <td>mirabegron</td>\n",
       "      <td>21</td>\n",
       "    </tr>\n",
       "    <tr>\n",
       "      <th>9</th>\n",
       "      <td>5</td>\n",
       "      <td>10.29</td>\n",
       "      <td>Amlodipine</td>\n",
       "      <td>amlodipine</td>\n",
       "      <td>5</td>\n",
       "    </tr>\n",
       "    <tr>\n",
       "      <th>10</th>\n",
       "      <td>170</td>\n",
       "      <td>69.80</td>\n",
       "      <td>Amlodipine; Benazepril</td>\n",
       "      <td>amlodipine</td>\n",
       "      <td>5</td>\n",
       "    </tr>\n",
       "    <tr>\n",
       "      <th>11</th>\n",
       "      <td>1</td>\n",
       "      <td>19.00</td>\n",
       "      <td>Atorvastatin</td>\n",
       "      <td>atorvastatin</td>\n",
       "      <td>1</td>\n",
       "    </tr>\n",
       "    <tr>\n",
       "      <th>12</th>\n",
       "      <td>13</td>\n",
       "      <td>37.20</td>\n",
       "      <td>Rosuvastatin</td>\n",
       "      <td>rosuvastatin</td>\n",
       "      <td>1</td>\n",
       "    </tr>\n",
       "    <tr>\n",
       "      <th>13</th>\n",
       "      <td>20</td>\n",
       "      <td>30.95</td>\n",
       "      <td>Tamsulosin</td>\n",
       "      <td>tamsulosin</td>\n",
       "      <td>7</td>\n",
       "    </tr>\n",
       "    <tr>\n",
       "      <th>14</th>\n",
       "      <td>58</td>\n",
       "      <td>70.32</td>\n",
       "      <td>Lamotrigine</td>\n",
       "      <td>lamotrigine</td>\n",
       "      <td>61</td>\n",
       "    </tr>\n",
       "    <tr>\n",
       "      <th>15</th>\n",
       "      <td>75</td>\n",
       "      <td>34.25</td>\n",
       "      <td>Hydrochlorothiazide; Losartan</td>\n",
       "      <td>losartan</td>\n",
       "      <td>2</td>\n",
       "    </tr>\n",
       "    <tr>\n",
       "      <th>16</th>\n",
       "      <td>113</td>\n",
       "      <td>42.79</td>\n",
       "      <td>Valacyclovir</td>\n",
       "      <td>valacyclovir</td>\n",
       "      <td>17</td>\n",
       "    </tr>\n",
       "    <tr>\n",
       "      <th>17</th>\n",
       "      <td>178</td>\n",
       "      <td>218.91</td>\n",
       "      <td>Albuterol; Ipratropium</td>\n",
       "      <td>albuterol</td>\n",
       "      <td>9</td>\n",
       "    </tr>\n",
       "    <tr>\n",
       "      <th>18</th>\n",
       "      <td>211</td>\n",
       "      <td>1030.16</td>\n",
       "      <td>Umeclidinium; Vilanterol</td>\n",
       "      <td>vilanterol</td>\n",
       "      <td>107</td>\n",
       "    </tr>\n",
       "    <tr>\n",
       "      <th>19</th>\n",
       "      <td>299</td>\n",
       "      <td>185.49</td>\n",
       "      <td>Azelastine; Fluticasone</td>\n",
       "      <td>fluticasone</td>\n",
       "      <td>1</td>\n",
       "    </tr>\n",
       "    <tr>\n",
       "      <th>20</th>\n",
       "      <td>144</td>\n",
       "      <td>897.87</td>\n",
       "      <td>Fluticasone; Umeclidinium; Vilanterol</td>\n",
       "      <td>vilanterol</td>\n",
       "      <td>107</td>\n",
       "    </tr>\n",
       "    <tr>\n",
       "      <th>21</th>\n",
       "      <td>25</td>\n",
       "      <td>94.76</td>\n",
       "      <td>Fluticasone</td>\n",
       "      <td>fluticasone</td>\n",
       "      <td>1</td>\n",
       "    </tr>\n",
       "    <tr>\n",
       "      <th>22</th>\n",
       "      <td>350</td>\n",
       "      <td>36.78</td>\n",
       "      <td>Benzoyl Peroxide; Erythromycin</td>\n",
       "      <td>benzoyl peroxide</td>\n",
       "      <td>14</td>\n",
       "    </tr>\n",
       "    <tr>\n",
       "      <th>23</th>\n",
       "      <td>32</td>\n",
       "      <td>168.70</td>\n",
       "      <td>Methylphenidate</td>\n",
       "      <td>methylphenidate</td>\n",
       "      <td>1</td>\n",
       "    </tr>\n",
       "    <tr>\n",
       "      <th>24</th>\n",
       "      <td>89</td>\n",
       "      <td>24.02</td>\n",
       "      <td>Naproxen</td>\n",
       "      <td>naproxen</td>\n",
       "      <td>26</td>\n",
       "    </tr>\n",
       "    <tr>\n",
       "      <th>25</th>\n",
       "      <td>307</td>\n",
       "      <td>94.01</td>\n",
       "      <td>Benzoyl Peroxide; Clindamycin</td>\n",
       "      <td>benzoyl peroxide</td>\n",
       "      <td>14</td>\n",
       "    </tr>\n",
       "    <tr>\n",
       "      <th>26</th>\n",
       "      <td>141</td>\n",
       "      <td>18.60</td>\n",
       "      <td>Enalapril</td>\n",
       "      <td>enalapril</td>\n",
       "      <td>1</td>\n",
       "    </tr>\n",
       "    <tr>\n",
       "      <th>27</th>\n",
       "      <td>53</td>\n",
       "      <td>11.46</td>\n",
       "      <td>Hydrochlorothiazide; Lisinopril</td>\n",
       "      <td>lisinopril</td>\n",
       "      <td>1</td>\n",
       "    </tr>\n",
       "    <tr>\n",
       "      <th>28</th>\n",
       "      <td>239</td>\n",
       "      <td>31.38</td>\n",
       "      <td>Nabumetone</td>\n",
       "      <td>nabumetone</td>\n",
       "      <td>1</td>\n",
       "    </tr>\n",
       "    <tr>\n",
       "      <th>29</th>\n",
       "      <td>117</td>\n",
       "      <td>49.28</td>\n",
       "      <td>Valsartan</td>\n",
       "      <td>valsartan</td>\n",
       "      <td>7</td>\n",
       "    </tr>\n",
       "    <tr>\n",
       "      <th>30</th>\n",
       "      <td>145</td>\n",
       "      <td>532.17</td>\n",
       "      <td>Fluticasone; Vilanterol</td>\n",
       "      <td>vilanterol</td>\n",
       "      <td>107</td>\n",
       "    </tr>\n",
       "    <tr>\n",
       "      <th>31</th>\n",
       "      <td>3</td>\n",
       "      <td>10.54</td>\n",
       "      <td>Lisinopril</td>\n",
       "      <td>lisinopril</td>\n",
       "      <td>1</td>\n",
       "    </tr>\n",
       "    <tr>\n",
       "      <th>32</th>\n",
       "      <td>8</td>\n",
       "      <td>18.46</td>\n",
       "      <td>Losartan</td>\n",
       "      <td>losartan</td>\n",
       "      <td>2</td>\n",
       "    </tr>\n",
       "    <tr>\n",
       "      <th>33</th>\n",
       "      <td>16</td>\n",
       "      <td>26.23</td>\n",
       "      <td>Pantoprazole</td>\n",
       "      <td>pantoprazole</td>\n",
       "      <td>2</td>\n",
       "    </tr>\n",
       "    <tr>\n",
       "      <th>34</th>\n",
       "      <td>21</td>\n",
       "      <td>147.40</td>\n",
       "      <td>Bupropion</td>\n",
       "      <td>bupropion</td>\n",
       "      <td>37</td>\n",
       "    </tr>\n",
       "    <tr>\n",
       "      <th>35</th>\n",
       "      <td>17</td>\n",
       "      <td>26.12</td>\n",
       "      <td>Montelukast</td>\n",
       "      <td>montelukast</td>\n",
       "      <td>1</td>\n",
       "    </tr>\n",
       "    <tr>\n",
       "      <th>36</th>\n",
       "      <td>26</td>\n",
       "      <td>9.50</td>\n",
       "      <td>Amoxicillin</td>\n",
       "      <td>amoxicillin</td>\n",
       "      <td>19</td>\n",
       "    </tr>\n",
       "    <tr>\n",
       "      <th>37</th>\n",
       "      <td>64</td>\n",
       "      <td>14.35</td>\n",
       "      <td>Glimepiride</td>\n",
       "      <td>glimepiride</td>\n",
       "      <td>6</td>\n",
       "    </tr>\n",
       "    <tr>\n",
       "      <th>38</th>\n",
       "      <td>96</td>\n",
       "      <td>26.51</td>\n",
       "      <td>Amoxicillin; Clavulanate</td>\n",
       "      <td>amoxicillin</td>\n",
       "      <td>19</td>\n",
       "    </tr>\n",
       "    <tr>\n",
       "      <th>39</th>\n",
       "      <td>381</td>\n",
       "      <td>0.00</td>\n",
       "      <td>Benzoyl Peroxide; Tretinoin</td>\n",
       "      <td>benzoyl peroxide</td>\n",
       "      <td>14</td>\n",
       "    </tr>\n",
       "    <tr>\n",
       "      <th>40</th>\n",
       "      <td>175</td>\n",
       "      <td>26.85</td>\n",
       "      <td>Ketoconazole</td>\n",
       "      <td>ketoconazole</td>\n",
       "      <td>1</td>\n",
       "    </tr>\n",
       "    <tr>\n",
       "      <th>41</th>\n",
       "      <td>12</td>\n",
       "      <td>8.36</td>\n",
       "      <td>Hydrochlorothiazide</td>\n",
       "      <td>hydrochlorothiazide</td>\n",
       "      <td>1</td>\n",
       "    </tr>\n",
       "    <tr>\n",
       "      <th>42</th>\n",
       "      <td>92</td>\n",
       "      <td>19.10</td>\n",
       "      <td>Paroxetine</td>\n",
       "      <td>paroxetine</td>\n",
       "      <td>104</td>\n",
       "    </tr>\n",
       "    <tr>\n",
       "      <th>43</th>\n",
       "      <td>95</td>\n",
       "      <td>52.13</td>\n",
       "      <td>Sumatriptan</td>\n",
       "      <td>sumatriptan</td>\n",
       "      <td>49</td>\n",
       "    </tr>\n",
       "    <tr>\n",
       "      <th>44</th>\n",
       "      <td>286</td>\n",
       "      <td>163.05</td>\n",
       "      <td>Ciprofloxacin; Dexamethasone</td>\n",
       "      <td>ciprofloxacin</td>\n",
       "      <td>1</td>\n",
       "    </tr>\n",
       "    <tr>\n",
       "      <th>45</th>\n",
       "      <td>163</td>\n",
       "      <td>37.04</td>\n",
       "      <td>Ropinirole</td>\n",
       "      <td>ropinirole</td>\n",
       "      <td>44</td>\n",
       "    </tr>\n",
       "    <tr>\n",
       "      <th>46</th>\n",
       "      <td>181</td>\n",
       "      <td>16.45</td>\n",
       "      <td>Ciprofloxacin</td>\n",
       "      <td>ciprofloxacin</td>\n",
       "      <td>1</td>\n",
       "    </tr>\n",
       "    <tr>\n",
       "      <th>47</th>\n",
       "      <td>189</td>\n",
       "      <td>690.30</td>\n",
       "      <td>Linaclotide</td>\n",
       "      <td>linaclotide</td>\n",
       "      <td>2</td>\n",
       "    </tr>\n",
       "    <tr>\n",
       "      <th>48</th>\n",
       "      <td>235</td>\n",
       "      <td>71.22</td>\n",
       "      <td>Hydrochlorothiazide; Olmesartan</td>\n",
       "      <td>hydrochlorothiazide</td>\n",
       "      <td>1</td>\n",
       "    </tr>\n",
       "    <tr>\n",
       "      <th>49</th>\n",
       "      <td>220</td>\n",
       "      <td>45.79</td>\n",
       "      <td>Omega-3-acid Ethyl Esters</td>\n",
       "      <td>omega-3 acid ethyl esters (USP)</td>\n",
       "      <td>9</td>\n",
       "    </tr>\n",
       "    <tr>\n",
       "      <th>50</th>\n",
       "      <td>19</td>\n",
       "      <td>14.31</td>\n",
       "      <td>Simvastatin</td>\n",
       "      <td>simvastatin</td>\n",
       "      <td>2</td>\n",
       "    </tr>\n",
       "    <tr>\n",
       "      <th>51</th>\n",
       "      <td>36</td>\n",
       "      <td>4.80</td>\n",
       "      <td>Aspirin</td>\n",
       "      <td>aspirin</td>\n",
       "      <td>2</td>\n",
       "    </tr>\n",
       "    <tr>\n",
       "      <th>52</th>\n",
       "      <td>2</td>\n",
       "      <td>70.33</td>\n",
       "      <td>Metformin</td>\n",
       "      <td>metformin</td>\n",
       "      <td>15</td>\n",
       "    </tr>\n",
       "    <tr>\n",
       "      <th>53</th>\n",
       "      <td>7</td>\n",
       "      <td>47.70</td>\n",
       "      <td>Albuterol</td>\n",
       "      <td>albuterol</td>\n",
       "      <td>9</td>\n",
       "    </tr>\n",
       "    <tr>\n",
       "      <th>54</th>\n",
       "      <td>165</td>\n",
       "      <td>1225.78</td>\n",
       "      <td>Sacubitril; Valsartan</td>\n",
       "      <td>valsartan</td>\n",
       "      <td>7</td>\n",
       "    </tr>\n",
       "    <tr>\n",
       "      <th>55</th>\n",
       "      <td>221</td>\n",
       "      <td>11.60</td>\n",
       "      <td>Sodium Fluoride</td>\n",
       "      <td>sodium fluoride</td>\n",
       "      <td>1</td>\n",
       "    </tr>\n",
       "    <tr>\n",
       "      <th>56</th>\n",
       "      <td>152</td>\n",
       "      <td>45.47</td>\n",
       "      <td>Levocetirizine</td>\n",
       "      <td>levocetirizine</td>\n",
       "      <td>1</td>\n",
       "    </tr>\n",
       "    <tr>\n",
       "      <th>57</th>\n",
       "      <td>292</td>\n",
       "      <td>402.65</td>\n",
       "      <td>Adapalene; Benzoyl Peroxide</td>\n",
       "      <td>benzoyl peroxide</td>\n",
       "      <td>14</td>\n",
       "    </tr>\n",
       "    <tr>\n",
       "      <th>58</th>\n",
       "      <td>59</td>\n",
       "      <td>416.27</td>\n",
       "      <td>Fluticasone; Salmeterol</td>\n",
       "      <td>salmeterol</td>\n",
       "      <td>129</td>\n",
       "    </tr>\n",
       "  </tbody>\n",
       "</table>\n",
       "</div>"
      ],
      "text/plain": [
       "    rank     cost                                   name  \\\n",
       "0    182   808.00                 Metformin; Sitagliptin   \n",
       "1     34    16.45                             Carvedilol   \n",
       "2    156    72.33                             Clobetasol   \n",
       "3     29     9.05                              Meloxicam   \n",
       "4    147    39.66                            Clindamycin   \n",
       "5    116    12.44       Hydrochlorothiazide; Triamterene   \n",
       "6    146    23.69                              Donepezil   \n",
       "7    167   260.85                          Oxcarbazepine   \n",
       "8    222   841.36                             Mirabegron   \n",
       "9      5    10.29                             Amlodipine   \n",
       "10   170    69.80                 Amlodipine; Benazepril   \n",
       "11     1    19.00                           Atorvastatin   \n",
       "12    13    37.20                           Rosuvastatin   \n",
       "13    20    30.95                             Tamsulosin   \n",
       "14    58    70.32                            Lamotrigine   \n",
       "15    75    34.25          Hydrochlorothiazide; Losartan   \n",
       "16   113    42.79                           Valacyclovir   \n",
       "17   178   218.91                 Albuterol; Ipratropium   \n",
       "18   211  1030.16               Umeclidinium; Vilanterol   \n",
       "19   299   185.49                Azelastine; Fluticasone   \n",
       "20   144   897.87  Fluticasone; Umeclidinium; Vilanterol   \n",
       "21    25    94.76                            Fluticasone   \n",
       "22   350    36.78         Benzoyl Peroxide; Erythromycin   \n",
       "23    32   168.70                        Methylphenidate   \n",
       "24    89    24.02                               Naproxen   \n",
       "25   307    94.01          Benzoyl Peroxide; Clindamycin   \n",
       "26   141    18.60                              Enalapril   \n",
       "27    53    11.46        Hydrochlorothiazide; Lisinopril   \n",
       "28   239    31.38                             Nabumetone   \n",
       "29   117    49.28                              Valsartan   \n",
       "30   145   532.17                Fluticasone; Vilanterol   \n",
       "31     3    10.54                             Lisinopril   \n",
       "32     8    18.46                               Losartan   \n",
       "33    16    26.23                           Pantoprazole   \n",
       "34    21   147.40                              Bupropion   \n",
       "35    17    26.12                            Montelukast   \n",
       "36    26     9.50                            Amoxicillin   \n",
       "37    64    14.35                            Glimepiride   \n",
       "38    96    26.51               Amoxicillin; Clavulanate   \n",
       "39   381     0.00            Benzoyl Peroxide; Tretinoin   \n",
       "40   175    26.85                           Ketoconazole   \n",
       "41    12     8.36                    Hydrochlorothiazide   \n",
       "42    92    19.10                             Paroxetine   \n",
       "43    95    52.13                            Sumatriptan   \n",
       "44   286   163.05           Ciprofloxacin; Dexamethasone   \n",
       "45   163    37.04                             Ropinirole   \n",
       "46   181    16.45                          Ciprofloxacin   \n",
       "47   189   690.30                            Linaclotide   \n",
       "48   235    71.22        Hydrochlorothiazide; Olmesartan   \n",
       "49   220    45.79              Omega-3-acid Ethyl Esters   \n",
       "50    19    14.31                            Simvastatin   \n",
       "51    36     4.80                                Aspirin   \n",
       "52     2    70.33                              Metformin   \n",
       "53     7    47.70                              Albuterol   \n",
       "54   165  1225.78                  Sacubitril; Valsartan   \n",
       "55   221    11.60                        Sodium Fluoride   \n",
       "56   152    45.47                         Levocetirizine   \n",
       "57   292   402.65            Adapalene; Benzoyl Peroxide   \n",
       "58    59   416.27                Fluticasone; Salmeterol   \n",
       "\n",
       "                          drug_name  trial_count  \n",
       "0                         metformin           15  \n",
       "1                        carvedilol           17  \n",
       "2                        clobetasol            1  \n",
       "3                         meloxicam            1  \n",
       "4                       clindamycin            1  \n",
       "5               hydrochlorothiazide            1  \n",
       "6                         donepezil           14  \n",
       "7                     oxcarbazepine            3  \n",
       "8                        mirabegron           21  \n",
       "9                        amlodipine            5  \n",
       "10                       amlodipine            5  \n",
       "11                     atorvastatin            1  \n",
       "12                     rosuvastatin            1  \n",
       "13                       tamsulosin            7  \n",
       "14                      lamotrigine           61  \n",
       "15                         losartan            2  \n",
       "16                     valacyclovir           17  \n",
       "17                        albuterol            9  \n",
       "18                       vilanterol          107  \n",
       "19                      fluticasone            1  \n",
       "20                       vilanterol          107  \n",
       "21                      fluticasone            1  \n",
       "22                 benzoyl peroxide           14  \n",
       "23                  methylphenidate            1  \n",
       "24                         naproxen           26  \n",
       "25                 benzoyl peroxide           14  \n",
       "26                        enalapril            1  \n",
       "27                       lisinopril            1  \n",
       "28                       nabumetone            1  \n",
       "29                        valsartan            7  \n",
       "30                       vilanterol          107  \n",
       "31                       lisinopril            1  \n",
       "32                         losartan            2  \n",
       "33                     pantoprazole            2  \n",
       "34                        bupropion           37  \n",
       "35                      montelukast            1  \n",
       "36                      amoxicillin           19  \n",
       "37                      glimepiride            6  \n",
       "38                      amoxicillin           19  \n",
       "39                 benzoyl peroxide           14  \n",
       "40                     ketoconazole            1  \n",
       "41              hydrochlorothiazide            1  \n",
       "42                       paroxetine          104  \n",
       "43                      sumatriptan           49  \n",
       "44                    ciprofloxacin            1  \n",
       "45                       ropinirole           44  \n",
       "46                    ciprofloxacin            1  \n",
       "47                      linaclotide            2  \n",
       "48              hydrochlorothiazide            1  \n",
       "49  omega-3 acid ethyl esters (USP)            9  \n",
       "50                      simvastatin            2  \n",
       "51                          aspirin            2  \n",
       "52                        metformin           15  \n",
       "53                        albuterol            9  \n",
       "54                        valsartan            7  \n",
       "55                  sodium fluoride            1  \n",
       "56                   levocetirizine            1  \n",
       "57                 benzoyl peroxide           14  \n",
       "58                       salmeterol          129  "
      ]
     },
     "execution_count": 44,
     "metadata": {},
     "output_type": "execute_result"
    }
   ],
   "source": [
    "query = \"\"\"\n",
    "WITH drug_trials AS (\n",
    "  SELECT \n",
    "    \"rank\", \n",
    "    \"cost\",\n",
    "    name, \n",
    "    drug_name,\n",
    "    COUNT(PostingID) AS trial_count\n",
    "  FROM\n",
    "  GRAPH_TABLE(\n",
    "    drug_graph\n",
    "    MATCH\n",
    "    (p:Prescription)-[m:CONTAINS_SUBSTANCE]->(d:Drug)\n",
    "    COLUMNS (p.\"Top drug rank (2022)\" AS rank, \n",
    "            p.\"Average total drug cost (USD)_Per prescription\" AS cost, \n",
    "            p.name AS name, \n",
    "            d.name AS drug_name, \n",
    "            d.drug_cui AS drug_cui)\n",
    "  ) Pre,\n",
    "  Trials\n",
    "  WHERE list_contains(Trials.drug_cui, Pre.drug_cui)\n",
    "  GROUP BY \"rank\", \"cost\", name, drug_name\n",
    "),\n",
    "ranked_drugs AS (\n",
    "  SELECT \n",
    "    \"rank\", \n",
    "    \"cost\",\n",
    "    name, \n",
    "    drug_name,\n",
    "    trial_count,\n",
    "    ROW_NUMBER() OVER (PARTITION BY \"rank\", \"cost\", name ORDER BY trial_count DESC) AS rn\n",
    "  FROM drug_trials\n",
    ")\n",
    "SELECT \n",
    "  \"rank\", \n",
    "  \"cost\",\n",
    "  name, \n",
    "  drug_name,\n",
    "  trial_count\n",
    "FROM ranked_drugs\n",
    "WHERE rn = 1\n",
    "\"\"\"\n",
    "\n",
    "\n",
    "\n",
    "popular_prescription_temp = con.execute(query).fetch_df()\n",
    "popular_prescription_temp"
   ]
  },
  {
   "cell_type": "code",
   "execution_count": 45,
   "metadata": {},
   "outputs": [
    {
     "data": {
      "application/vnd.microsoft.datawrangler.viewer.v0+json": {
       "columns": [
        {
         "name": "index",
         "rawType": "int64",
         "type": "integer"
        },
        {
         "name": "rank",
         "rawType": "int32",
         "type": "integer"
        },
        {
         "name": "cost",
         "rawType": "float64",
         "type": "float"
        },
        {
         "name": "name",
         "rawType": "object",
         "type": "string"
        },
        {
         "name": "drug_name",
         "rawType": "object",
         "type": "string"
        },
        {
         "name": "trial_count",
         "rawType": "int64",
         "type": "integer"
        }
       ],
       "conversionMethod": "pd.DataFrame",
       "ref": "87df2042-9371-43a0-a309-c8a009485b23",
       "rows": [
        [
         "0",
         "221",
         "11.6",
         "Sodium Fluoride",
         "sodium fluoride",
         "1"
        ],
        [
         "1",
         "34",
         "16.45",
         "Carvedilol",
         "carvedilol",
         "17"
        ],
        [
         "2",
         "36",
         "4.8",
         "Aspirin",
         "aspirin",
         "2"
        ],
        [
         "3",
         "2",
         "70.33",
         "Metformin",
         "metformin",
         "15"
        ],
        [
         "4",
         "141",
         "18.6",
         "Enalapril",
         "enalapril",
         "1"
        ],
        [
         "5",
         "189",
         "690.3",
         "Linaclotide",
         "linaclotide",
         "2"
        ],
        [
         "6",
         "53",
         "11.46",
         "Hydrochlorothiazide; Lisinopril",
         "hydrochlorothiazide",
         "1"
        ],
        [
         "7",
         "116",
         "12.44",
         "Hydrochlorothiazide; Triamterene",
         "hydrochlorothiazide",
         "1"
        ],
        [
         "8",
         "21",
         "147.4",
         "Bupropion",
         "bupropion",
         "37"
        ],
        [
         "9",
         "59",
         "416.27",
         "Fluticasone; Salmeterol",
         "salmeterol",
         "129"
        ],
        [
         "10",
         "145",
         "532.17",
         "Fluticasone; Vilanterol",
         "vilanterol",
         "107"
        ],
        [
         "11",
         "13",
         "37.2",
         "Rosuvastatin",
         "rosuvastatin",
         "1"
        ],
        [
         "12",
         "307",
         "94.01",
         "Benzoyl Peroxide; Clindamycin",
         "benzoyl peroxide",
         "14"
        ],
        [
         "13",
         "178",
         "218.91",
         "Albuterol; Ipratropium",
         "albuterol",
         "9"
        ],
        [
         "14",
         "117",
         "49.28",
         "Valsartan",
         "valsartan",
         "7"
        ],
        [
         "15",
         "163",
         "37.04",
         "Ropinirole",
         "ropinirole",
         "44"
        ],
        [
         "16",
         "146",
         "23.69",
         "Donepezil",
         "donepezil",
         "14"
        ],
        [
         "17",
         "170",
         "69.8",
         "Amlodipine; Benazepril",
         "amlodipine",
         "5"
        ],
        [
         "18",
         "75",
         "34.25",
         "Hydrochlorothiazide; Losartan",
         "losartan",
         "2"
        ],
        [
         "19",
         "381",
         "0.0",
         "Benzoyl Peroxide; Tretinoin",
         "benzoyl peroxide",
         "14"
        ],
        [
         "20",
         "1",
         "19.0",
         "Atorvastatin",
         "atorvastatin",
         "1"
        ],
        [
         "21",
         "16",
         "26.23",
         "Pantoprazole",
         "pantoprazole",
         "2"
        ],
        [
         "22",
         "26",
         "9.5",
         "Amoxicillin",
         "amoxicillin",
         "19"
        ],
        [
         "23",
         "175",
         "26.85",
         "Ketoconazole",
         "ketoconazole",
         "1"
        ],
        [
         "24",
         "20",
         "30.95",
         "Tamsulosin",
         "tamsulosin",
         "7"
        ],
        [
         "25",
         "8",
         "18.46",
         "Losartan",
         "losartan",
         "2"
        ],
        [
         "26",
         "156",
         "72.33",
         "Clobetasol",
         "clobetasol",
         "1"
        ],
        [
         "27",
         "350",
         "36.78",
         "Benzoyl Peroxide; Erythromycin",
         "benzoyl peroxide",
         "14"
        ],
        [
         "28",
         "292",
         "402.65",
         "Adapalene; Benzoyl Peroxide",
         "benzoyl peroxide",
         "14"
        ],
        [
         "29",
         "25",
         "94.76",
         "Fluticasone",
         "fluticasone",
         "1"
        ],
        [
         "30",
         "58",
         "70.32",
         "Lamotrigine",
         "lamotrigine",
         "61"
        ],
        [
         "31",
         "307",
         "94.01",
         "Benzoyl Peroxide; Clindamycin",
         "clindamycin",
         "1"
        ],
        [
         "32",
         "64",
         "14.35",
         "Glimepiride",
         "glimepiride",
         "6"
        ],
        [
         "33",
         "89",
         "24.02",
         "Naproxen",
         "naproxen",
         "26"
        ],
        [
         "34",
         "95",
         "52.13",
         "Sumatriptan",
         "sumatriptan",
         "49"
        ],
        [
         "35",
         "29",
         "9.05",
         "Meloxicam",
         "meloxicam",
         "1"
        ],
        [
         "36",
         "239",
         "31.38",
         "Nabumetone",
         "nabumetone",
         "1"
        ],
        [
         "37",
         "32",
         "168.7",
         "Methylphenidate",
         "methylphenidate",
         "1"
        ],
        [
         "38",
         "96",
         "26.51",
         "Amoxicillin; Clavulanate",
         "amoxicillin",
         "19"
        ],
        [
         "39",
         "147",
         "39.66",
         "Clindamycin",
         "clindamycin",
         "1"
        ],
        [
         "40",
         "3",
         "10.54",
         "Lisinopril",
         "lisinopril",
         "1"
        ],
        [
         "41",
         "5",
         "10.29",
         "Amlodipine",
         "amlodipine",
         "5"
        ],
        [
         "42",
         "144",
         "897.87",
         "Fluticasone; Umeclidinium; Vilanterol",
         "fluticasone",
         "1"
        ],
        [
         "43",
         "299",
         "185.49",
         "Azelastine; Fluticasone",
         "fluticasone",
         "1"
        ],
        [
         "44",
         "165",
         "1225.78",
         "Sacubitril; Valsartan",
         "sacubitril",
         "5"
        ],
        [
         "45",
         "167",
         "260.85",
         "Oxcarbazepine",
         "oxcarbazepine",
         "3"
        ],
        [
         "46",
         "113",
         "42.79",
         "Valacyclovir",
         "valacyclovir",
         "17"
        ],
        [
         "47",
         "152",
         "45.47",
         "Levocetirizine",
         "levocetirizine",
         "1"
        ],
        [
         "48",
         "182",
         "808.0",
         "Metformin; Sitagliptin",
         "metformin",
         "15"
        ],
        [
         "49",
         "235",
         "71.22",
         "Hydrochlorothiazide; Olmesartan",
         "hydrochlorothiazide",
         "1"
        ]
       ],
       "shape": {
        "columns": 5,
        "rows": 66
       }
      },
      "text/html": [
       "<div>\n",
       "<style scoped>\n",
       "    .dataframe tbody tr th:only-of-type {\n",
       "        vertical-align: middle;\n",
       "    }\n",
       "\n",
       "    .dataframe tbody tr th {\n",
       "        vertical-align: top;\n",
       "    }\n",
       "\n",
       "    .dataframe thead th {\n",
       "        text-align: right;\n",
       "    }\n",
       "</style>\n",
       "<table border=\"1\" class=\"dataframe\">\n",
       "  <thead>\n",
       "    <tr style=\"text-align: right;\">\n",
       "      <th></th>\n",
       "      <th>rank</th>\n",
       "      <th>cost</th>\n",
       "      <th>name</th>\n",
       "      <th>drug_name</th>\n",
       "      <th>trial_count</th>\n",
       "    </tr>\n",
       "  </thead>\n",
       "  <tbody>\n",
       "    <tr>\n",
       "      <th>0</th>\n",
       "      <td>221</td>\n",
       "      <td>11.60</td>\n",
       "      <td>Sodium Fluoride</td>\n",
       "      <td>sodium fluoride</td>\n",
       "      <td>1</td>\n",
       "    </tr>\n",
       "    <tr>\n",
       "      <th>1</th>\n",
       "      <td>34</td>\n",
       "      <td>16.45</td>\n",
       "      <td>Carvedilol</td>\n",
       "      <td>carvedilol</td>\n",
       "      <td>17</td>\n",
       "    </tr>\n",
       "    <tr>\n",
       "      <th>2</th>\n",
       "      <td>36</td>\n",
       "      <td>4.80</td>\n",
       "      <td>Aspirin</td>\n",
       "      <td>aspirin</td>\n",
       "      <td>2</td>\n",
       "    </tr>\n",
       "    <tr>\n",
       "      <th>3</th>\n",
       "      <td>2</td>\n",
       "      <td>70.33</td>\n",
       "      <td>Metformin</td>\n",
       "      <td>metformin</td>\n",
       "      <td>15</td>\n",
       "    </tr>\n",
       "    <tr>\n",
       "      <th>4</th>\n",
       "      <td>141</td>\n",
       "      <td>18.60</td>\n",
       "      <td>Enalapril</td>\n",
       "      <td>enalapril</td>\n",
       "      <td>1</td>\n",
       "    </tr>\n",
       "    <tr>\n",
       "      <th>...</th>\n",
       "      <td>...</td>\n",
       "      <td>...</td>\n",
       "      <td>...</td>\n",
       "      <td>...</td>\n",
       "      <td>...</td>\n",
       "    </tr>\n",
       "    <tr>\n",
       "      <th>61</th>\n",
       "      <td>92</td>\n",
       "      <td>19.10</td>\n",
       "      <td>Paroxetine</td>\n",
       "      <td>paroxetine</td>\n",
       "      <td>104</td>\n",
       "    </tr>\n",
       "    <tr>\n",
       "      <th>62</th>\n",
       "      <td>12</td>\n",
       "      <td>8.36</td>\n",
       "      <td>Hydrochlorothiazide</td>\n",
       "      <td>hydrochlorothiazide</td>\n",
       "      <td>1</td>\n",
       "    </tr>\n",
       "    <tr>\n",
       "      <th>63</th>\n",
       "      <td>165</td>\n",
       "      <td>1225.78</td>\n",
       "      <td>Sacubitril; Valsartan</td>\n",
       "      <td>valsartan</td>\n",
       "      <td>7</td>\n",
       "    </tr>\n",
       "    <tr>\n",
       "      <th>64</th>\n",
       "      <td>145</td>\n",
       "      <td>532.17</td>\n",
       "      <td>Fluticasone; Vilanterol</td>\n",
       "      <td>fluticasone</td>\n",
       "      <td>1</td>\n",
       "    </tr>\n",
       "    <tr>\n",
       "      <th>65</th>\n",
       "      <td>211</td>\n",
       "      <td>1030.16</td>\n",
       "      <td>Umeclidinium; Vilanterol</td>\n",
       "      <td>vilanterol</td>\n",
       "      <td>107</td>\n",
       "    </tr>\n",
       "  </tbody>\n",
       "</table>\n",
       "<p>66 rows × 5 columns</p>\n",
       "</div>"
      ],
      "text/plain": [
       "    rank     cost                      name            drug_name  trial_count\n",
       "0    221    11.60           Sodium Fluoride      sodium fluoride            1\n",
       "1     34    16.45                Carvedilol           carvedilol           17\n",
       "2     36     4.80                   Aspirin              aspirin            2\n",
       "3      2    70.33                 Metformin            metformin           15\n",
       "4    141    18.60                 Enalapril            enalapril            1\n",
       "..   ...      ...                       ...                  ...          ...\n",
       "61    92    19.10                Paroxetine           paroxetine          104\n",
       "62    12     8.36       Hydrochlorothiazide  hydrochlorothiazide            1\n",
       "63   165  1225.78     Sacubitril; Valsartan            valsartan            7\n",
       "64   145   532.17   Fluticasone; Vilanterol          fluticasone            1\n",
       "65   211  1030.16  Umeclidinium; Vilanterol           vilanterol          107\n",
       "\n",
       "[66 rows x 5 columns]"
      ]
     },
     "execution_count": 45,
     "metadata": {},
     "output_type": "execute_result"
    }
   ],
   "source": [
    "popular_prescription"
   ]
  },
  {
   "cell_type": "code",
   "execution_count": 46,
   "metadata": {},
   "outputs": [
    {
     "data": {
      "application/vnd.microsoft.datawrangler.viewer.v0+json": {
       "columns": [
        {
         "name": "index",
         "rawType": "int64",
         "type": "integer"
        },
        {
         "name": "rank",
         "rawType": "int32",
         "type": "integer"
        },
        {
         "name": "cost",
         "rawType": "float64",
         "type": "float"
        },
        {
         "name": "name",
         "rawType": "object",
         "type": "string"
        },
        {
         "name": "drug_name",
         "rawType": "object",
         "type": "string"
        },
        {
         "name": "trial_count",
         "rawType": "int64",
         "type": "integer"
        }
       ],
       "conversionMethod": "pd.DataFrame",
       "ref": "9f9c247c-42fc-441f-8fc4-758d7e577cef",
       "rows": [
        [
         "0",
         "221",
         "11.6",
         "Sodium Fluoride",
         "sodium fluoride",
         "1"
        ],
        [
         "37",
         "32",
         "168.7",
         "Methylphenidate",
         "methylphenidate",
         "1"
        ],
        [
         "39",
         "147",
         "39.66",
         "Clindamycin",
         "clindamycin",
         "1"
        ],
        [
         "40",
         "3",
         "10.54",
         "Lisinopril",
         "lisinopril",
         "1"
        ],
        [
         "29",
         "25",
         "94.76",
         "Fluticasone",
         "fluticasone",
         "1"
        ],
        [
         "26",
         "156",
         "72.33",
         "Clobetasol",
         "clobetasol",
         "1"
        ],
        [
         "43",
         "299",
         "185.49",
         "Azelastine; Fluticasone",
         "fluticasone",
         "1"
        ],
        [
         "23",
         "175",
         "26.85",
         "Ketoconazole",
         "ketoconazole",
         "1"
        ],
        [
         "20",
         "1",
         "19.0",
         "Atorvastatin",
         "atorvastatin",
         "1"
        ],
        [
         "35",
         "29",
         "9.05",
         "Meloxicam",
         "meloxicam",
         "1"
        ],
        [
         "47",
         "152",
         "45.47",
         "Levocetirizine",
         "levocetirizine",
         "1"
        ],
        [
         "49",
         "235",
         "71.22",
         "Hydrochlorothiazide; Olmesartan",
         "hydrochlorothiazide",
         "1"
        ],
        [
         "36",
         "239",
         "31.38",
         "Nabumetone",
         "nabumetone",
         "1"
        ],
        [
         "57",
         "181",
         "16.45",
         "Ciprofloxacin",
         "ciprofloxacin",
         "1"
        ],
        [
         "62",
         "12",
         "8.36",
         "Hydrochlorothiazide",
         "hydrochlorothiazide",
         "1"
        ],
        [
         "52",
         "286",
         "163.05",
         "Ciprofloxacin; Dexamethasone",
         "ciprofloxacin",
         "1"
        ],
        [
         "11",
         "13",
         "37.2",
         "Rosuvastatin",
         "rosuvastatin",
         "1"
        ],
        [
         "4",
         "141",
         "18.6",
         "Enalapril",
         "enalapril",
         "1"
        ],
        [
         "54",
         "17",
         "26.12",
         "Montelukast",
         "montelukast",
         "1"
        ],
        [
         "7",
         "116",
         "12.44",
         "Hydrochlorothiazide; Triamterene",
         "hydrochlorothiazide",
         "1"
        ],
        [
         "6",
         "53",
         "11.46",
         "Hydrochlorothiazide; Lisinopril",
         "hydrochlorothiazide",
         "1"
        ],
        [
         "2",
         "36",
         "4.8",
         "Aspirin",
         "aspirin",
         "2"
        ],
        [
         "5",
         "189",
         "690.3",
         "Linaclotide",
         "linaclotide",
         "2"
        ],
        [
         "51",
         "19",
         "14.31",
         "Simvastatin",
         "simvastatin",
         "2"
        ],
        [
         "25",
         "8",
         "18.46",
         "Losartan",
         "losartan",
         "2"
        ],
        [
         "21",
         "16",
         "26.23",
         "Pantoprazole",
         "pantoprazole",
         "2"
        ],
        [
         "18",
         "75",
         "34.25",
         "Hydrochlorothiazide; Losartan",
         "losartan",
         "2"
        ],
        [
         "45",
         "167",
         "260.85",
         "Oxcarbazepine",
         "oxcarbazepine",
         "3"
        ],
        [
         "17",
         "170",
         "69.8",
         "Amlodipine; Benazepril",
         "amlodipine",
         "5"
        ],
        [
         "41",
         "5",
         "10.29",
         "Amlodipine",
         "amlodipine",
         "5"
        ],
        [
         "32",
         "64",
         "14.35",
         "Glimepiride",
         "glimepiride",
         "6"
        ],
        [
         "63",
         "165",
         "1225.78",
         "Sacubitril; Valsartan",
         "valsartan",
         "7"
        ],
        [
         "24",
         "20",
         "30.95",
         "Tamsulosin",
         "tamsulosin",
         "7"
        ],
        [
         "14",
         "117",
         "49.28",
         "Valsartan",
         "valsartan",
         "7"
        ],
        [
         "13",
         "178",
         "218.91",
         "Albuterol; Ipratropium",
         "albuterol",
         "9"
        ],
        [
         "56",
         "7",
         "47.7",
         "Albuterol",
         "albuterol",
         "9"
        ],
        [
         "55",
         "220",
         "45.79",
         "Omega-3-acid Ethyl Esters",
         "omega-3 acid ethyl esters (USP)",
         "9"
        ],
        [
         "28",
         "292",
         "402.65",
         "Adapalene; Benzoyl Peroxide",
         "benzoyl peroxide",
         "14"
        ],
        [
         "27",
         "350",
         "36.78",
         "Benzoyl Peroxide; Erythromycin",
         "benzoyl peroxide",
         "14"
        ],
        [
         "19",
         "381",
         "0.0",
         "Benzoyl Peroxide; Tretinoin",
         "benzoyl peroxide",
         "14"
        ],
        [
         "16",
         "146",
         "23.69",
         "Donepezil",
         "donepezil",
         "14"
        ],
        [
         "12",
         "307",
         "94.01",
         "Benzoyl Peroxide; Clindamycin",
         "benzoyl peroxide",
         "14"
        ],
        [
         "3",
         "2",
         "70.33",
         "Metformin",
         "metformin",
         "15"
        ],
        [
         "48",
         "182",
         "808.0",
         "Metformin; Sitagliptin",
         "metformin",
         "15"
        ],
        [
         "1",
         "34",
         "16.45",
         "Carvedilol",
         "carvedilol",
         "17"
        ],
        [
         "46",
         "113",
         "42.79",
         "Valacyclovir",
         "valacyclovir",
         "17"
        ],
        [
         "38",
         "96",
         "26.51",
         "Amoxicillin; Clavulanate",
         "amoxicillin",
         "19"
        ],
        [
         "22",
         "26",
         "9.5",
         "Amoxicillin",
         "amoxicillin",
         "19"
        ],
        [
         "59",
         "222",
         "841.36",
         "Mirabegron",
         "mirabegron",
         "21"
        ],
        [
         "33",
         "89",
         "24.02",
         "Naproxen",
         "naproxen",
         "26"
        ]
       ],
       "shape": {
        "columns": 5,
        "rows": 59
       }
      },
      "text/html": [
       "<div>\n",
       "<style scoped>\n",
       "    .dataframe tbody tr th:only-of-type {\n",
       "        vertical-align: middle;\n",
       "    }\n",
       "\n",
       "    .dataframe tbody tr th {\n",
       "        vertical-align: top;\n",
       "    }\n",
       "\n",
       "    .dataframe thead th {\n",
       "        text-align: right;\n",
       "    }\n",
       "</style>\n",
       "<table border=\"1\" class=\"dataframe\">\n",
       "  <thead>\n",
       "    <tr style=\"text-align: right;\">\n",
       "      <th></th>\n",
       "      <th>rank</th>\n",
       "      <th>cost</th>\n",
       "      <th>name</th>\n",
       "      <th>drug_name</th>\n",
       "      <th>trial_count</th>\n",
       "    </tr>\n",
       "  </thead>\n",
       "  <tbody>\n",
       "    <tr>\n",
       "      <th>0</th>\n",
       "      <td>221</td>\n",
       "      <td>11.60</td>\n",
       "      <td>Sodium Fluoride</td>\n",
       "      <td>sodium fluoride</td>\n",
       "      <td>1</td>\n",
       "    </tr>\n",
       "    <tr>\n",
       "      <th>37</th>\n",
       "      <td>32</td>\n",
       "      <td>168.70</td>\n",
       "      <td>Methylphenidate</td>\n",
       "      <td>methylphenidate</td>\n",
       "      <td>1</td>\n",
       "    </tr>\n",
       "    <tr>\n",
       "      <th>39</th>\n",
       "      <td>147</td>\n",
       "      <td>39.66</td>\n",
       "      <td>Clindamycin</td>\n",
       "      <td>clindamycin</td>\n",
       "      <td>1</td>\n",
       "    </tr>\n",
       "    <tr>\n",
       "      <th>40</th>\n",
       "      <td>3</td>\n",
       "      <td>10.54</td>\n",
       "      <td>Lisinopril</td>\n",
       "      <td>lisinopril</td>\n",
       "      <td>1</td>\n",
       "    </tr>\n",
       "    <tr>\n",
       "      <th>29</th>\n",
       "      <td>25</td>\n",
       "      <td>94.76</td>\n",
       "      <td>Fluticasone</td>\n",
       "      <td>fluticasone</td>\n",
       "      <td>1</td>\n",
       "    </tr>\n",
       "    <tr>\n",
       "      <th>26</th>\n",
       "      <td>156</td>\n",
       "      <td>72.33</td>\n",
       "      <td>Clobetasol</td>\n",
       "      <td>clobetasol</td>\n",
       "      <td>1</td>\n",
       "    </tr>\n",
       "    <tr>\n",
       "      <th>43</th>\n",
       "      <td>299</td>\n",
       "      <td>185.49</td>\n",
       "      <td>Azelastine; Fluticasone</td>\n",
       "      <td>fluticasone</td>\n",
       "      <td>1</td>\n",
       "    </tr>\n",
       "    <tr>\n",
       "      <th>23</th>\n",
       "      <td>175</td>\n",
       "      <td>26.85</td>\n",
       "      <td>Ketoconazole</td>\n",
       "      <td>ketoconazole</td>\n",
       "      <td>1</td>\n",
       "    </tr>\n",
       "    <tr>\n",
       "      <th>20</th>\n",
       "      <td>1</td>\n",
       "      <td>19.00</td>\n",
       "      <td>Atorvastatin</td>\n",
       "      <td>atorvastatin</td>\n",
       "      <td>1</td>\n",
       "    </tr>\n",
       "    <tr>\n",
       "      <th>35</th>\n",
       "      <td>29</td>\n",
       "      <td>9.05</td>\n",
       "      <td>Meloxicam</td>\n",
       "      <td>meloxicam</td>\n",
       "      <td>1</td>\n",
       "    </tr>\n",
       "    <tr>\n",
       "      <th>47</th>\n",
       "      <td>152</td>\n",
       "      <td>45.47</td>\n",
       "      <td>Levocetirizine</td>\n",
       "      <td>levocetirizine</td>\n",
       "      <td>1</td>\n",
       "    </tr>\n",
       "    <tr>\n",
       "      <th>49</th>\n",
       "      <td>235</td>\n",
       "      <td>71.22</td>\n",
       "      <td>Hydrochlorothiazide; Olmesartan</td>\n",
       "      <td>hydrochlorothiazide</td>\n",
       "      <td>1</td>\n",
       "    </tr>\n",
       "    <tr>\n",
       "      <th>36</th>\n",
       "      <td>239</td>\n",
       "      <td>31.38</td>\n",
       "      <td>Nabumetone</td>\n",
       "      <td>nabumetone</td>\n",
       "      <td>1</td>\n",
       "    </tr>\n",
       "    <tr>\n",
       "      <th>57</th>\n",
       "      <td>181</td>\n",
       "      <td>16.45</td>\n",
       "      <td>Ciprofloxacin</td>\n",
       "      <td>ciprofloxacin</td>\n",
       "      <td>1</td>\n",
       "    </tr>\n",
       "    <tr>\n",
       "      <th>62</th>\n",
       "      <td>12</td>\n",
       "      <td>8.36</td>\n",
       "      <td>Hydrochlorothiazide</td>\n",
       "      <td>hydrochlorothiazide</td>\n",
       "      <td>1</td>\n",
       "    </tr>\n",
       "    <tr>\n",
       "      <th>52</th>\n",
       "      <td>286</td>\n",
       "      <td>163.05</td>\n",
       "      <td>Ciprofloxacin; Dexamethasone</td>\n",
       "      <td>ciprofloxacin</td>\n",
       "      <td>1</td>\n",
       "    </tr>\n",
       "    <tr>\n",
       "      <th>11</th>\n",
       "      <td>13</td>\n",
       "      <td>37.20</td>\n",
       "      <td>Rosuvastatin</td>\n",
       "      <td>rosuvastatin</td>\n",
       "      <td>1</td>\n",
       "    </tr>\n",
       "    <tr>\n",
       "      <th>4</th>\n",
       "      <td>141</td>\n",
       "      <td>18.60</td>\n",
       "      <td>Enalapril</td>\n",
       "      <td>enalapril</td>\n",
       "      <td>1</td>\n",
       "    </tr>\n",
       "    <tr>\n",
       "      <th>54</th>\n",
       "      <td>17</td>\n",
       "      <td>26.12</td>\n",
       "      <td>Montelukast</td>\n",
       "      <td>montelukast</td>\n",
       "      <td>1</td>\n",
       "    </tr>\n",
       "    <tr>\n",
       "      <th>7</th>\n",
       "      <td>116</td>\n",
       "      <td>12.44</td>\n",
       "      <td>Hydrochlorothiazide; Triamterene</td>\n",
       "      <td>hydrochlorothiazide</td>\n",
       "      <td>1</td>\n",
       "    </tr>\n",
       "    <tr>\n",
       "      <th>6</th>\n",
       "      <td>53</td>\n",
       "      <td>11.46</td>\n",
       "      <td>Hydrochlorothiazide; Lisinopril</td>\n",
       "      <td>hydrochlorothiazide</td>\n",
       "      <td>1</td>\n",
       "    </tr>\n",
       "    <tr>\n",
       "      <th>2</th>\n",
       "      <td>36</td>\n",
       "      <td>4.80</td>\n",
       "      <td>Aspirin</td>\n",
       "      <td>aspirin</td>\n",
       "      <td>2</td>\n",
       "    </tr>\n",
       "    <tr>\n",
       "      <th>5</th>\n",
       "      <td>189</td>\n",
       "      <td>690.30</td>\n",
       "      <td>Linaclotide</td>\n",
       "      <td>linaclotide</td>\n",
       "      <td>2</td>\n",
       "    </tr>\n",
       "    <tr>\n",
       "      <th>51</th>\n",
       "      <td>19</td>\n",
       "      <td>14.31</td>\n",
       "      <td>Simvastatin</td>\n",
       "      <td>simvastatin</td>\n",
       "      <td>2</td>\n",
       "    </tr>\n",
       "    <tr>\n",
       "      <th>25</th>\n",
       "      <td>8</td>\n",
       "      <td>18.46</td>\n",
       "      <td>Losartan</td>\n",
       "      <td>losartan</td>\n",
       "      <td>2</td>\n",
       "    </tr>\n",
       "    <tr>\n",
       "      <th>21</th>\n",
       "      <td>16</td>\n",
       "      <td>26.23</td>\n",
       "      <td>Pantoprazole</td>\n",
       "      <td>pantoprazole</td>\n",
       "      <td>2</td>\n",
       "    </tr>\n",
       "    <tr>\n",
       "      <th>18</th>\n",
       "      <td>75</td>\n",
       "      <td>34.25</td>\n",
       "      <td>Hydrochlorothiazide; Losartan</td>\n",
       "      <td>losartan</td>\n",
       "      <td>2</td>\n",
       "    </tr>\n",
       "    <tr>\n",
       "      <th>45</th>\n",
       "      <td>167</td>\n",
       "      <td>260.85</td>\n",
       "      <td>Oxcarbazepine</td>\n",
       "      <td>oxcarbazepine</td>\n",
       "      <td>3</td>\n",
       "    </tr>\n",
       "    <tr>\n",
       "      <th>17</th>\n",
       "      <td>170</td>\n",
       "      <td>69.80</td>\n",
       "      <td>Amlodipine; Benazepril</td>\n",
       "      <td>amlodipine</td>\n",
       "      <td>5</td>\n",
       "    </tr>\n",
       "    <tr>\n",
       "      <th>41</th>\n",
       "      <td>5</td>\n",
       "      <td>10.29</td>\n",
       "      <td>Amlodipine</td>\n",
       "      <td>amlodipine</td>\n",
       "      <td>5</td>\n",
       "    </tr>\n",
       "    <tr>\n",
       "      <th>32</th>\n",
       "      <td>64</td>\n",
       "      <td>14.35</td>\n",
       "      <td>Glimepiride</td>\n",
       "      <td>glimepiride</td>\n",
       "      <td>6</td>\n",
       "    </tr>\n",
       "    <tr>\n",
       "      <th>63</th>\n",
       "      <td>165</td>\n",
       "      <td>1225.78</td>\n",
       "      <td>Sacubitril; Valsartan</td>\n",
       "      <td>valsartan</td>\n",
       "      <td>7</td>\n",
       "    </tr>\n",
       "    <tr>\n",
       "      <th>24</th>\n",
       "      <td>20</td>\n",
       "      <td>30.95</td>\n",
       "      <td>Tamsulosin</td>\n",
       "      <td>tamsulosin</td>\n",
       "      <td>7</td>\n",
       "    </tr>\n",
       "    <tr>\n",
       "      <th>14</th>\n",
       "      <td>117</td>\n",
       "      <td>49.28</td>\n",
       "      <td>Valsartan</td>\n",
       "      <td>valsartan</td>\n",
       "      <td>7</td>\n",
       "    </tr>\n",
       "    <tr>\n",
       "      <th>13</th>\n",
       "      <td>178</td>\n",
       "      <td>218.91</td>\n",
       "      <td>Albuterol; Ipratropium</td>\n",
       "      <td>albuterol</td>\n",
       "      <td>9</td>\n",
       "    </tr>\n",
       "    <tr>\n",
       "      <th>56</th>\n",
       "      <td>7</td>\n",
       "      <td>47.70</td>\n",
       "      <td>Albuterol</td>\n",
       "      <td>albuterol</td>\n",
       "      <td>9</td>\n",
       "    </tr>\n",
       "    <tr>\n",
       "      <th>55</th>\n",
       "      <td>220</td>\n",
       "      <td>45.79</td>\n",
       "      <td>Omega-3-acid Ethyl Esters</td>\n",
       "      <td>omega-3 acid ethyl esters (USP)</td>\n",
       "      <td>9</td>\n",
       "    </tr>\n",
       "    <tr>\n",
       "      <th>28</th>\n",
       "      <td>292</td>\n",
       "      <td>402.65</td>\n",
       "      <td>Adapalene; Benzoyl Peroxide</td>\n",
       "      <td>benzoyl peroxide</td>\n",
       "      <td>14</td>\n",
       "    </tr>\n",
       "    <tr>\n",
       "      <th>27</th>\n",
       "      <td>350</td>\n",
       "      <td>36.78</td>\n",
       "      <td>Benzoyl Peroxide; Erythromycin</td>\n",
       "      <td>benzoyl peroxide</td>\n",
       "      <td>14</td>\n",
       "    </tr>\n",
       "    <tr>\n",
       "      <th>19</th>\n",
       "      <td>381</td>\n",
       "      <td>0.00</td>\n",
       "      <td>Benzoyl Peroxide; Tretinoin</td>\n",
       "      <td>benzoyl peroxide</td>\n",
       "      <td>14</td>\n",
       "    </tr>\n",
       "    <tr>\n",
       "      <th>16</th>\n",
       "      <td>146</td>\n",
       "      <td>23.69</td>\n",
       "      <td>Donepezil</td>\n",
       "      <td>donepezil</td>\n",
       "      <td>14</td>\n",
       "    </tr>\n",
       "    <tr>\n",
       "      <th>12</th>\n",
       "      <td>307</td>\n",
       "      <td>94.01</td>\n",
       "      <td>Benzoyl Peroxide; Clindamycin</td>\n",
       "      <td>benzoyl peroxide</td>\n",
       "      <td>14</td>\n",
       "    </tr>\n",
       "    <tr>\n",
       "      <th>3</th>\n",
       "      <td>2</td>\n",
       "      <td>70.33</td>\n",
       "      <td>Metformin</td>\n",
       "      <td>metformin</td>\n",
       "      <td>15</td>\n",
       "    </tr>\n",
       "    <tr>\n",
       "      <th>48</th>\n",
       "      <td>182</td>\n",
       "      <td>808.00</td>\n",
       "      <td>Metformin; Sitagliptin</td>\n",
       "      <td>metformin</td>\n",
       "      <td>15</td>\n",
       "    </tr>\n",
       "    <tr>\n",
       "      <th>1</th>\n",
       "      <td>34</td>\n",
       "      <td>16.45</td>\n",
       "      <td>Carvedilol</td>\n",
       "      <td>carvedilol</td>\n",
       "      <td>17</td>\n",
       "    </tr>\n",
       "    <tr>\n",
       "      <th>46</th>\n",
       "      <td>113</td>\n",
       "      <td>42.79</td>\n",
       "      <td>Valacyclovir</td>\n",
       "      <td>valacyclovir</td>\n",
       "      <td>17</td>\n",
       "    </tr>\n",
       "    <tr>\n",
       "      <th>38</th>\n",
       "      <td>96</td>\n",
       "      <td>26.51</td>\n",
       "      <td>Amoxicillin; Clavulanate</td>\n",
       "      <td>amoxicillin</td>\n",
       "      <td>19</td>\n",
       "    </tr>\n",
       "    <tr>\n",
       "      <th>22</th>\n",
       "      <td>26</td>\n",
       "      <td>9.50</td>\n",
       "      <td>Amoxicillin</td>\n",
       "      <td>amoxicillin</td>\n",
       "      <td>19</td>\n",
       "    </tr>\n",
       "    <tr>\n",
       "      <th>59</th>\n",
       "      <td>222</td>\n",
       "      <td>841.36</td>\n",
       "      <td>Mirabegron</td>\n",
       "      <td>mirabegron</td>\n",
       "      <td>21</td>\n",
       "    </tr>\n",
       "    <tr>\n",
       "      <th>33</th>\n",
       "      <td>89</td>\n",
       "      <td>24.02</td>\n",
       "      <td>Naproxen</td>\n",
       "      <td>naproxen</td>\n",
       "      <td>26</td>\n",
       "    </tr>\n",
       "    <tr>\n",
       "      <th>8</th>\n",
       "      <td>21</td>\n",
       "      <td>147.40</td>\n",
       "      <td>Bupropion</td>\n",
       "      <td>bupropion</td>\n",
       "      <td>37</td>\n",
       "    </tr>\n",
       "    <tr>\n",
       "      <th>15</th>\n",
       "      <td>163</td>\n",
       "      <td>37.04</td>\n",
       "      <td>Ropinirole</td>\n",
       "      <td>ropinirole</td>\n",
       "      <td>44</td>\n",
       "    </tr>\n",
       "    <tr>\n",
       "      <th>34</th>\n",
       "      <td>95</td>\n",
       "      <td>52.13</td>\n",
       "      <td>Sumatriptan</td>\n",
       "      <td>sumatriptan</td>\n",
       "      <td>49</td>\n",
       "    </tr>\n",
       "    <tr>\n",
       "      <th>30</th>\n",
       "      <td>58</td>\n",
       "      <td>70.32</td>\n",
       "      <td>Lamotrigine</td>\n",
       "      <td>lamotrigine</td>\n",
       "      <td>61</td>\n",
       "    </tr>\n",
       "    <tr>\n",
       "      <th>61</th>\n",
       "      <td>92</td>\n",
       "      <td>19.10</td>\n",
       "      <td>Paroxetine</td>\n",
       "      <td>paroxetine</td>\n",
       "      <td>104</td>\n",
       "    </tr>\n",
       "    <tr>\n",
       "      <th>58</th>\n",
       "      <td>144</td>\n",
       "      <td>897.87</td>\n",
       "      <td>Fluticasone; Umeclidinium; Vilanterol</td>\n",
       "      <td>vilanterol</td>\n",
       "      <td>107</td>\n",
       "    </tr>\n",
       "    <tr>\n",
       "      <th>10</th>\n",
       "      <td>145</td>\n",
       "      <td>532.17</td>\n",
       "      <td>Fluticasone; Vilanterol</td>\n",
       "      <td>vilanterol</td>\n",
       "      <td>107</td>\n",
       "    </tr>\n",
       "    <tr>\n",
       "      <th>65</th>\n",
       "      <td>211</td>\n",
       "      <td>1030.16</td>\n",
       "      <td>Umeclidinium; Vilanterol</td>\n",
       "      <td>vilanterol</td>\n",
       "      <td>107</td>\n",
       "    </tr>\n",
       "    <tr>\n",
       "      <th>9</th>\n",
       "      <td>59</td>\n",
       "      <td>416.27</td>\n",
       "      <td>Fluticasone; Salmeterol</td>\n",
       "      <td>salmeterol</td>\n",
       "      <td>129</td>\n",
       "    </tr>\n",
       "  </tbody>\n",
       "</table>\n",
       "</div>"
      ],
      "text/plain": [
       "    rank     cost                                   name  \\\n",
       "0    221    11.60                        Sodium Fluoride   \n",
       "37    32   168.70                        Methylphenidate   \n",
       "39   147    39.66                            Clindamycin   \n",
       "40     3    10.54                             Lisinopril   \n",
       "29    25    94.76                            Fluticasone   \n",
       "26   156    72.33                             Clobetasol   \n",
       "43   299   185.49                Azelastine; Fluticasone   \n",
       "23   175    26.85                           Ketoconazole   \n",
       "20     1    19.00                           Atorvastatin   \n",
       "35    29     9.05                              Meloxicam   \n",
       "47   152    45.47                         Levocetirizine   \n",
       "49   235    71.22        Hydrochlorothiazide; Olmesartan   \n",
       "36   239    31.38                             Nabumetone   \n",
       "57   181    16.45                          Ciprofloxacin   \n",
       "62    12     8.36                    Hydrochlorothiazide   \n",
       "52   286   163.05           Ciprofloxacin; Dexamethasone   \n",
       "11    13    37.20                           Rosuvastatin   \n",
       "4    141    18.60                              Enalapril   \n",
       "54    17    26.12                            Montelukast   \n",
       "7    116    12.44       Hydrochlorothiazide; Triamterene   \n",
       "6     53    11.46        Hydrochlorothiazide; Lisinopril   \n",
       "2     36     4.80                                Aspirin   \n",
       "5    189   690.30                            Linaclotide   \n",
       "51    19    14.31                            Simvastatin   \n",
       "25     8    18.46                               Losartan   \n",
       "21    16    26.23                           Pantoprazole   \n",
       "18    75    34.25          Hydrochlorothiazide; Losartan   \n",
       "45   167   260.85                          Oxcarbazepine   \n",
       "17   170    69.80                 Amlodipine; Benazepril   \n",
       "41     5    10.29                             Amlodipine   \n",
       "32    64    14.35                            Glimepiride   \n",
       "63   165  1225.78                  Sacubitril; Valsartan   \n",
       "24    20    30.95                             Tamsulosin   \n",
       "14   117    49.28                              Valsartan   \n",
       "13   178   218.91                 Albuterol; Ipratropium   \n",
       "56     7    47.70                              Albuterol   \n",
       "55   220    45.79              Omega-3-acid Ethyl Esters   \n",
       "28   292   402.65            Adapalene; Benzoyl Peroxide   \n",
       "27   350    36.78         Benzoyl Peroxide; Erythromycin   \n",
       "19   381     0.00            Benzoyl Peroxide; Tretinoin   \n",
       "16   146    23.69                              Donepezil   \n",
       "12   307    94.01          Benzoyl Peroxide; Clindamycin   \n",
       "3      2    70.33                              Metformin   \n",
       "48   182   808.00                 Metformin; Sitagliptin   \n",
       "1     34    16.45                             Carvedilol   \n",
       "46   113    42.79                           Valacyclovir   \n",
       "38    96    26.51               Amoxicillin; Clavulanate   \n",
       "22    26     9.50                            Amoxicillin   \n",
       "59   222   841.36                             Mirabegron   \n",
       "33    89    24.02                               Naproxen   \n",
       "8     21   147.40                              Bupropion   \n",
       "15   163    37.04                             Ropinirole   \n",
       "34    95    52.13                            Sumatriptan   \n",
       "30    58    70.32                            Lamotrigine   \n",
       "61    92    19.10                             Paroxetine   \n",
       "58   144   897.87  Fluticasone; Umeclidinium; Vilanterol   \n",
       "10   145   532.17                Fluticasone; Vilanterol   \n",
       "65   211  1030.16               Umeclidinium; Vilanterol   \n",
       "9     59   416.27                Fluticasone; Salmeterol   \n",
       "\n",
       "                          drug_name  trial_count  \n",
       "0                   sodium fluoride            1  \n",
       "37                  methylphenidate            1  \n",
       "39                      clindamycin            1  \n",
       "40                       lisinopril            1  \n",
       "29                      fluticasone            1  \n",
       "26                       clobetasol            1  \n",
       "43                      fluticasone            1  \n",
       "23                     ketoconazole            1  \n",
       "20                     atorvastatin            1  \n",
       "35                        meloxicam            1  \n",
       "47                   levocetirizine            1  \n",
       "49              hydrochlorothiazide            1  \n",
       "36                       nabumetone            1  \n",
       "57                    ciprofloxacin            1  \n",
       "62              hydrochlorothiazide            1  \n",
       "52                    ciprofloxacin            1  \n",
       "11                     rosuvastatin            1  \n",
       "4                         enalapril            1  \n",
       "54                      montelukast            1  \n",
       "7               hydrochlorothiazide            1  \n",
       "6               hydrochlorothiazide            1  \n",
       "2                           aspirin            2  \n",
       "5                       linaclotide            2  \n",
       "51                      simvastatin            2  \n",
       "25                         losartan            2  \n",
       "21                     pantoprazole            2  \n",
       "18                         losartan            2  \n",
       "45                    oxcarbazepine            3  \n",
       "17                       amlodipine            5  \n",
       "41                       amlodipine            5  \n",
       "32                      glimepiride            6  \n",
       "63                        valsartan            7  \n",
       "24                       tamsulosin            7  \n",
       "14                        valsartan            7  \n",
       "13                        albuterol            9  \n",
       "56                        albuterol            9  \n",
       "55  omega-3 acid ethyl esters (USP)            9  \n",
       "28                 benzoyl peroxide           14  \n",
       "27                 benzoyl peroxide           14  \n",
       "19                 benzoyl peroxide           14  \n",
       "16                        donepezil           14  \n",
       "12                 benzoyl peroxide           14  \n",
       "3                         metformin           15  \n",
       "48                        metformin           15  \n",
       "1                        carvedilol           17  \n",
       "46                     valacyclovir           17  \n",
       "38                      amoxicillin           19  \n",
       "22                      amoxicillin           19  \n",
       "59                       mirabegron           21  \n",
       "33                         naproxen           26  \n",
       "8                         bupropion           37  \n",
       "15                       ropinirole           44  \n",
       "34                      sumatriptan           49  \n",
       "30                      lamotrigine           61  \n",
       "61                       paroxetine          104  \n",
       "58                       vilanterol          107  \n",
       "10                       vilanterol          107  \n",
       "65                       vilanterol          107  \n",
       "9                        salmeterol          129  "
      ]
     },
     "execution_count": 46,
     "metadata": {},
     "output_type": "execute_result"
    }
   ],
   "source": [
    "popular_prescription_most_trials_only = popular_prescription.sort_values('trial_count').drop_duplicates([\"rank\", \"cost\", \"name\"], keep='last')\n",
    "popular_prescription_most_trials_only"
   ]
  },
  {
   "cell_type": "code",
   "execution_count": 47,
   "metadata": {},
   "outputs": [
    {
     "data": {
      "image/png": "[encoded data removed]",
      "text/plain": [
       "<Figure size 1500x600 with 2 Axes>"
      ]
     },
     "metadata": {},
     "output_type": "display_data"
    }
   ],
   "source": [
    "import matplotlib.pyplot as plt\n",
    "import seaborn as sns\n",
    "\n",
    "\n",
    "fig, (ax1, ax2) = plt.subplots(1, 2, figsize=(15, 6))\n",
    "\n",
    "# Plot 1: trial_count vs rank\n",
    "sns.scatterplot(data=popular_prescription_most_trials_only, x='rank', y='trial_count', ax=ax1)\n",
    "ax1.set_title('Trial Count vs Rank')\n",
    "ax1.set_xlabel('Rank')\n",
    "ax1.set_ylabel('Trial Count')\n",
    "\n",
    "\n",
    "sns.scatterplot(data=popular_prescription_most_trials_only, x='cost', y='trial_count', ax=ax2)\n",
    "ax2.set_title('Trial Count vs Cost')\n",
    "ax2.set_xlabel('Cost')\n",
    "ax2.set_ylabel('Trial Count')\n",
    "\n",
    "\n",
    "plt.tight_layout()\n",
    "\n",
    "# Show the plots\n",
    "plt.show()"
   ]
  },
  {
   "cell_type": "code",
   "execution_count": 48,
   "metadata": {},
   "outputs": [],
   "source": [
    "import pandas as pd\n",
    "import numpy as np\n",
    "import plotly.express as px\n",
    "import plotly.graph_objects as go\n",
    "from plotly.subplots import make_subplots"
   ]
  },
  {
   "cell_type": "code",
   "execution_count": 49,
   "metadata": {},
   "outputs": [
    {
     "data": {
      "application/vnd.plotly.v1+json": {
       "config": {
        "plotlyServerURL": "https://plotly.com"
       },
       "data": [
        {
         "hovertemplate": "<b>%{hovertext}</b><br><br>Rank: %{x}<br>Cost: $%{y:.2f}<br>Trial Count: %{z}<br><extra></extra>",
         "hovertext": [
          "Sodium Fluoride",
          "Methylphenidate",
          "Clindamycin",
          "Lisinopril",
          "Fluticasone",
          "Clobetasol",
          "Azelastine; Fluticasone",
          "Ketoconazole",
          "Atorvastatin",
          "Meloxicam",
          "Levocetirizine",
          "Hydrochlorothiazide; Olmesartan",
          "Nabumetone",
          "Ciprofloxacin",
          "Hydrochlorothiazide",
          "Ciprofloxacin; Dexamethasone",
          "Rosuvastatin",
          "Enalapril",
          "Montelukast",
          "Hydrochlorothiazide; Triamterene",
          "Hydrochlorothiazide; Lisinopril",
          "Aspirin",
          "Linaclotide",
          "Simvastatin",
          "Losartan",
          "Pantoprazole",
          "Hydrochlorothiazide; Losartan",
          "Oxcarbazepine",
          "Amlodipine; Benazepril",
          "Amlodipine",
          "Glimepiride",
          "Sacubitril; Valsartan",
          "Tamsulosin",
          "Valsartan",
          "Albuterol; Ipratropium",
          "Albuterol",
          "Omega-3-acid Ethyl Esters",
          "Adapalene; Benzoyl Peroxide",
          "Benzoyl Peroxide; Erythromycin",
          "Benzoyl Peroxide; Tretinoin",
          "Donepezil",
          "Benzoyl Peroxide; Clindamycin",
          "Metformin",
          "Metformin; Sitagliptin",
          "Carvedilol",
          "Valacyclovir",
          "Amoxicillin; Clavulanate",
          "Amoxicillin",
          "Mirabegron",
          "Naproxen",
          "Bupropion",
          "Ropinirole",
          "Sumatriptan",
          "Lamotrigine",
          "Paroxetine",
          "Fluticasone; Umeclidinium; Vilanterol",
          "Fluticasone; Vilanterol",
          "Umeclidinium; Vilanterol",
          "Fluticasone; Salmeterol"
         ],
         "legendgroup": "",
         "marker": {
          "color": [
           1,
           1,
           1,
           1,
           1,
           1,
           1,
           1,
           1,
           1,
           1,
           1,
           1,
           1,
           1,
           1,
           1,
           1,
           1,
           1,
           1,
           2,
           2,
           2,
           2,
           2,
           2,
           3,
           5,
           5,
           6,
           7,
           7,
           7,
           9,
           9,
           9,
           14,
           14,
           14,
           14,
           14,
           15,
           15,
           17,
           17,
           19,
           19,
           21,
           26,
           37,
           44,
           49,
           61,
           104,
           107,
           107,
           107,
           129
          ],
          "coloraxis": "coloraxis",
          "opacity": 0.8,
          "size": [
           1,
           1,
           1,
           1,
           1,
           1,
           1,
           1,
           1,
           1,
           1,
           1,
           1,
           1,
           1,
           1,
           1,
           1,
           1,
           1,
           1,
           2,
           2,
           2,
           2,
           2,
           2,
           3,
           5,
           5,
           6,
           7,
           7,
           7,
           9,
           9,
           9,
           14,
           14,
           14,
           14,
           14,
           15,
           15,
           17,
           17,
           19,
           19,
           21,
           26,
           37,
           44,
           49,
           61,
           104,
           107,
           107,
           107,
           129
          ],
          "sizemode": "area",
          "sizeref": 0.5733333333333334,
          "symbol": "circle"
         },
         "mode": "markers",
         "name": "",
         "scene": "scene",
         "showlegend": false,
         "type": "scatter3d",
         "x": [
          221,
          32,
          147,
          3,
          25,
          156,
          299,
          175,
          1,
          29,
          152,
          235,
          239,
          181,
          12,
          286,
          13,
          141,
          17,
          116,
          53,
          36,
          189,
          19,
          8,
          16,
          75,
          167,
          170,
          5,
          64,
          165,
          20,
          117,
          178,
          7,
          220,
          292,
          350,
          381,
          146,
          307,
          2,
          182,
          34,
          113,
          96,
          26,
          222,
          89,
          21,
          163,
          95,
          58,
          92,
          144,
          145,
          211,
          59
         ],
         "y": [
          11.6,
          168.7,
          39.66,
          10.54,
          94.76,
          72.33,
          185.49,
          26.85,
          19,
          9.05,
          45.47,
          71.22,
          31.38,
          16.45,
          8.36,
          163.05,
          37.2,
          18.6,
          26.12,
          12.44,
          11.46,
          4.8,
          690.3,
          14.31,
          18.46,
          26.23,
          34.25,
          260.85,
          69.8,
          10.29,
          14.35,
          1225.78,
          30.95,
          49.28,
          218.91,
          47.7,
          45.79,
          402.65,
          36.78,
          0,
          23.69,
          94.01,
          70.33,
          808,
          16.45,
          42.79,
          26.51,
          9.5,
          841.36,
          24.02,
          147.4,
          37.04,
          52.13,
          70.32,
          19.1,
          897.87,
          532.17,
          1030.16,
          416.27
         ],
         "z": [
          1,
          1,
          1,
          1,
          1,
          1,
          1,
          1,
          1,
          1,
          1,
          1,
          1,
          1,
          1,
          1,
          1,
          1,
          1,
          1,
          1,
          2,
          2,
          2,
          2,
          2,
          2,
          3,
          5,
          5,
          6,
          7,
          7,
          7,
          9,
          9,
          9,
          14,
          14,
          14,
          14,
          14,
          15,
          15,
          17,
          17,
          19,
          19,
          21,
          26,
          37,
          44,
          49,
          61,
          104,
          107,
          107,
          107,
          129
         ]
        }
       ],
       "layout": {
        "coloraxis": {
         "colorbar": {
          "title": {
           "text": "trial_count"
          }
         },
         "colorscale": [
          [
           0,
           "#440154"
          ],
          [
           0.1111111111111111,
           "#482878"
          ],
          [
           0.2222222222222222,
           "#3e4989"
          ],
          [
           0.3333333333333333,
           "#31688e"
          ],
          [
           0.4444444444444444,
           "#26828e"
          ],
          [
           0.5555555555555556,
           "#1f9e89"
          ],
          [
           0.6666666666666666,
           "#35b779"
          ],
          [
           0.7777777777777778,
           "#6ece58"
          ],
          [
           0.8888888888888888,
           "#b5de2b"
          ],
          [
           1,
           "#fde725"
          ]
         ]
        },
        "legend": {
         "itemsizing": "constant",
         "tracegroupgap": 0
        },
        "margin": {
         "b": 0,
         "l": 0,
         "r": 0,
         "t": 40
        },
        "scene": {
         "camera": {
          "eye": {
           "x": 1.5,
           "y": 1.5,
           "z": 1.5
          }
         },
         "domain": {
          "x": [
           0,
           1
          ],
          "y": [
           0,
           1
          ]
         },
         "xaxis": {
          "title": {
           "text": "Rank"
          }
         },
         "yaxis": {
          "title": {
           "text": "Cost"
          }
         },
         "zaxis": {
          "title": {
           "text": "Trial Count"
          }
         }
        },
        "template": {
         "data": {
          "bar": [
           {
            "error_x": {
             "color": "#2a3f5f"
            },
            "error_y": {
             "color": "#2a3f5f"
            },
            "marker": {
             "line": {
              "color": "#E5ECF6",
              "width": 0.5
             },
             "pattern": {
              "fillmode": "overlay",
              "size": 10,
              "solidity": 0.2
             }
            },
            "type": "bar"
           }
          ],
          "barpolar": [
           {
            "marker": {
             "line": {
              "color": "#E5ECF6",
              "width": 0.5
             },
             "pattern": {
              "fillmode": "overlay",
              "size": 10,
              "solidity": 0.2
             }
            },
            "type": "barpolar"
           }
          ],
          "carpet": [
           {
            "aaxis": {
             "endlinecolor": "#2a3f5f",
             "gridcolor": "white",
             "linecolor": "white",
             "minorgridcolor": "white",
             "startlinecolor": "#2a3f5f"
            },
            "baxis": {
             "endlinecolor": "#2a3f5f",
             "gridcolor": "white",
             "linecolor": "white",
             "minorgridcolor": "white",
             "startlinecolor": "#2a3f5f"
            },
            "type": "carpet"
           }
          ],
          "choropleth": [
           {
            "colorbar": {
             "outlinewidth": 0,
             "ticks": ""
            },
            "type": "choropleth"
           }
          ],
          "contour": [
           {
            "colorbar": {
             "outlinewidth": 0,
             "ticks": ""
            },
            "colorscale": [
             [
              0,
              "#0d0887"
             ],
             [
              0.1111111111111111,
              "#46039f"
             ],
             [
              0.2222222222222222,
              "#7201a8"
             ],
             [
              0.3333333333333333,
              "#9c179e"
             ],
             [
              0.4444444444444444,
              "#bd3786"
             ],
             [
              0.5555555555555556,
              "#d8576b"
             ],
             [
              0.6666666666666666,
              "#ed7953"
             ],
             [
              0.7777777777777778,
              "#fb9f3a"
             ],
             [
              0.8888888888888888,
              "#fdca26"
             ],
             [
              1,
              "#f0f921"
             ]
            ],
            "type": "contour"
           }
          ],
          "contourcarpet": [
           {
            "colorbar": {
             "outlinewidth": 0,
             "ticks": ""
            },
            "type": "contourcarpet"
           }
          ],
          "heatmap": [
           {
            "colorbar": {
             "outlinewidth": 0,
             "ticks": ""
            },
            "colorscale": [
             [
              0,
              "#0d0887"
             ],
             [
              0.1111111111111111,
              "#46039f"
             ],
             [
              0.2222222222222222,
              "#7201a8"
             ],
             [
              0.3333333333333333,
              "#9c179e"
             ],
             [
              0.4444444444444444,
              "#bd3786"
             ],
             [
              0.5555555555555556,
              "#d8576b"
             ],
             [
              0.6666666666666666,
              "#ed7953"
             ],
             [
              0.7777777777777778,
              "#fb9f3a"
             ],
             [
              0.8888888888888888,
              "#fdca26"
             ],
             [
              1,
              "#f0f921"
             ]
            ],
            "type": "heatmap"
           }
          ],
          "heatmapgl": [
           {
            "colorbar": {
             "outlinewidth": 0,
             "ticks": ""
            },
            "colorscale": [
             [
              0,
              "#0d0887"
             ],
             [
              0.1111111111111111,
              "#46039f"
             ],
             [
              0.2222222222222222,
              "#7201a8"
             ],
             [
              0.3333333333333333,
              "#9c179e"
             ],
             [
              0.4444444444444444,
              "#bd3786"
             ],
             [
              0.5555555555555556,
              "#d8576b"
             ],
             [
              0.6666666666666666,
              "#ed7953"
             ],
             [
              0.7777777777777778,
              "#fb9f3a"
             ],
             [
              0.8888888888888888,
              "#fdca26"
             ],
             [
              1,
              "#f0f921"
             ]
            ],
            "type": "heatmapgl"
           }
          ],
          "histogram": [
           {
            "marker": {
             "pattern": {
              "fillmode": "overlay",
              "size": 10,
              "solidity": 0.2
             }
            },
            "type": "histogram"
           }
          ],
          "histogram2d": [
           {
            "colorbar": {
             "outlinewidth": 0,
             "ticks": ""
            },
            "colorscale": [
             [
              0,
              "#0d0887"
             ],
             [
              0.1111111111111111,
              "#46039f"
             ],
             [
              0.2222222222222222,
              "#7201a8"
             ],
             [
              0.3333333333333333,
              "#9c179e"
             ],
             [
              0.4444444444444444,
              "#bd3786"
             ],
             [
              0.5555555555555556,
              "#d8576b"
             ],
             [
              0.6666666666666666,
              "#ed7953"
             ],
             [
              0.7777777777777778,
              "#fb9f3a"
             ],
             [
              0.8888888888888888,
              "#fdca26"
             ],
             [
              1,
              "#f0f921"
             ]
            ],
            "type": "histogram2d"
           }
          ],
          "histogram2dcontour": [
           {
            "colorbar": {
             "outlinewidth": 0,
             "ticks": ""
            },
            "colorscale": [
             [
              0,
              "#0d0887"
             ],
             [
              0.1111111111111111,
              "#46039f"
             ],
             [
              0.2222222222222222,
              "#7201a8"
             ],
             [
              0.3333333333333333,
              "#9c179e"
             ],
             [
              0.4444444444444444,
              "#bd3786"
             ],
             [
              0.5555555555555556,
              "#d8576b"
             ],
             [
              0.6666666666666666,
              "#ed7953"
             ],
             [
              0.7777777777777778,
              "#fb9f3a"
             ],
             [
              0.8888888888888888,
              "#fdca26"
             ],
             [
              1,
              "#f0f921"
             ]
            ],
            "type": "histogram2dcontour"
           }
          ],
          "mesh3d": [
           {
            "colorbar": {
             "outlinewidth": 0,
             "ticks": ""
            },
            "type": "mesh3d"
           }
          ],
          "parcoords": [
           {
            "line": {
             "colorbar": {
              "outlinewidth": 0,
              "ticks": ""
             }
            },
            "type": "parcoords"
           }
          ],
          "pie": [
           {
            "automargin": true,
            "type": "pie"
           }
          ],
          "scatter": [
           {
            "fillpattern": {
             "fillmode": "overlay",
             "size": 10,
             "solidity": 0.2
            },
            "type": "scatter"
           }
          ],
          "scatter3d": [
           {
            "line": {
             "colorbar": {
              "outlinewidth": 0,
              "ticks": ""
             }
            },
            "marker": {
             "colorbar": {
              "outlinewidth": 0,
              "ticks": ""
             }
            },
            "type": "scatter3d"
           }
          ],
          "scattercarpet": [
           {
            "marker": {
             "colorbar": {
              "outlinewidth": 0,
              "ticks": ""
             }
            },
            "type": "scattercarpet"
           }
          ],
          "scattergeo": [
           {
            "marker": {
             "colorbar": {
              "outlinewidth": 0,
              "ticks": ""
             }
            },
            "type": "scattergeo"
           }
          ],
          "scattergl": [
           {
            "marker": {
             "colorbar": {
              "outlinewidth": 0,
              "ticks": ""
             }
            },
            "type": "scattergl"
           }
          ],
          "scattermapbox": [
           {
            "marker": {
             "colorbar": {
              "outlinewidth": 0,
              "ticks": ""
             }
            },
            "type": "scattermapbox"
           }
          ],
          "scatterpolar": [
           {
            "marker": {
             "colorbar": {
              "outlinewidth": 0,
              "ticks": ""
             }
            },
            "type": "scatterpolar"
           }
          ],
          "scatterpolargl": [
           {
            "marker": {
             "colorbar": {
              "outlinewidth": 0,
              "ticks": ""
             }
            },
            "type": "scatterpolargl"
           }
          ],
          "scatterternary": [
           {
            "marker": {
             "colorbar": {
              "outlinewidth": 0,
              "ticks": ""
             }
            },
            "type": "scatterternary"
           }
          ],
          "surface": [
           {
            "colorbar": {
             "outlinewidth": 0,
             "ticks": ""
            },
            "colorscale": [
             [
              0,
              "#0d0887"
             ],
             [
              0.1111111111111111,
              "#46039f"
             ],
             [
              0.2222222222222222,
              "#7201a8"
             ],
             [
              0.3333333333333333,
              "#9c179e"
             ],
             [
              0.4444444444444444,
              "#bd3786"
             ],
             [
              0.5555555555555556,
              "#d8576b"
             ],
             [
              0.6666666666666666,
              "#ed7953"
             ],
             [
              0.7777777777777778,
              "#fb9f3a"
             ],
             [
              0.8888888888888888,
              "#fdca26"
             ],
             [
              1,
              "#f0f921"
             ]
            ],
            "type": "surface"
           }
          ],
          "table": [
           {
            "cells": {
             "fill": {
              "color": "#EBF0F8"
             },
             "line": {
              "color": "white"
             }
            },
            "header": {
             "fill": {
              "color": "#C8D4E3"
             },
             "line": {
              "color": "white"
             }
            },
            "type": "table"
           }
          ]
         },
         "layout": {
          "annotationdefaults": {
           "arrowcolor": "#2a3f5f",
           "arrowhead": 0,
           "arrowwidth": 1
          },
          "autotypenumbers": "strict",
          "coloraxis": {
           "colorbar": {
            "outlinewidth": 0,
            "ticks": ""
           }
          },
          "colorscale": {
           "diverging": [
            [
             0,
             "#8e0152"
            ],
            [
             0.1,
             "#c51b7d"
            ],
            [
             0.2,
             "#de77ae"
            ],
            [
             0.3,
             "#f1b6da"
            ],
            [
             0.4,
             "#fde0ef"
            ],
            [
             0.5,
             "#f7f7f7"
            ],
            [
             0.6,
             "#e6f5d0"
            ],
            [
             0.7,
             "#b8e186"
            ],
            [
             0.8,
             "#7fbc41"
            ],
            [
             0.9,
             "#4d9221"
            ],
            [
             1,
             "#276419"
            ]
           ],
           "sequential": [
            [
             0,
             "#0d0887"
            ],
            [
             0.1111111111111111,
             "#46039f"
            ],
            [
             0.2222222222222222,
             "#7201a8"
            ],
            [
             0.3333333333333333,
             "#9c179e"
            ],
            [
             0.4444444444444444,
             "#bd3786"
            ],
            [
             0.5555555555555556,
             "#d8576b"
            ],
            [
             0.6666666666666666,
             "#ed7953"
            ],
            [
             0.7777777777777778,
             "#fb9f3a"
            ],
            [
             0.8888888888888888,
             "#fdca26"
            ],
            [
             1,
             "#f0f921"
            ]
           ],
           "sequentialminus": [
            [
             0,
             "#0d0887"
            ],
            [
             0.1111111111111111,
             "#46039f"
            ],
            [
             0.2222222222222222,
             "#7201a8"
            ],
            [
             0.3333333333333333,
             "#9c179e"
            ],
            [
             0.4444444444444444,
             "#bd3786"
            ],
            [
             0.5555555555555556,
             "#d8576b"
            ],
            [
             0.6666666666666666,
             "#ed7953"
            ],
            [
             0.7777777777777778,
             "#fb9f3a"
            ],
            [
             0.8888888888888888,
             "#fdca26"
            ],
            [
             1,
             "#f0f921"
            ]
           ]
          },
          "colorway": [
           "#636efa",
           "#EF553B",
           "#00cc96",
           "#ab63fa",
           "#FFA15A",
           "#19d3f3",
           "#FF6692",
           "#B6E880",
           "#FF97FF",
           "#FECB52"
          ],
          "font": {
           "color": "#2a3f5f"
          },
          "geo": {
           "bgcolor": "white",
           "lakecolor": "white",
           "landcolor": "#E5ECF6",
           "showlakes": true,
           "showland": true,
           "subunitcolor": "white"
          },
          "hoverlabel": {
           "align": "left"
          },
          "hovermode": "closest",
          "mapbox": {
           "style": "light"
          },
          "paper_bgcolor": "white",
          "plot_bgcolor": "#E5ECF6",
          "polar": {
           "angularaxis": {
            "gridcolor": "white",
            "linecolor": "white",
            "ticks": ""
           },
           "bgcolor": "#E5ECF6",
           "radialaxis": {
            "gridcolor": "white",
            "linecolor": "white",
            "ticks": ""
           }
          },
          "scene": {
           "xaxis": {
            "backgroundcolor": "#E5ECF6",
            "gridcolor": "white",
            "gridwidth": 2,
            "linecolor": "white",
            "showbackground": true,
            "ticks": "",
            "zerolinecolor": "white"
           },
           "yaxis": {
            "backgroundcolor": "#E5ECF6",
            "gridcolor": "white",
            "gridwidth": 2,
            "linecolor": "white",
            "showbackground": true,
            "ticks": "",
            "zerolinecolor": "white"
           },
           "zaxis": {
            "backgroundcolor": "#E5ECF6",
            "gridcolor": "white",
            "gridwidth": 2,
            "linecolor": "white",
            "showbackground": true,
            "ticks": "",
            "zerolinecolor": "white"
           }
          },
          "shapedefaults": {
           "line": {
            "color": "#2a3f5f"
           }
          },
          "ternary": {
           "aaxis": {
            "gridcolor": "white",
            "linecolor": "white",
            "ticks": ""
           },
           "baxis": {
            "gridcolor": "white",
            "linecolor": "white",
            "ticks": ""
           },
           "bgcolor": "#E5ECF6",
           "caxis": {
            "gridcolor": "white",
            "linecolor": "white",
            "ticks": ""
           }
          },
          "title": {
           "x": 0.05
          },
          "xaxis": {
           "automargin": true,
           "gridcolor": "white",
           "linecolor": "white",
           "ticks": "",
           "title": {
            "standoff": 15
           },
           "zerolinecolor": "white",
           "zerolinewidth": 2
          },
          "yaxis": {
           "automargin": true,
           "gridcolor": "white",
           "linecolor": "white",
           "ticks": "",
           "title": {
            "standoff": 15
           },
           "zerolinecolor": "white",
           "zerolinewidth": 2
          }
         }
        },
        "title": {
         "text": "Interactive 3D Plot of Prescription Drugs"
        }
       }
      }
     },
     "metadata": {},
     "output_type": "display_data"
    },
    {
     "data": {
      "text/plain": [
       "'https://chart-studio.plotly.com/~dgg32/1/'"
      ]
     },
     "execution_count": 49,
     "metadata": {},
     "output_type": "execute_result"
    }
   ],
   "source": [
    "\n",
    "# Create a 3D scatter plot with hover information\n",
    "fig = px.scatter_3d(\n",
    "    popular_prescription_most_trials_only, \n",
    "    x='rank', \n",
    "    y='cost', \n",
    "    z='trial_count',\n",
    "    color='trial_count',\n",
    "    size='trial_count',\n",
    "    size_max=15,\n",
    "    opacity=0.8,\n",
    "    color_continuous_scale=px.colors.sequential.Viridis,\n",
    "    title='Interactive 3D Plot of Prescription Drugs',\n",
    "    hover_name='name',  # This makes the name appear prominently on hover\n",
    "    hover_data=['rank', 'cost', 'trial_count']  # Additional data for hover\n",
    ")\n",
    "\n",
    "# Update layout for better appearance\n",
    "fig.update_layout(\n",
    "    scene=dict(\n",
    "        xaxis_title='Rank',\n",
    "        yaxis_title='Cost',\n",
    "        zaxis_title='Trial Count',\n",
    "    ),\n",
    "    margin=dict(l=0, r=0, b=0, t=40),\n",
    "    scene_camera=dict(\n",
    "        eye=dict(x=1.5, y=1.5, z=1.5)\n",
    "    )\n",
    ")\n",
    "\n",
    "# Customize hover template to control exactly what appears\n",
    "fig.update_traces(\n",
    "    hovertemplate='<b>%{hovertext}</b><br><br>' +\n",
    "                  'Rank: %{x}<br>' +\n",
    "                  'Cost: $%{y:.2f}<br>' +\n",
    "                  'Trial Count: %{z}<br>' +\n",
    "                  '<extra></extra>'  # This removes the trace name from the hover\n",
    ")\n",
    "\n",
    "# Show the plot\n",
    "fig.show()\n",
    "\n",
    "py.plot(fig, filename=\"trial_rank_cost\", auto_open = True)\n",
    "# If you want to save the interactive plot as an HTML file\n",
    "# fig.write_html('interactive_3d_prescription_plot.html')"
   ]
  },
  {
   "cell_type": "code",
   "execution_count": 75,
   "metadata": {},
   "outputs": [
    {
     "data": {
      "application/vnd.microsoft.datawrangler.viewer.v0+json": {
       "columns": [
        {
         "name": "index",
         "rawType": "int64",
         "type": "integer"
        },
        {
         "name": "name",
         "rawType": "object",
         "type": "string"
        },
        {
         "name": "year",
         "rawType": "int32",
         "type": "integer"
        },
        {
         "name": "total_cost",
         "rawType": "float64",
         "type": "float"
        }
       ],
       "conversionMethod": "pd.DataFrame",
       "ref": "46f007de-92bc-41be-bde5-7110f8364bd4",
       "rows": [
        [
         "0",
         "Albuterol",
         "2013",
         "50.23"
        ],
        [
         "1",
         "Albuterol",
         "2014",
         "58.67"
        ],
        [
         "2",
         "Albuterol",
         "2015",
         "55.42"
        ],
        [
         "3",
         "Albuterol",
         "2016",
         "61.18"
        ],
        [
         "4",
         "Albuterol",
         "2017",
         "61.62"
        ],
        [
         "5",
         "Albuterol",
         "2018",
         "61.82"
        ],
        [
         "6",
         "Albuterol",
         "2019",
         "61.41"
        ],
        [
         "7",
         "Albuterol",
         "2020",
         "54.06"
        ],
        [
         "8",
         "Albuterol",
         "2021",
         "49.69"
        ],
        [
         "9",
         "Albuterol",
         "2022",
         "47.7"
        ],
        [
         "10",
         "Amlodipine",
         "2013",
         "24.31"
        ],
        [
         "11",
         "Amlodipine",
         "2014",
         "22.67"
        ],
        [
         "12",
         "Amlodipine",
         "2015",
         "25.34"
        ],
        [
         "13",
         "Amlodipine",
         "2016",
         "33.6"
        ],
        [
         "14",
         "Amlodipine",
         "2017",
         "19.98"
        ],
        [
         "15",
         "Amlodipine",
         "2018",
         "24.7"
        ],
        [
         "16",
         "Amlodipine",
         "2019",
         "22.74"
        ],
        [
         "17",
         "Amlodipine",
         "2020",
         "8.67"
        ],
        [
         "18",
         "Amlodipine",
         "2021",
         "8.99"
        ],
        [
         "19",
         "Amlodipine",
         "2022",
         "10.29"
        ],
        [
         "20",
         "Atorvastatin",
         "2013",
         "71.26"
        ],
        [
         "21",
         "Atorvastatin",
         "2014",
         "72.21"
        ],
        [
         "22",
         "Atorvastatin",
         "2015",
         "67.63"
        ],
        [
         "23",
         "Atorvastatin",
         "2016",
         "73.32"
        ],
        [
         "24",
         "Atorvastatin",
         "2017",
         "61.34"
        ],
        [
         "25",
         "Atorvastatin",
         "2018",
         "50.91"
        ],
        [
         "26",
         "Atorvastatin",
         "2019",
         "40.05"
        ],
        [
         "27",
         "Atorvastatin",
         "2020",
         "15.67"
        ],
        [
         "28",
         "Atorvastatin",
         "2021",
         "19.58"
        ],
        [
         "29",
         "Atorvastatin",
         "2022",
         "19.0"
        ],
        [
         "30",
         "Gabapentin",
         "2013",
         "75.38"
        ],
        [
         "31",
         "Gabapentin",
         "2014",
         "74.78"
        ],
        [
         "32",
         "Gabapentin",
         "2015",
         "94.96"
        ],
        [
         "33",
         "Gabapentin",
         "2016",
         "94.6"
        ],
        [
         "34",
         "Gabapentin",
         "2017",
         "96.12"
        ],
        [
         "35",
         "Gabapentin",
         "2018",
         "113.26"
        ],
        [
         "36",
         "Gabapentin",
         "2019",
         "56.57"
        ],
        [
         "37",
         "Gabapentin",
         "2020",
         "50.89"
        ],
        [
         "38",
         "Gabapentin",
         "2021",
         "79.94"
        ],
        [
         "39",
         "Gabapentin",
         "2022",
         "114.03"
        ],
        [
         "40",
         "Levothyroxine",
         "2013",
         "17.42"
        ],
        [
         "41",
         "Levothyroxine",
         "2014",
         "21.5"
        ],
        [
         "42",
         "Levothyroxine",
         "2015",
         "25.75"
        ],
        [
         "43",
         "Levothyroxine",
         "2016",
         "27.02"
        ],
        [
         "44",
         "Levothyroxine",
         "2017",
         "26.39"
        ],
        [
         "45",
         "Levothyroxine",
         "2018",
         "25.14"
        ],
        [
         "46",
         "Levothyroxine",
         "2019",
         "25.1"
        ],
        [
         "47",
         "Levothyroxine",
         "2020",
         "25.95"
        ],
        [
         "48",
         "Levothyroxine",
         "2021",
         "23.92"
        ],
        [
         "49",
         "Levothyroxine",
         "2022",
         "22.05"
        ]
       ],
       "shape": {
        "columns": 3,
        "rows": 100
       }
      },
      "text/html": [
       "<div>\n",
       "<style scoped>\n",
       "    .dataframe tbody tr th:only-of-type {\n",
       "        vertical-align: middle;\n",
       "    }\n",
       "\n",
       "    .dataframe tbody tr th {\n",
       "        vertical-align: top;\n",
       "    }\n",
       "\n",
       "    .dataframe thead th {\n",
       "        text-align: right;\n",
       "    }\n",
       "</style>\n",
       "<table border=\"1\" class=\"dataframe\">\n",
       "  <thead>\n",
       "    <tr style=\"text-align: right;\">\n",
       "      <th></th>\n",
       "      <th>name</th>\n",
       "      <th>year</th>\n",
       "      <th>total_cost</th>\n",
       "    </tr>\n",
       "  </thead>\n",
       "  <tbody>\n",
       "    <tr>\n",
       "      <th>0</th>\n",
       "      <td>Albuterol</td>\n",
       "      <td>2013</td>\n",
       "      <td>50.23</td>\n",
       "    </tr>\n",
       "    <tr>\n",
       "      <th>1</th>\n",
       "      <td>Albuterol</td>\n",
       "      <td>2014</td>\n",
       "      <td>58.67</td>\n",
       "    </tr>\n",
       "    <tr>\n",
       "      <th>2</th>\n",
       "      <td>Albuterol</td>\n",
       "      <td>2015</td>\n",
       "      <td>55.42</td>\n",
       "    </tr>\n",
       "    <tr>\n",
       "      <th>3</th>\n",
       "      <td>Albuterol</td>\n",
       "      <td>2016</td>\n",
       "      <td>61.18</td>\n",
       "    </tr>\n",
       "    <tr>\n",
       "      <th>4</th>\n",
       "      <td>Albuterol</td>\n",
       "      <td>2017</td>\n",
       "      <td>61.62</td>\n",
       "    </tr>\n",
       "    <tr>\n",
       "      <th>...</th>\n",
       "      <td>...</td>\n",
       "      <td>...</td>\n",
       "      <td>...</td>\n",
       "    </tr>\n",
       "    <tr>\n",
       "      <th>95</th>\n",
       "      <td>Omeprazole</td>\n",
       "      <td>2018</td>\n",
       "      <td>58.16</td>\n",
       "    </tr>\n",
       "    <tr>\n",
       "      <th>96</th>\n",
       "      <td>Omeprazole</td>\n",
       "      <td>2019</td>\n",
       "      <td>33.05</td>\n",
       "    </tr>\n",
       "    <tr>\n",
       "      <th>97</th>\n",
       "      <td>Omeprazole</td>\n",
       "      <td>2020</td>\n",
       "      <td>16.18</td>\n",
       "    </tr>\n",
       "    <tr>\n",
       "      <th>98</th>\n",
       "      <td>Omeprazole</td>\n",
       "      <td>2021</td>\n",
       "      <td>17.02</td>\n",
       "    </tr>\n",
       "    <tr>\n",
       "      <th>99</th>\n",
       "      <td>Omeprazole</td>\n",
       "      <td>2022</td>\n",
       "      <td>15.85</td>\n",
       "    </tr>\n",
       "  </tbody>\n",
       "</table>\n",
       "<p>100 rows × 3 columns</p>\n",
       "</div>"
      ],
      "text/plain": [
       "          name  year  total_cost\n",
       "0    Albuterol  2013       50.23\n",
       "1    Albuterol  2014       58.67\n",
       "2    Albuterol  2015       55.42\n",
       "3    Albuterol  2016       61.18\n",
       "4    Albuterol  2017       61.62\n",
       "..         ...   ...         ...\n",
       "95  Omeprazole  2018       58.16\n",
       "96  Omeprazole  2019       33.05\n",
       "97  Omeprazole  2020       16.18\n",
       "98  Omeprazole  2021       17.02\n",
       "99  Omeprazole  2022       15.85\n",
       "\n",
       "[100 rows x 3 columns]"
      ]
     },
     "execution_count": 75,
     "metadata": {},
     "output_type": "execute_result"
    }
   ],
   "source": [
    "query = \"\"\"\n",
    "SELECT \n",
    "  name,\n",
    "  cost.unnest.year,\n",
    "  cost.unnest.total as total_cost,\n",
    "FROM \n",
    "  Prescription,\n",
    "  UNNEST(prescription_cost_over_time) AS cost\n",
    "WHERE \"Top drug rank (2022)\" <= 10\n",
    "ORDER BY\n",
    "  name,\n",
    "  cost.unnest.year\n",
    "\"\"\"\n",
    "\n",
    "\n",
    "drug_price_over_year = con.execute(query).fetch_df()\n",
    "drug_price_over_year"
   ]
  },
  {
   "cell_type": "code",
   "execution_count": 76,
   "metadata": {},
   "outputs": [
    {
     "data": {
      "application/vnd.plotly.v1+json": {
       "config": {
        "plotlyServerURL": "https://plotly.com"
       },
       "data": [
        {
         "hovertemplate": "<b>%{text}</b><br>Year: %{x}<br>Cost: $%{y:.2f}<extra></extra>",
         "line": {
          "color": "rgb(229, 134, 6)",
          "width": 2
         },
         "marker": {
          "color": "rgb(229, 134, 6)",
          "size": 8
         },
         "mode": "lines+markers",
         "name": "Albuterol",
         "text": [
          "Albuterol",
          "Albuterol",
          "Albuterol",
          "Albuterol",
          "Albuterol",
          "Albuterol",
          "Albuterol",
          "Albuterol",
          "Albuterol",
          "Albuterol"
         ],
         "type": "scatter",
         "x": [
          2013,
          2014,
          2015,
          2016,
          2017,
          2018,
          2019,
          2020,
          2021,
          2022
         ],
         "y": [
          50.23,
          58.67,
          55.42,
          61.18,
          61.62,
          61.82,
          61.41,
          54.06,
          49.69,
          47.7
         ]
        },
        {
         "hovertemplate": "<b>%{text}</b><br>Year: %{x}<br>Cost: $%{y:.2f}<extra></extra>",
         "line": {
          "color": "rgb(93, 105, 177)",
          "width": 2
         },
         "marker": {
          "color": "rgb(93, 105, 177)",
          "size": 8
         },
         "mode": "lines+markers",
         "name": "Amlodipine",
         "text": [
          "Amlodipine",
          "Amlodipine",
          "Amlodipine",
          "Amlodipine",
          "Amlodipine",
          "Amlodipine",
          "Amlodipine",
          "Amlodipine",
          "Amlodipine",
          "Amlodipine"
         ],
         "type": "scatter",
         "x": [
          2013,
          2014,
          2015,
          2016,
          2017,
          2018,
          2019,
          2020,
          2021,
          2022
         ],
         "y": [
          24.31,
          22.67,
          25.34,
          33.6,
          19.98,
          24.7,
          22.74,
          8.67,
          8.99,
          10.29
         ]
        },
        {
         "hovertemplate": "<b>%{text}</b><br>Year: %{x}<br>Cost: $%{y:.2f}<extra></extra>",
         "line": {
          "color": "rgb(82, 188, 163)",
          "width": 2
         },
         "marker": {
          "color": "rgb(82, 188, 163)",
          "size": 8
         },
         "mode": "lines+markers",
         "name": "Atorvastatin",
         "text": [
          "Atorvastatin",
          "Atorvastatin",
          "Atorvastatin",
          "Atorvastatin",
          "Atorvastatin",
          "Atorvastatin",
          "Atorvastatin",
          "Atorvastatin",
          "Atorvastatin",
          "Atorvastatin"
         ],
         "type": "scatter",
         "x": [
          2013,
          2014,
          2015,
          2016,
          2017,
          2018,
          2019,
          2020,
          2021,
          2022
         ],
         "y": [
          71.26,
          72.21,
          67.63,
          73.32,
          61.34,
          50.91,
          40.05,
          15.67,
          19.58,
          19
         ]
        },
        {
         "hovertemplate": "<b>%{text}</b><br>Year: %{x}<br>Cost: $%{y:.2f}<extra></extra>",
         "line": {
          "color": "rgb(153, 201, 69)",
          "width": 2
         },
         "marker": {
          "color": "rgb(153, 201, 69)",
          "size": 8
         },
         "mode": "lines+markers",
         "name": "Gabapentin",
         "text": [
          "Gabapentin",
          "Gabapentin",
          "Gabapentin",
          "Gabapentin",
          "Gabapentin",
          "Gabapentin",
          "Gabapentin",
          "Gabapentin",
          "Gabapentin",
          "Gabapentin"
         ],
         "type": "scatter",
         "x": [
          2013,
          2014,
          2015,
          2016,
          2017,
          2018,
          2019,
          2020,
          2021,
          2022
         ],
         "y": [
          75.38,
          74.78,
          94.96,
          94.6,
          96.12,
          113.26,
          56.57,
          50.89,
          79.94,
          114.03
         ]
        },
        {
         "hovertemplate": "<b>%{text}</b><br>Year: %{x}<br>Cost: $%{y:.2f}<extra></extra>",
         "line": {
          "color": "rgb(204, 97, 176)",
          "width": 2
         },
         "marker": {
          "color": "rgb(204, 97, 176)",
          "size": 8
         },
         "mode": "lines+markers",
         "name": "Levothyroxine",
         "text": [
          "Levothyroxine",
          "Levothyroxine",
          "Levothyroxine",
          "Levothyroxine",
          "Levothyroxine",
          "Levothyroxine",
          "Levothyroxine",
          "Levothyroxine",
          "Levothyroxine",
          "Levothyroxine"
         ],
         "type": "scatter",
         "x": [
          2013,
          2014,
          2015,
          2016,
          2017,
          2018,
          2019,
          2020,
          2021,
          2022
         ],
         "y": [
          17.42,
          21.5,
          25.75,
          27.02,
          26.39,
          25.14,
          25.1,
          25.95,
          23.92,
          22.05
         ]
        },
        {
         "hovertemplate": "<b>%{text}</b><br>Year: %{x}<br>Cost: $%{y:.2f}<extra></extra>",
         "line": {
          "color": "rgb(36, 121, 108)",
          "width": 2
         },
         "marker": {
          "color": "rgb(36, 121, 108)",
          "size": 8
         },
         "mode": "lines+markers",
         "name": "Lisinopril",
         "text": [
          "Lisinopril",
          "Lisinopril",
          "Lisinopril",
          "Lisinopril",
          "Lisinopril",
          "Lisinopril",
          "Lisinopril",
          "Lisinopril",
          "Lisinopril",
          "Lisinopril"
         ],
         "type": "scatter",
         "x": [
          2013,
          2014,
          2015,
          2016,
          2017,
          2018,
          2019,
          2020,
          2021,
          2022
         ],
         "y": [
          13.88,
          13.93,
          13.71,
          15.7,
          12.11,
          13.07,
          12.33,
          8.44,
          10.94,
          10.54
         ]
        },
        {
         "hovertemplate": "<b>%{text}</b><br>Year: %{x}<br>Cost: $%{y:.2f}<extra></extra>",
         "line": {
          "color": "rgb(218, 165, 27)",
          "width": 2
         },
         "marker": {
          "color": "rgb(218, 165, 27)",
          "size": 8
         },
         "mode": "lines+markers",
         "name": "Losartan",
         "text": [
          "Losartan",
          "Losartan",
          "Losartan",
          "Losartan",
          "Losartan",
          "Losartan",
          "Losartan",
          "Losartan",
          "Losartan",
          "Losartan"
         ],
         "type": "scatter",
         "x": [
          2013,
          2014,
          2015,
          2016,
          2017,
          2018,
          2019,
          2020,
          2021,
          2022
         ],
         "y": [
          39.59,
          41.98,
          34.95,
          35.5,
          22.44,
          29.6,
          32.79,
          14.38,
          15.84,
          18.46
         ]
        },
        {
         "hovertemplate": "<b>%{text}</b><br>Year: %{x}<br>Cost: $%{y:.2f}<extra></extra>",
         "line": {
          "color": "rgb(47, 138, 196)",
          "width": 2
         },
         "marker": {
          "color": "rgb(47, 138, 196)",
          "size": 8
         },
         "mode": "lines+markers",
         "name": "Metformin",
         "text": [
          "Metformin",
          "Metformin",
          "Metformin",
          "Metformin",
          "Metformin",
          "Metformin",
          "Metformin",
          "Metformin",
          "Metformin",
          "Metformin"
         ],
         "type": "scatter",
         "x": [
          2013,
          2014,
          2015,
          2016,
          2017,
          2018,
          2019,
          2020,
          2021,
          2022
         ],
         "y": [
          28.96,
          25.28,
          43.62,
          42.54,
          39.12,
          29.76,
          20.82,
          11.07,
          61.58,
          70.33
         ]
        },
        {
         "hovertemplate": "<b>%{text}</b><br>Year: %{x}<br>Cost: $%{y:.2f}<extra></extra>",
         "line": {
          "color": "rgb(118, 78, 159)",
          "width": 2
         },
         "marker": {
          "color": "rgb(118, 78, 159)",
          "size": 8
         },
         "mode": "lines+markers",
         "name": "Metoprolol",
         "text": [
          "Metoprolol",
          "Metoprolol",
          "Metoprolol",
          "Metoprolol",
          "Metoprolol",
          "Metoprolol",
          "Metoprolol",
          "Metoprolol",
          "Metoprolol",
          "Metoprolol"
         ],
         "type": "scatter",
         "x": [
          2013,
          2014,
          2015,
          2016,
          2017,
          2018,
          2019,
          2020,
          2021,
          2022
         ],
         "y": [
          25.12,
          23.82,
          23.29,
          24.65,
          22.71,
          27.67,
          22.37,
          18.87,
          19.27,
          18.15
         ]
        },
        {
         "hovertemplate": "<b>%{text}</b><br>Year: %{x}<br>Cost: $%{y:.2f}<extra></extra>",
         "line": {
          "color": "rgb(237, 100, 90)",
          "width": 2
         },
         "marker": {
          "color": "rgb(237, 100, 90)",
          "size": 8
         },
         "mode": "lines+markers",
         "name": "Omeprazole",
         "text": [
          "Omeprazole",
          "Omeprazole",
          "Omeprazole",
          "Omeprazole",
          "Omeprazole",
          "Omeprazole",
          "Omeprazole",
          "Omeprazole",
          "Omeprazole",
          "Omeprazole"
         ],
         "type": "scatter",
         "x": [
          2013,
          2014,
          2015,
          2016,
          2017,
          2018,
          2019,
          2020,
          2021,
          2022
         ],
         "y": [
          45.86,
          44.95,
          46.23,
          67.1,
          57.11,
          58.16,
          33.05,
          16.18,
          17.02,
          15.85
         ]
        }
       ],
       "layout": {
        "height": 600,
        "hovermode": "closest",
        "showlegend": false,
        "template": {
         "data": {
          "bar": [
           {
            "error_x": {
             "color": "#2a3f5f"
            },
            "error_y": {
             "color": "#2a3f5f"
            },
            "marker": {
             "line": {
              "color": "#E5ECF6",
              "width": 0.5
             },
             "pattern": {
              "fillmode": "overlay",
              "size": 10,
              "solidity": 0.2
             }
            },
            "type": "bar"
           }
          ],
          "barpolar": [
           {
            "marker": {
             "line": {
              "color": "#E5ECF6",
              "width": 0.5
             },
             "pattern": {
              "fillmode": "overlay",
              "size": 10,
              "solidity": 0.2
             }
            },
            "type": "barpolar"
           }
          ],
          "carpet": [
           {
            "aaxis": {
             "endlinecolor": "#2a3f5f",
             "gridcolor": "white",
             "linecolor": "white",
             "minorgridcolor": "white",
             "startlinecolor": "#2a3f5f"
            },
            "baxis": {
             "endlinecolor": "#2a3f5f",
             "gridcolor": "white",
             "linecolor": "white",
             "minorgridcolor": "white",
             "startlinecolor": "#2a3f5f"
            },
            "type": "carpet"
           }
          ],
          "choropleth": [
           {
            "colorbar": {
             "outlinewidth": 0,
             "ticks": ""
            },
            "type": "choropleth"
           }
          ],
          "contour": [
           {
            "colorbar": {
             "outlinewidth": 0,
             "ticks": ""
            },
            "colorscale": [
             [
              0,
              "#0d0887"
             ],
             [
              0.1111111111111111,
              "#46039f"
             ],
             [
              0.2222222222222222,
              "#7201a8"
             ],
             [
              0.3333333333333333,
              "#9c179e"
             ],
             [
              0.4444444444444444,
              "#bd3786"
             ],
             [
              0.5555555555555556,
              "#d8576b"
             ],
             [
              0.6666666666666666,
              "#ed7953"
             ],
             [
              0.7777777777777778,
              "#fb9f3a"
             ],
             [
              0.8888888888888888,
              "#fdca26"
             ],
             [
              1,
              "#f0f921"
             ]
            ],
            "type": "contour"
           }
          ],
          "contourcarpet": [
           {
            "colorbar": {
             "outlinewidth": 0,
             "ticks": ""
            },
            "type": "contourcarpet"
           }
          ],
          "heatmap": [
           {
            "colorbar": {
             "outlinewidth": 0,
             "ticks": ""
            },
            "colorscale": [
             [
              0,
              "#0d0887"
             ],
             [
              0.1111111111111111,
              "#46039f"
             ],
             [
              0.2222222222222222,
              "#7201a8"
             ],
             [
              0.3333333333333333,
              "#9c179e"
             ],
             [
              0.4444444444444444,
              "#bd3786"
             ],
             [
              0.5555555555555556,
              "#d8576b"
             ],
             [
              0.6666666666666666,
              "#ed7953"
             ],
             [
              0.7777777777777778,
              "#fb9f3a"
             ],
             [
              0.8888888888888888,
              "#fdca26"
             ],
             [
              1,
              "#f0f921"
             ]
            ],
            "type": "heatmap"
           }
          ],
          "heatmapgl": [
           {
            "colorbar": {
             "outlinewidth": 0,
             "ticks": ""
            },
            "colorscale": [
             [
              0,
              "#0d0887"
             ],
             [
              0.1111111111111111,
              "#46039f"
             ],
             [
              0.2222222222222222,
              "#7201a8"
             ],
             [
              0.3333333333333333,
              "#9c179e"
             ],
             [
              0.4444444444444444,
              "#bd3786"
             ],
             [
              0.5555555555555556,
              "#d8576b"
             ],
             [
              0.6666666666666666,
              "#ed7953"
             ],
             [
              0.7777777777777778,
              "#fb9f3a"
             ],
             [
              0.8888888888888888,
              "#fdca26"
             ],
             [
              1,
              "#f0f921"
             ]
            ],
            "type": "heatmapgl"
           }
          ],
          "histogram": [
           {
            "marker": {
             "pattern": {
              "fillmode": "overlay",
              "size": 10,
              "solidity": 0.2
             }
            },
            "type": "histogram"
           }
          ],
          "histogram2d": [
           {
            "colorbar": {
             "outlinewidth": 0,
             "ticks": ""
            },
            "colorscale": [
             [
              0,
              "#0d0887"
             ],
             [
              0.1111111111111111,
              "#46039f"
             ],
             [
              0.2222222222222222,
              "#7201a8"
             ],
             [
              0.3333333333333333,
              "#9c179e"
             ],
             [
              0.4444444444444444,
              "#bd3786"
             ],
             [
              0.5555555555555556,
              "#d8576b"
             ],
             [
              0.6666666666666666,
              "#ed7953"
             ],
             [
              0.7777777777777778,
              "#fb9f3a"
             ],
             [
              0.8888888888888888,
              "#fdca26"
             ],
             [
              1,
              "#f0f921"
             ]
            ],
            "type": "histogram2d"
           }
          ],
          "histogram2dcontour": [
           {
            "colorbar": {
             "outlinewidth": 0,
             "ticks": ""
            },
            "colorscale": [
             [
              0,
              "#0d0887"
             ],
             [
              0.1111111111111111,
              "#46039f"
             ],
             [
              0.2222222222222222,
              "#7201a8"
             ],
             [
              0.3333333333333333,
              "#9c179e"
             ],
             [
              0.4444444444444444,
              "#bd3786"
             ],
             [
              0.5555555555555556,
              "#d8576b"
             ],
             [
              0.6666666666666666,
              "#ed7953"
             ],
             [
              0.7777777777777778,
              "#fb9f3a"
             ],
             [
              0.8888888888888888,
              "#fdca26"
             ],
             [
              1,
              "#f0f921"
             ]
            ],
            "type": "histogram2dcontour"
           }
          ],
          "mesh3d": [
           {
            "colorbar": {
             "outlinewidth": 0,
             "ticks": ""
            },
            "type": "mesh3d"
           }
          ],
          "parcoords": [
           {
            "line": {
             "colorbar": {
              "outlinewidth": 0,
              "ticks": ""
             }
            },
            "type": "parcoords"
           }
          ],
          "pie": [
           {
            "automargin": true,
            "type": "pie"
           }
          ],
          "scatter": [
           {
            "fillpattern": {
             "fillmode": "overlay",
             "size": 10,
             "solidity": 0.2
            },
            "type": "scatter"
           }
          ],
          "scatter3d": [
           {
            "line": {
             "colorbar": {
              "outlinewidth": 0,
              "ticks": ""
             }
            },
            "marker": {
             "colorbar": {
              "outlinewidth": 0,
              "ticks": ""
             }
            },
            "type": "scatter3d"
           }
          ],
          "scattercarpet": [
           {
            "marker": {
             "colorbar": {
              "outlinewidth": 0,
              "ticks": ""
             }
            },
            "type": "scattercarpet"
           }
          ],
          "scattergeo": [
           {
            "marker": {
             "colorbar": {
              "outlinewidth": 0,
              "ticks": ""
             }
            },
            "type": "scattergeo"
           }
          ],
          "scattergl": [
           {
            "marker": {
             "colorbar": {
              "outlinewidth": 0,
              "ticks": ""
             }
            },
            "type": "scattergl"
           }
          ],
          "scattermapbox": [
           {
            "marker": {
             "colorbar": {
              "outlinewidth": 0,
              "ticks": ""
             }
            },
            "type": "scattermapbox"
           }
          ],
          "scatterpolar": [
           {
            "marker": {
             "colorbar": {
              "outlinewidth": 0,
              "ticks": ""
             }
            },
            "type": "scatterpolar"
           }
          ],
          "scatterpolargl": [
           {
            "marker": {
             "colorbar": {
              "outlinewidth": 0,
              "ticks": ""
             }
            },
            "type": "scatterpolargl"
           }
          ],
          "scatterternary": [
           {
            "marker": {
             "colorbar": {
              "outlinewidth": 0,
              "ticks": ""
             }
            },
            "type": "scatterternary"
           }
          ],
          "surface": [
           {
            "colorbar": {
             "outlinewidth": 0,
             "ticks": ""
            },
            "colorscale": [
             [
              0,
              "#0d0887"
             ],
             [
              0.1111111111111111,
              "#46039f"
             ],
             [
              0.2222222222222222,
              "#7201a8"
             ],
             [
              0.3333333333333333,
              "#9c179e"
             ],
             [
              0.4444444444444444,
              "#bd3786"
             ],
             [
              0.5555555555555556,
              "#d8576b"
             ],
             [
              0.6666666666666666,
              "#ed7953"
             ],
             [
              0.7777777777777778,
              "#fb9f3a"
             ],
             [
              0.8888888888888888,
              "#fdca26"
             ],
             [
              1,
              "#f0f921"
             ]
            ],
            "type": "surface"
           }
          ],
          "table": [
           {
            "cells": {
             "fill": {
              "color": "#EBF0F8"
             },
             "line": {
              "color": "white"
             }
            },
            "header": {
             "fill": {
              "color": "#C8D4E3"
             },
             "line": {
              "color": "white"
             }
            },
            "type": "table"
           }
          ]
         },
         "layout": {
          "annotationdefaults": {
           "arrowcolor": "#2a3f5f",
           "arrowhead": 0,
           "arrowwidth": 1
          },
          "autotypenumbers": "strict",
          "coloraxis": {
           "colorbar": {
            "outlinewidth": 0,
            "ticks": ""
           }
          },
          "colorscale": {
           "diverging": [
            [
             0,
             "#8e0152"
            ],
            [
             0.1,
             "#c51b7d"
            ],
            [
             0.2,
             "#de77ae"
            ],
            [
             0.3,
             "#f1b6da"
            ],
            [
             0.4,
             "#fde0ef"
            ],
            [
             0.5,
             "#f7f7f7"
            ],
            [
             0.6,
             "#e6f5d0"
            ],
            [
             0.7,
             "#b8e186"
            ],
            [
             0.8,
             "#7fbc41"
            ],
            [
             0.9,
             "#4d9221"
            ],
            [
             1,
             "#276419"
            ]
           ],
           "sequential": [
            [
             0,
             "#0d0887"
            ],
            [
             0.1111111111111111,
             "#46039f"
            ],
            [
             0.2222222222222222,
             "#7201a8"
            ],
            [
             0.3333333333333333,
             "#9c179e"
            ],
            [
             0.4444444444444444,
             "#bd3786"
            ],
            [
             0.5555555555555556,
             "#d8576b"
            ],
            [
             0.6666666666666666,
             "#ed7953"
            ],
            [
             0.7777777777777778,
             "#fb9f3a"
            ],
            [
             0.8888888888888888,
             "#fdca26"
            ],
            [
             1,
             "#f0f921"
            ]
           ],
           "sequentialminus": [
            [
             0,
             "#0d0887"
            ],
            [
             0.1111111111111111,
             "#46039f"
            ],
            [
             0.2222222222222222,
             "#7201a8"
            ],
            [
             0.3333333333333333,
             "#9c179e"
            ],
            [
             0.4444444444444444,
             "#bd3786"
            ],
            [
             0.5555555555555556,
             "#d8576b"
            ],
            [
             0.6666666666666666,
             "#ed7953"
            ],
            [
             0.7777777777777778,
             "#fb9f3a"
            ],
            [
             0.8888888888888888,
             "#fdca26"
            ],
            [
             1,
             "#f0f921"
            ]
           ]
          },
          "colorway": [
           "#636efa",
           "#EF553B",
           "#00cc96",
           "#ab63fa",
           "#FFA15A",
           "#19d3f3",
           "#FF6692",
           "#B6E880",
           "#FF97FF",
           "#FECB52"
          ],
          "font": {
           "color": "#2a3f5f"
          },
          "geo": {
           "bgcolor": "white",
           "lakecolor": "white",
           "landcolor": "#E5ECF6",
           "showlakes": true,
           "showland": true,
           "subunitcolor": "white"
          },
          "hoverlabel": {
           "align": "left"
          },
          "hovermode": "closest",
          "mapbox": {
           "style": "light"
          },
          "paper_bgcolor": "white",
          "plot_bgcolor": "#E5ECF6",
          "polar": {
           "angularaxis": {
            "gridcolor": "white",
            "linecolor": "white",
            "ticks": ""
           },
           "bgcolor": "#E5ECF6",
           "radialaxis": {
            "gridcolor": "white",
            "linecolor": "white",
            "ticks": ""
           }
          },
          "scene": {
           "xaxis": {
            "backgroundcolor": "#E5ECF6",
            "gridcolor": "white",
            "gridwidth": 2,
            "linecolor": "white",
            "showbackground": true,
            "ticks": "",
            "zerolinecolor": "white"
           },
           "yaxis": {
            "backgroundcolor": "#E5ECF6",
            "gridcolor": "white",
            "gridwidth": 2,
            "linecolor": "white",
            "showbackground": true,
            "ticks": "",
            "zerolinecolor": "white"
           },
           "zaxis": {
            "backgroundcolor": "#E5ECF6",
            "gridcolor": "white",
            "gridwidth": 2,
            "linecolor": "white",
            "showbackground": true,
            "ticks": "",
            "zerolinecolor": "white"
           }
          },
          "shapedefaults": {
           "line": {
            "color": "#2a3f5f"
           }
          },
          "ternary": {
           "aaxis": {
            "gridcolor": "white",
            "linecolor": "white",
            "ticks": ""
           },
           "baxis": {
            "gridcolor": "white",
            "linecolor": "white",
            "ticks": ""
           },
           "bgcolor": "#E5ECF6",
           "caxis": {
            "gridcolor": "white",
            "linecolor": "white",
            "ticks": ""
           }
          },
          "title": {
           "x": 0.05
          },
          "xaxis": {
           "automargin": true,
           "gridcolor": "white",
           "linecolor": "white",
           "ticks": "",
           "title": {
            "standoff": 15
           },
           "zerolinecolor": "white",
           "zerolinewidth": 2
          },
          "yaxis": {
           "automargin": true,
           "gridcolor": "white",
           "linecolor": "white",
           "ticks": "",
           "title": {
            "standoff": 15
           },
           "zerolinecolor": "white",
           "zerolinewidth": 2
          }
         }
        },
        "title": {
         "text": "Drug Costs Over Time"
        },
        "width": 900,
        "xaxis": {
         "dtick": 1,
         "tickmode": "linear",
         "title": {
          "text": "Year"
         }
        },
        "yaxis": {
         "gridcolor": "lightgray",
         "tickprefix": "$",
         "title": {
          "text": "Total Cost (USD)"
         }
        }
       }
      }
     },
     "metadata": {},
     "output_type": "display_data"
    }
   ],
   "source": [
    "import pandas as pd\n",
    "import plotly.express as px\n",
    "import plotly.graph_objects as go\n",
    "from plotly.subplots import make_subplots\n",
    "\n",
    "\n",
    "\n",
    "fig = go.Figure()\n",
    "\n",
    "# Get unique drugs\n",
    "drugs = drug_price_over_year['name'].unique()\n",
    "\n",
    "colors = px.colors.qualitative.Vivid\n",
    "# Add a line for each drug\n",
    "for i, drug in enumerate(drugs):\n",
    "    drug_data = drug_price_over_year[drug_price_over_year['name'] == drug]\n",
    "    color_idx = i % len(colors)\n",
    "    fig.add_trace(\n",
    "        go.Scatter(\n",
    "            x=drug_data['year'],\n",
    "            y=drug_data['total_cost'],\n",
    "            mode='lines+markers',\n",
    "            name=drug,\n",
    "            line=dict(color=colors[color_idx], width=2),\n",
    "            marker=dict(color=colors[color_idx], size=8),\n",
    "            hovertemplate='<b>%{text}</b><br>Year: %{x}<br>Cost: $%{y:.2f}<extra></extra>',\n",
    "            text=[drug] * len(drug_data)\n",
    "        )\n",
    "    )\n",
    "\n",
    "fig.update_layout(\n",
    "    showlegend=False\n",
    ")\n",
    "# Customize layout\n",
    "fig.update_layout(\n",
    "    title='Drug Costs Over Time',\n",
    "    xaxis=dict(\n",
    "        title='Year',\n",
    "        tickmode='linear',\n",
    "        dtick=1\n",
    "    ),\n",
    "    yaxis=dict(\n",
    "        title='Total Cost (USD)',\n",
    "        tickprefix='$',\n",
    "        gridcolor='lightgray'\n",
    "    ),\n",
    "    hovermode='closest',\n",
    "    height=600,\n",
    "    width=900\n",
    ")\n",
    "\n",
    "\n",
    "# Show the plot\n",
    "fig.show()\n",
    "\n",
    "# Save the plot if needed\n",
    "# fig.write_html('drug_costs_over_time.html')\n",
    "\n",
    "#py.plot(fig, filename=\"pricing_history_top_30\", auto_open = True)"
   ]
  },
  {
   "cell_type": "code",
   "execution_count": 52,
   "metadata": {},
   "outputs": [],
   "source": [
    "drug_price_over_year.to_csv(\"drug_price_over_year.csv\", index=False)"
   ]
  },
  {
   "cell_type": "code",
   "execution_count": null,
   "metadata": {},
   "outputs": [],
   "source": [
    "con.close()"
   ]
  },
  {
   "cell_type": "code",
   "execution_count": null,
   "metadata": {},
   "outputs": [],
   "source": []
  }
 ],
 "metadata": {
  "kernelspec": {
   "display_name": "duckdb",
   "language": "python",
   "name": "python3"
  },
  "language_info": {
   "codemirror_mode": {
    "name": "ipython",
    "version": 3
   },
   "file_extension": ".py",
   "mimetype": "text/x-python",
   "name": "python",
   "nbconvert_exporter": "python",
   "pygments_lexer": "ipython3",
   "version": "3.11.9"
  }
 },
 "nbformat": 4,
 "nbformat_minor": 2
}
