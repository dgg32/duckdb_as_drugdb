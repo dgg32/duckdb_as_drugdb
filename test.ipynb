{
 "cells": [
  {
   "cell_type": "code",
   "execution_count": 1,
   "metadata": {},
   "outputs": [],
   "source": [
    "import duckdb"
   ]
  },
  {
   "cell_type": "code",
   "execution_count": 2,
   "metadata": {},
   "outputs": [],
   "source": [
    "con = duckdb.connect()\n",
    "\n",
    "con.sql(\"INSTALL duckpgq FROM community;\")\n",
    "\n",
    "con.load_extension(\"duckpgq\")"
   ]
  },
  {
   "cell_type": "code",
   "execution_count": 3,
   "metadata": {},
   "outputs": [
    {
     "data": {
      "text/plain": [
       "┌─────────┐\n",
       "│ Success │\n",
       "│ boolean │\n",
       "├─────────┤\n",
       "│ 0 rows  │\n",
       "└─────────┘"
      ]
     },
     "execution_count": 3,
     "metadata": {},
     "output_type": "execute_result"
    }
   ],
   "source": [
    "con.sql(\"\"\"\n",
    "CREATE TABLE Person as select * from 'https://gist.githubusercontent.com/Dtenwolde/2b02aebbed3c9638a06fda8ee0088a36/raw/8c4dc551f7344b12eaff2d1438c9da08649d00ec/person-sf0.003.csv';\n",
    "CREATE TABLE Person_knows_person as select * from 'https://gist.githubusercontent.com/Dtenwolde/81c32c9002d4059c2c3073dbca155275/raw/8b440e810a48dcaa08c07086e493ec0e2ec6b3cb/person_knows_person-sf0.003.csv';\n",
    "\n",
    "CREATE PROPERTY GRAPH snb\n",
    "  VERTEX TABLES (\n",
    "    Person\n",
    "  )\n",
    "EDGE TABLES (\n",
    "  Person_knows_person \tSOURCE KEY (Person1Id) REFERENCES Person (id)\n",
    "                        DESTINATION KEY (Person2Id) REFERENCES Person (id)\n",
    "  LABEL Knows\n",
    ");\n",
    "\"\"\")"
   ]
  },
  {
   "cell_type": "code",
   "execution_count": 4,
   "metadata": {},
   "outputs": [
    {
     "data": {
      "text/plain": [
       "┌───────┬────────────────┐\n",
       "│  id   │      id_1      │\n",
       "│ int64 │     int64      │\n",
       "├───────┼────────────────┤\n",
       "│    14 │ 10995116277782 │\n",
       "└───────┴────────────────┘"
      ]
     },
     "execution_count": 4,
     "metadata": {},
     "output_type": "execute_result"
    }
   ],
   "source": [
    "con.sql(\"\"\"\n",
    "FROM GRAPH_TABLE (snb\n",
    "  MATCH (a:Person)-[k:knows]->(b:Person)\n",
    "  COLUMNS (a.id, b.id)\n",
    ")\n",
    "LIMIT 1;\n",
    "\"\"\")"
   ]
  },
  {
   "cell_type": "code",
   "execution_count": 5,
   "metadata": {},
   "outputs": [
    {
     "data": {
      "text/plain": [
       "┌───────┬────────────────┬────────────────┐\n",
       "│  id   │      id_1      │ path_length(p) │\n",
       "│ int64 │     int64      │     int64      │\n",
       "├───────┼────────────────┼────────────────┤\n",
       "│    14 │ 10995116277782 │              1 │\n",
       "└───────┴────────────────┴────────────────┘"
      ]
     },
     "execution_count": 5,
     "metadata": {},
     "output_type": "execute_result"
    }
   ],
   "source": [
    "con.sql(\"\"\"\n",
    "FROM GRAPH_TABLE (snb \n",
    "  MATCH p = ANY SHORTEST (a:person)-[k:knows]->{1,3}(b:Person) \n",
    "  COLUMNS (a.id, b.id, path_length(p))\n",
    ") \n",
    "LIMIT 1;\n",
    "\"\"\")"
   ]
  },
  {
   "cell_type": "code",
   "execution_count": 6,
   "metadata": {},
   "outputs": [
    {
     "data": {
      "text/plain": [
       "┌────────────────┬──────────────────────────────┐\n",
       "│       id       │ local_clustering_coefficient │\n",
       "│     int64      │            float             │\n",
       "├────────────────┼──────────────────────────────┤\n",
       "│             14 │                   0.33333334 │\n",
       "│             16 │                          0.5 │\n",
       "│             32 │                    0.8333333 │\n",
       "│  2199023255557 │                    0.6666667 │\n",
       "│  2199023255573 │                          1.0 │\n",
       "│  2199023255594 │                    0.1904762 │\n",
       "│  4398046511139 │                          0.0 │\n",
       "│  6597069766702 │                          0.0 │\n",
       "│  8796093022234 │                          0.0 │\n",
       "│  8796093022237 │                    0.6666667 │\n",
       "│        ·       │                           ·  │\n",
       "│        ·       │                           ·  │\n",
       "│        ·       │                           ·  │\n",
       "│ 30786325577740 │                          1.0 │\n",
       "│ 32985348833291 │                          0.0 │\n",
       "│ 32985348833318 │                          0.0 │\n",
       "│ 32985348833329 │                          0.0 │\n",
       "│ 35184372088834 │                          0.0 │\n",
       "│ 35184372088850 │                    0.6666667 │\n",
       "│ 35184372088856 │                   0.33333334 │\n",
       "│ 35184372088871 │                          0.0 │\n",
       "│ 37383395344394 │                          0.0 │\n",
       "│ 37383395344409 │                          0.0 │\n",
       "├────────────────┴──────────────────────────────┤\n",
       "│ 50 rows (20 shown)                  2 columns │\n",
       "└───────────────────────────────────────────────┘"
      ]
     },
     "execution_count": 6,
     "metadata": {},
     "output_type": "execute_result"
    }
   ],
   "source": [
    "con.sql(\"\"\"\n",
    "FROM local_clustering_coefficient(snb, person, knows);\n",
    "\"\"\")"
   ]
  },
  {
   "cell_type": "code",
   "execution_count": 7,
   "metadata": {},
   "outputs": [
    {
     "data": {
      "text/plain": [
       "┌────────────┬──────────┐\n",
       "│  lastName  │  speaks  │\n",
       "│  varchar   │ varchar  │\n",
       "├────────────┼──────────┤\n",
       "│ Forouhar   │ fa;ku;en │\n",
       "│ Zakrzewski │ pl;en    │\n",
       "│ Gonzalez   │ es;en    │\n",
       "│ Mettacara  │ my;en    │\n",
       "│ Ali        │ ur;en    │\n",
       "└────────────┴──────────┘"
      ]
     },
     "execution_count": 7,
     "metadata": {},
     "output_type": "execute_result"
    }
   ],
   "source": [
    "con.sql(\"\"\"\n",
    "SELECT lastName, speaks FROM Person LIMIT 5\n",
    "\"\"\")"
   ]
  },
  {
   "cell_type": "code",
   "execution_count": 8,
   "metadata": {},
   "outputs": [
    {
     "data": {
      "text/plain": [
       "┌─────────────────────────┬───────────┬────────────────┐\n",
       "│      creationDate       │ Person1Id │   Person2Id    │\n",
       "│        timestamp        │   int64   │     int64      │\n",
       "├─────────────────────────┼───────────┼────────────────┤\n",
       "│ 2012-10-07 02:24:40.381 │        14 │ 10995116277782 │\n",
       "│ 2012-07-08 15:27:12.264 │        14 │ 24189255811081 │\n",
       "│ 2012-11-26 06:45:21.004 │        14 │ 26388279066668 │\n",
       "│ 2011-11-08 06:05:10.543 │        16 │  2199023255594 │\n",
       "│ 2012-06-14 12:43:25.817 │        16 │ 26388279066655 │\n",
       "└─────────────────────────┴───────────┴────────────────┘"
      ]
     },
     "execution_count": 8,
     "metadata": {},
     "output_type": "execute_result"
    }
   ],
   "source": [
    "con.sql(\"\"\"\n",
    "SELECT * FROM Person_knows_person LIMIT 5\n",
    "\"\"\")"
   ]
  },
  {
   "cell_type": "code",
   "execution_count": null,
   "metadata": {},
   "outputs": [],
   "source": []
  }
 ],
 "metadata": {
  "kernelspec": {
   "display_name": "duckdb",
   "language": "python",
   "name": "python3"
  },
  "language_info": {
   "codemirror_mode": {
    "name": "ipython",
    "version": 3
   },
   "file_extension": ".py",
   "mimetype": "text/x-python",
   "name": "python",
   "nbconvert_exporter": "python",
   "pygments_lexer": "ipython3",
   "version": "3.11.9"
  }
 },
 "nbformat": 4,
 "nbformat_minor": 2
}
