{
 "cells": [
  {
   "cell_type": "code",
   "execution_count": 1,
   "metadata": {},
   "outputs": [],
   "source": [
    "import duckdb\n",
    "import pandas as pd\n",
    "import json\n",
    "import yaml\n",
    "import openai\n",
    "from tqdm import tqdm\n",
    "from vanna.remote import VannaDefault\n",
    "import os"
   ]
  },
  {
   "cell_type": "code",
   "execution_count": 2,
   "metadata": {},
   "outputs": [],
   "source": [
    "with open(\"config.yaml\", \"r\") as stream:\n",
    "    try:\n",
    "        PARAM = yaml.safe_load(stream)\n",
    "    except yaml.YAMLError as exc:\n",
    "        print(exc)\n",
    "\n",
    "openai.api_key  = PARAM['openai_api']\n",
    "client = openai.OpenAI(api_key = PARAM['openai_api'])\n",
    "\n",
    "vanna_ai_api = PARAM['vanna_ai']\n",
    "\n",
    "def get_embedding(text, model=\"text-embedding-3-small\"):\n",
    "   text = text.replace(\"\\n\", \" \")\n",
    "   return client.embeddings.create(input = [text], model=model).data[0].embedding"
   ]
  },
  {
   "cell_type": "code",
   "execution_count": 3,
   "metadata": {},
   "outputs": [],
   "source": [
    "con = duckdb.connect(\"drug.db\")\n",
    "\n",
    "#con = duckdb.connect(\"\")\n",
    "\n",
    "\n",
    "con.sql(\"INSTALL duckpgq FROM community;\")\n",
    "con.sql(\"INSTALL fts;\")\n",
    "con.sql(\"INSTALL vss;\")\n",
    "\n",
    "con.load_extension(\"duckpgq\")\n",
    "con.load_extension(\"fts\")\n",
    "con.load_extension(\"vss\")\n"
   ]
  },
  {
   "cell_type": "code",
   "execution_count": 4,
   "metadata": {},
   "outputs": [],
   "source": [
    "vn = VannaDefault(model='sixing', api_key=vanna_ai_api)"
   ]
  },
  {
   "cell_type": "code",
   "execution_count": 5,
   "metadata": {},
   "outputs": [
    {
     "name": "stderr",
     "output_type": "stream",
     "text": [
      "8it [00:02,  3.14it/s]\n"
     ]
    }
   ],
   "source": [
    "df = vn.get_training_data()\n",
    "for index, row in tqdm(df.iterrows()):\n",
    "  #print (row['id'])\n",
    "  vn.remove_training_data(id=row['id'])"
   ]
  },
  {
   "cell_type": "code",
   "execution_count": 6,
   "metadata": {},
   "outputs": [
    {
     "name": "stdout",
     "output_type": "stream",
     "text": [
      "True\n"
     ]
    }
   ],
   "source": [
    "vn.connect_to_duckdb(url='drug.db')\n",
    "\n"
   ]
  },
  {
   "cell_type": "code",
   "execution_count": 7,
   "metadata": {},
   "outputs": [
    {
     "data": {
      "text/html": [
       "<div>\n",
       "<style scoped>\n",
       "    .dataframe tbody tr th:only-of-type {\n",
       "        vertical-align: middle;\n",
       "    }\n",
       "\n",
       "    .dataframe tbody tr th {\n",
       "        vertical-align: top;\n",
       "    }\n",
       "\n",
       "    .dataframe thead th {\n",
       "        text-align: right;\n",
       "    }\n",
       "</style>\n",
       "<table border=\"1\" class=\"dataframe\">\n",
       "  <thead>\n",
       "    <tr style=\"text-align: right;\">\n",
       "      <th></th>\n",
       "      <th>Success</th>\n",
       "    </tr>\n",
       "  </thead>\n",
       "  <tbody>\n",
       "  </tbody>\n",
       "</table>\n",
       "</div>"
      ],
      "text/plain": [
       "Empty DataFrame\n",
       "Columns: [Success]\n",
       "Index: []"
      ]
     },
     "execution_count": 7,
     "metadata": {},
     "output_type": "execute_result"
    }
   ],
   "source": [
    "vn.run_sql(\"\"\"\n",
    "CREATE PROPERTY GRAPH drug_graph\n",
    "  VERTEX TABLES (\n",
    "    Drug, Disorder, MOA\n",
    "  )\n",
    "EDGE TABLES (\n",
    "  DrugDisorder \tSOURCE KEY (drug_cui) REFERENCES Drug (drug_cui)\n",
    "                DESTINATION KEY (disorder_cui) REFERENCES Disorder (disorder_cui)\n",
    "  LABEL MAY_TREAT,\n",
    "  DrugMOA SOURCE KEY (drug_cui) REFERENCES Drug (drug_cui)\n",
    "          DESTINATION KEY (moa_id) REFERENCES MOA (moa_id)\n",
    "  LABEL HAS_MOA\n",
    ");\n",
    "          \"\"\")"
   ]
  },
  {
   "cell_type": "code",
   "execution_count": 8,
   "metadata": {},
   "outputs": [
    {
     "data": {
      "text/plain": [
       "'408c039a3a0273ca92af988480d800b3-sql'"
      ]
     },
     "execution_count": 8,
     "metadata": {},
     "output_type": "execute_result"
    }
   ],
   "source": [
    "vn.train(\n",
    "    question=\"What is the MOA of medrysone?\", \n",
    "    sql=\"\"\"SELECT * FROM GRAPH_TABLE (drug_graph\n",
    "        MATCH\n",
    "        (d:Drug WHERE d.name = 'medrysone')-[h:HAS_MOA]->(m:MOA)\n",
    "        COLUMNS (m.name AS moa_name)\n",
    "      )\n",
    "      LIMIT 5;\"\"\",\n",
    ")"
   ]
  },
  {
   "cell_type": "code",
   "execution_count": 9,
   "metadata": {},
   "outputs": [
    {
     "name": "stdout",
     "output_type": "stream",
     "text": [
      "Adding ddl: CREATE TABLE Trials (\n",
      "            PostingID     INTEGER NOT NULL PRIMARY KEY,\n",
      "            Sponsor    VARCHAR,\n",
      "            StudyTitle     VARCHAR,\n",
      "            Drug   VARCHAR,\n",
      "            Disorder   VARCHAR,\n",
      "            Phase   VARCHAR,\n",
      "            LinkToSponsorStudyRegistry   VARCHAR,\n",
      "            LinkToClinicalTrials   VARCHAR,\n",
      "            cui  VARCHAR[],\n",
      "            PreferredUMLSName   VARCHAR[],\n",
      "            )\n",
      "Adding ddl: CREATE TABLE Drug (\n",
      "            drug_cui  VARCHAR NOT NULL PRIMARY KEY,\n",
      "            name  VARCHAR\n",
      "            )\n",
      "Adding ddl: CREATE TABLE Disorder (\n",
      "            disorder_cui  VARCHAR NOT NULL PRIMARY KEY,\n",
      "            name  VARCHAR,\n",
      "            definition  VARCHAR,\n",
      "            definitionEmbedding FLOAT[1536]\n",
      "            )\n",
      "Adding ddl: CREATE TABLE MOA (\n",
      "            moa_id  VARCHAR NOT NULL PRIMARY KEY,\n",
      "            name  VARCHAR\n",
      "            )\n",
      "Adding ddl: CREATE TABLE DrugDisorder (\n",
      "            drug_cui  VARCHAR NOT NULL REFERENCES Drug(drug_cui),\n",
      "            disorder_cui  VARCHAR NOT NULL REFERENCES Disorder(disorder_cui)\n",
      "            )\n",
      "Adding ddl: CREATE TABLE DrugMOA (\n",
      "            drug_cui  VARCHAR NOT NULL REFERENCES Drug(drug_cui),\n",
      "            moa_id  VARCHAR NOT NULL REFERENCES MOA(moa_id)\n",
      "            )\n",
      "Adding ddl: \n",
      "CREATE PROPERTY GRAPH drug_graph\n",
      "  VERTEX TABLES (\n",
      "    Drug, Disorder, MOA\n",
      "  )\n",
      "EDGE TABLES (\n",
      "  DrugDisorder \tSOURCE KEY (drug_cui) REFERENCES Drug (drug_cui)\n",
      "                DESTINATION KEY (disorder_cui) REFERENCES Disorder (disorder_cui)\n",
      "  LABEL MAY_TREAT,\n",
      "  DrugMOA SOURCE KEY (drug_cui) REFERENCES Drug (drug_cui)\n",
      "          DESTINATION KEY (moa_id) REFERENCES MOA (moa_id)\n",
      "  LABEL HAS_MOA\n",
      ");\n",
      "          \n"
     ]
    },
    {
     "data": {
      "text/plain": [
       "'336391-ddl'"
      ]
     },
     "execution_count": 9,
     "metadata": {},
     "output_type": "execute_result"
    }
   ],
   "source": [
    "vn.train(ddl=\"\"\"CREATE TABLE Trials (\n",
    "            PostingID     INTEGER NOT NULL PRIMARY KEY,\n",
    "            Sponsor    VARCHAR,\n",
    "            StudyTitle     VARCHAR,\n",
    "            Drug   VARCHAR,\n",
    "            Disorder   VARCHAR,\n",
    "            Phase   VARCHAR,\n",
    "            LinkToSponsorStudyRegistry   VARCHAR,\n",
    "            LinkToClinicalTrials   VARCHAR,\n",
    "            cui  VARCHAR[],\n",
    "            PreferredUMLSName   VARCHAR[],\n",
    "            )\"\"\")\n",
    "\n",
    "vn.train(ddl=\"\"\"CREATE TABLE Drug (\n",
    "            drug_cui  VARCHAR NOT NULL PRIMARY KEY,\n",
    "            name  VARCHAR\n",
    "            )\"\"\")\n",
    "\n",
    "vn.train(ddl=\"\"\"CREATE TABLE Disorder (\n",
    "            disorder_cui  VARCHAR NOT NULL PRIMARY KEY,\n",
    "            name  VARCHAR,\n",
    "            definition  VARCHAR,\n",
    "            definitionEmbedding FLOAT[1536]\n",
    "            )\"\"\")\n",
    "\n",
    "vn.train(ddl=\"\"\"CREATE TABLE MOA (\n",
    "            moa_id  VARCHAR NOT NULL PRIMARY KEY,\n",
    "            name  VARCHAR\n",
    "            )\"\"\")\n",
    "\n",
    "vn.train(ddl=\"\"\"CREATE TABLE DrugDisorder (\n",
    "            drug_cui  VARCHAR NOT NULL REFERENCES Drug(drug_cui),\n",
    "            disorder_cui  VARCHAR NOT NULL REFERENCES Disorder(disorder_cui)\n",
    "            )\"\"\")\n",
    "\n",
    "vn.train(ddl=\"\"\"CREATE TABLE DrugMOA (\n",
    "            drug_cui  VARCHAR NOT NULL REFERENCES Drug(drug_cui),\n",
    "            moa_id  VARCHAR NOT NULL REFERENCES MOA(moa_id)\n",
    "            )\"\"\")\n",
    "\n",
    "vn.train(ddl=\"\"\"\n",
    "CREATE PROPERTY GRAPH drug_graph\n",
    "  VERTEX TABLES (\n",
    "    Drug, Disorder, MOA\n",
    "  )\n",
    "EDGE TABLES (\n",
    "  DrugDisorder \tSOURCE KEY (drug_cui) REFERENCES Drug (drug_cui)\n",
    "                DESTINATION KEY (disorder_cui) REFERENCES Disorder (disorder_cui)\n",
    "  LABEL MAY_TREAT,\n",
    "  DrugMOA SOURCE KEY (drug_cui) REFERENCES Drug (drug_cui)\n",
    "          DESTINATION KEY (moa_id) REFERENCES MOA (moa_id)\n",
    "  LABEL HAS_MOA\n",
    ");\n",
    "          \"\"\")"
   ]
  },
  {
   "cell_type": "code",
   "execution_count": 10,
   "metadata": {},
   "outputs": [],
   "source": [
    "# df_information_schema = vn.run_sql(\"SELECT * FROM INFORMATION_SCHEMA.COLUMNS\")\n",
    "# plan = vn.get_training_plan_generic(df_information_schema)\n",
    "# vn.train(plan=plan, documentation=\"In our business, we define 'joint-related disorders' as 'Rheumatoid Arthritis' and 'Arthralgia'\")"
   ]
  },
  {
   "cell_type": "code",
   "execution_count": 11,
   "metadata": {},
   "outputs": [
    {
     "name": "stdout",
     "output_type": "stream",
     "text": [
      "Your app is running at:\n",
      "http://localhost:8084\n",
      " * Serving Flask app 'vanna.flask'\n",
      " * Debug mode: on\n",
      "None\n",
      "None\n",
      "None\n",
      "None\n",
      "None\n",
      "{'function_name': 'get_treatable_diseases', 'description': 'What kind of diseases can {drug_name} treat?', 'arguments': [{'name': 'drug_name', 'description': 'The name of the drug', 'general_type': 'STRING', 'is_user_editable': True}], 'sql_template': 'SELECT DISTINCT d.name FROM Drug AS dr JOIN DrugDisorder AS dd ON dr.drug_cui = dd.drug_cui JOIN Disorder AS d ON dd.disorder_cui = d.disorder_cui WHERE dr.name = {drug_name}', 'post_processing_code_template': ''}\n",
      "[{'function_name': 'get_treatable_diseases', 'description': 'What kind of diseases can {drug_name} treat?', 'post_processing_code_template': '', 'arguments': [{'name': 'drug_name', 'description': 'The name of the drug', 'general_type': 'STRING', 'is_user_editable': True, 'available_values': None}], 'sql_template': 'SELECT DISTINCT d.name FROM Drug AS dr JOIN DrugDisorder AS dd ON dr.drug_cui = dd.drug_cui JOIN Disorder AS d ON dd.disorder_cui = d.disorder_cui WHERE dr.name = {drug_name}'}]\n",
      "[{'function_name': 'get_treatable_diseases', 'description': 'What kind of diseases can {drug_name} treat?', 'post_processing_code_template': '', 'arguments': [{'name': 'drug_name', 'description': 'The name of the drug', 'general_type': 'STRING', 'is_user_editable': True, 'available_values': None}], 'sql_template': 'SELECT DISTINCT d.name FROM Drug AS dr JOIN DrugDisorder AS dd ON dr.drug_cui = dd.drug_cui JOIN Disorder AS d ON dd.disorder_cui = d.disorder_cui WHERE dr.name = {drug_name}'}]\n",
      "[{'function_name': 'get_treatable_diseases', 'description': 'What kind of diseases can {drug_name} treat?', 'post_processing_code_template': '', 'arguments': [{'name': 'drug_name', 'description': 'The name of the drug', 'general_type': 'STRING', 'is_user_editable': True, 'available_values': None}], 'sql_template': 'SELECT DISTINCT d.name FROM Drug AS dr JOIN DrugDisorder AS dd ON dr.drug_cui = dd.drug_cui JOIN Disorder AS d ON dd.disorder_cui = d.disorder_cui WHERE dr.name = {drug_name}'}]\n"
     ]
    }
   ],
   "source": [
    "from vanna.flask import VannaFlaskApp\n",
    "VannaFlaskApp(vn, allow_llm_to_see_data=True, chart=False).run()"
   ]
  },
  {
   "cell_type": "code",
   "execution_count": null,
   "metadata": {},
   "outputs": [],
   "source": [
    "con.close()"
   ]
  }
 ],
 "metadata": {
  "kernelspec": {
   "display_name": "duckdb",
   "language": "python",
   "name": "python3"
  },
  "language_info": {
   "codemirror_mode": {
    "name": "ipython",
    "version": 3
   },
   "file_extension": ".py",
   "mimetype": "text/x-python",
   "name": "python",
   "nbconvert_exporter": "python",
   "pygments_lexer": "ipython3",
   "version": "3.11.9"
  }
 },
 "nbformat": 4,
 "nbformat_minor": 2
}
