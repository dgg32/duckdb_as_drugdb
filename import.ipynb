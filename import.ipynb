{
 "cells": [
  {
   "cell_type": "code",
   "execution_count": 4,
   "metadata": {},
   "outputs": [],
   "source": [
    "import duckdb\n",
    "import pandas as pd\n",
    "import json\n",
    "import yaml\n",
    "import openai\n",
    "from tqdm import tqdm\n",
    "import os\n"
   ]
  },
  {
   "cell_type": "code",
   "execution_count": 5,
   "metadata": {},
   "outputs": [],
   "source": [
    "with open(\"config.yaml\", \"r\") as stream:\n",
    "    try:\n",
    "        PARAM = yaml.safe_load(stream)\n",
    "    except yaml.YAMLError as exc:\n",
    "        print(exc)\n",
    "\n",
    "openai.api_key  = PARAM['openai_api']\n",
    "client = openai.OpenAI(api_key = PARAM['openai_api'])\n",
    "\n",
    "def get_embedding(text, model=\"text-embedding-3-small\"):\n",
    "   text = text.replace(\"\\n\", \" \")\n",
    "   return client.embeddings.create(input = [text], model=model).data[0].embedding"
   ]
  },
  {
   "cell_type": "code",
   "execution_count": 6,
   "metadata": {},
   "outputs": [],
   "source": [
    "#con = duckdb.connect(\"drug.db\")\n",
    "\n",
    "con = duckdb.connect(\"\")\n",
    "\n",
    "\n",
    "con.sql(\"INSTALL duckpgq FROM community;\")\n",
    "con.sql(\"INSTALL fts;\")\n",
    "con.sql(\"INSTALL vss;\")\n",
    "\n",
    "con.load_extension(\"duckpgq\")\n",
    "con.load_extension(\"fts\")\n",
    "con.load_extension(\"vss\")"
   ]
  },
  {
   "cell_type": "code",
   "execution_count": 7,
   "metadata": {},
   "outputs": [
    {
     "data": {
      "text/plain": [
       "┌─────────┐\n",
       "│ Success │\n",
       "│ boolean │\n",
       "├─────────┤\n",
       "│ 0 rows  │\n",
       "└─────────┘"
      ]
     },
     "execution_count": 7,
     "metadata": {},
     "output_type": "execute_result"
    }
   ],
   "source": [
    "con.sql(\"\"\"CREATE TABLE Trials (\n",
    "            PostingID     INTEGER NOT NULL PRIMARY KEY,\n",
    "            Sponsor    VARCHAR,\n",
    "            StudyTitle     VARCHAR,\n",
    "            Drug   VARCHAR,\n",
    "            Disorder   VARCHAR,\n",
    "            Phase   VARCHAR,\n",
    "            LinkToSponsorStudyRegistry   VARCHAR,\n",
    "            LinkToClinicalTrials   VARCHAR,\n",
    "            cui  VARCHAR[],\n",
    "            PreferredUMLSName   VARCHAR[],\n",
    "            )\"\"\")\n",
    "\n",
    "con.sql(\"\"\"CREATE TABLE Drug (\n",
    "            drug_cui  VARCHAR NOT NULL PRIMARY KEY,\n",
    "            name  VARCHAR\n",
    "            )\"\"\")\n",
    "\n",
    "con.sql(\"\"\"CREATE TABLE Disorder (\n",
    "            disorder_cui  VARCHAR NOT NULL PRIMARY KEY,\n",
    "            name  VARCHAR,\n",
    "            definition  VARCHAR,\n",
    "            definitionEmbedding FLOAT[1536]\n",
    "            )\"\"\")\n",
    "\n",
    "con.sql(\"\"\"CREATE TABLE MOA (\n",
    "            moa_id  VARCHAR NOT NULL PRIMARY KEY,\n",
    "            name  VARCHAR\n",
    "            )\"\"\")\n",
    "\n",
    "con.sql(\"\"\"CREATE TABLE DrugDisorder (\n",
    "            drug_cui  VARCHAR NOT NULL REFERENCES Drug(drug_cui),\n",
    "            disorder_cui  VARCHAR NOT NULL REFERENCES Disorder(disorder_cui)\n",
    "            )\"\"\")\n",
    "\n",
    "con.sql(\"\"\"CREATE TABLE DrugMOA (\n",
    "            drug_cui  VARCHAR NOT NULL REFERENCES Drug(drug_cui),\n",
    "            moa_id  VARCHAR NOT NULL REFERENCES MOA(moa_id)\n",
    "            )\"\"\")\n",
    "\n",
    "\n",
    "con.sql(\"\"\"SET hnsw_enable_experimental_persistence = true\"\"\")\n",
    "\n",
    "con.sql(\"\"\"CREATE INDEX my_hnsw_cosine_index ON Disorder USING HNSW (definitionEmbedding);\"\"\")\n",
    "\n",
    "\n",
    "con.sql(\"\"\"\n",
    "CREATE PROPERTY GRAPH drug_graph\n",
    "  VERTEX TABLES (\n",
    "    Drug, Disorder, MOA\n",
    "  )\n",
    "EDGE TABLES (\n",
    "  DrugDisorder \tSOURCE KEY (drug_cui) REFERENCES Drug (drug_cui)\n",
    "                DESTINATION KEY (disorder_cui) REFERENCES Disorder (disorder_cui)\n",
    "  LABEL MAY_TREAT,\n",
    "  DrugMOA SOURCE KEY (drug_cui) REFERENCES Drug (drug_cui)\n",
    "          DESTINATION KEY (moa_id) REFERENCES MOA (moa_id)\n",
    "  LABEL HAS_MOA\n",
    ");\n",
    "          \"\"\")\n"
   ]
  },
  {
   "cell_type": "code",
   "execution_count": 8,
   "metadata": {},
   "outputs": [],
   "source": [
    "df = pd.read_csv(\"drugs/trials_umls.tsv\", sep='\\t', lineterminator='\\n')\n",
    "\n",
    "con.sql(\"\"\"BEGIN TRANSACTION;\"\"\")\n",
    "\n",
    "\n",
    "for index, row in df.iterrows():\n",
    "  query = f\"\"\"INSERT INTO Trials VALUES ({row[\"Posting ID\"]}, '{row[\"Sponsor\"]}', '{row[\"Study Title\"].replace(\"'\", \"''\")}', '{row[\"Medicine or Vaccine (generic name)\"]}', '{row[\"Medical Condition\"].replace(\"'\", \"''\")}', '{row[\"Phase\"]}', '{row[\"Link to Sponsor Study Registry\"]}', '{row[\"Link to study details on ClinicalTrials.gov (if available)\"]}', {row[\"CUI_umls\"].split(\";\")}, {row[\"preferred_umls_name\"].split(\";\")});\"\"\"\n",
    "  #print(query)\n",
    "  con.sql(query)\n",
    "\n",
    "con.sql(\"\"\"PRAGMA create_fts_index('Trials', 'PostingID', 'StudyTitle', overwrite=1);\"\"\")\n",
    "\n",
    "con.sql(\"\"\"COMMIT;\"\"\")\n",
    "\n"
   ]
  },
  {
   "cell_type": "code",
   "execution_count": 9,
   "metadata": {},
   "outputs": [
    {
     "data": {
      "text/plain": [
       "┌──────────────────────────────────────────────────────────────────────────────────────────────────────────────────────────────────────────────────────────────────────────────────────────────────────────────────────────────────────────────────────┐\n",
       "│                                                                                                                      StudyTitle                                                                                                                      │\n",
       "│                                                                                                                       varchar                                                                                                                        │\n",
       "├──────────────────────────────────────────────────────────────────────────────────────────────────────────────────────────────────────────────────────────────────────────────────────────────────────────────────────────────────────────────────────┤\n",
       "│ U0289-401: An Evaluator Blinded, 8 Week, Split-Face Study to Evaluate and Compare the Efficacy and Tolerability of MAXCLARITY II and PROACTIV in Subjects with Acne                                                                                  │\n",
       "│ GSK1550188, A randomised, single-blind, placebo controlled, dose ascending, single dose study to evaluate the safety, tolerability, pharmacokinetics, and pharmacodynamic of GSK1550188 in Japanese subjects with Systemic Lupus Erythematosus (SLE) │\n",
       "│ A Multicenter, Randomized, Double-Blind, Phase 3 Study of the Safety and Efficacy of Emulsion Formulation U0267, versus Vehicle in Subjects with Plaque-type Psoriasis                                                                               │\n",
       "│ Two-week Study to Determine and Compare the Tolerance and Irritation Potential of Duac® Topical Gel (clindamycin 1% and benzoyl peroxide 5%) to ACANYA™ Gel (clindamycin phosphate 1.2% and benzoyl peroxide 2.5%) Topical Acne Medications          │\n",
       "│ A single-blind, randomized, comparative split-face study evaluating the tolerability of clindamycin and benzoyl peroxide gel to benzoyl peroxide/adapalene gel in the treatment of acne vulgaris.                                                    │\n",
       "└──────────────────────────────────────────────────────────────────────────────────────────────────────────────────────────────────────────────────────────────────────────────────────────────────────────────────────────────────────────────────────┘"
      ]
     },
     "execution_count": 9,
     "metadata": {},
     "output_type": "execute_result"
    }
   ],
   "source": [
    "con.sql(\"\"\"SELECT StudyTitle FROM Trials LIMIT 5;\"\"\")"
   ]
  },
  {
   "cell_type": "code",
   "execution_count": 10,
   "metadata": {},
   "outputs": [
    {
     "data": {
      "text/plain": [
       "┌──────────┬───────────────────────────────────────────────────────────────────────────────────────────────────────────────────────────────────────────────────────────────────────────────────────────────────────────────────────┬────────────────────┐\n",
       "│ trial_id │                                                                                                      StudyTitle                                                                                                       │       score        │\n",
       "│  int32   │                                                                                                        varchar                                                                                                        │       double       │\n",
       "├──────────┼───────────────────────────────────────────────────────────────────────────────────────────────────────────────────────────────────────────────────────────────────────────────────────────────────────────────────────┼────────────────────┤\n",
       "│     1938 │ A Multicenter, Double-Blind, Placebo-Controlled Evaluation of Valaciclovir for the Reduction of the Length of Cold Sore Episodes                                                                                      │ 3.6408433952342056 │\n",
       "│     1939 │ A Multicenter, Double-Blind, Placebo-Controlled Evaluation of Valaciclovir for the Prevention/Blockage of the Progression of Cold Sore Lesion Development                                                             │ 3.4781010962012195 │\n",
       "│     1941 │ An International, Randomized, Double-Blind, Placebo-Controlled Study of Valaciclovir for the Suppression of Recurrent Ano-Genital HSV Infections in HIV-Infected Subjects                                             │   3.25955265740557 │\n",
       "│     5037 │ An International, Double-Blind, Controlled Trial Comparing Oral Acyclovir to Oral Valaciclovir for the Treatment of Herpes Zoster in Immunocompetent Patients 50 Years of Age or Older                                │ 3.1926813479499074 │\n",
       "│     1940 │ A Randomized, Double-Blind, Placebo-Controlled Evaluation of Valaciclovir for the Prevention of Herpes Simplex Virus (HSV) Transmission in Heterosexual Couples (Double-Blind Phase and Open-Label Suppression Phase) │  3.187394679938424 │\n",
       "└──────────┴───────────────────────────────────────────────────────────────────────────────────────────────────────────────────────────────────────────────────────────────────────────────────────────────────────────────────────┴────────────────────┘"
      ]
     },
     "execution_count": 10,
     "metadata": {},
     "output_type": "execute_result"
    }
   ],
   "source": [
    "db = \"Trials\"\n",
    "\n",
    "query = f\"\"\"SELECT PostingID as trial_id, StudyTitle, score\n",
    "FROM (\n",
    "    SELECT *, fts_main_{db}.match_bm25(\n",
    "        PostingID,\n",
    "        'double blind & Valaciclovir',\n",
    "        fields := 'StudyTitle'\n",
    "    ) AS score\n",
    "    FROM {db}\n",
    ")\n",
    "WHERE score IS NOT NULL\n",
    "ORDER BY score DESC LIMIT 5;\n",
    "\"\"\"\n",
    "\n",
    "con.sql(query)"
   ]
  },
  {
   "cell_type": "code",
   "execution_count": 11,
   "metadata": {},
   "outputs": [],
   "source": [
    "con.sql(\"\"\"BEGIN TRANSACTION;\"\"\")\n",
    "\n",
    "for line in open(\"drugs/drugs_4.json\", \"r\"):\n",
    "  value = json.loads(line)\n",
    "\n",
    "  query = f\"\"\"INSERT INTO Drug VALUES ('{value[\"cui\"]}', '{value[\"name\"].replace(\"'\", \"''\")}');\"\"\"\n",
    "  #print(query)\n",
    "  con.sql(query)\n",
    "\n",
    "con.sql(\"\"\"COMMIT;\"\"\")"
   ]
  },
  {
   "cell_type": "code",
   "execution_count": 12,
   "metadata": {},
   "outputs": [
    {
     "data": {
      "text/plain": [
       "┌──────────┬───────────────────────┐\n",
       "│ drug_cui │         name          │\n",
       "│ varchar  │        varchar        │\n",
       "├──────────┼───────────────────────┤\n",
       "│ C0046056 │ fludeoxyglucose (18F) │\n",
       "└──────────┴───────────────────────┘"
      ]
     },
     "execution_count": 12,
     "metadata": {},
     "output_type": "execute_result"
    }
   ],
   "source": [
    "con.sql(\"\"\"\n",
    "SELECT * FROM Drug WHERE drug_cui = 'C0046056'\n",
    "\"\"\")"
   ]
  },
  {
   "cell_type": "code",
   "execution_count": 13,
   "metadata": {},
   "outputs": [],
   "source": [
    "con.sql(\"\"\"BEGIN TRANSACTION;\"\"\")\n",
    "\n",
    "for line in open(\"drugs/disease_4_embedding.json\", \"r\"):\n",
    "  value = json.loads(line)\n",
    "\n",
    "  query = f\"\"\"INSERT INTO Disorder VALUES ('{value[\"cui\"]}', '{value[\"name\"].replace(\"'\", \"''\")}', '{value[\"definition\"].replace(\"'\", \"''\")}', {value[\"definitionEmbedding\"]});\"\"\"\n",
    "  #print(query)\n",
    "  con.sql(query)\n",
    "\n",
    "con.sql(\"\"\"COMMIT;\"\"\")"
   ]
  },
  {
   "cell_type": "code",
   "execution_count": 14,
   "metadata": {},
   "outputs": [],
   "source": [
    "con.sql(\"\"\"BEGIN TRANSACTION;\"\"\")\n",
    "\n",
    "df = pd.read_csv(\"drugs/moa_3.tsv\", sep='\\t', lineterminator='\\n')\n",
    "\n",
    "for index, row in df.iterrows():\n",
    "\n",
    "  query = f\"\"\"INSERT INTO MOA VALUES ('{row[\"id\"]}', '{row[\"name\"].replace(\"'\", \"''\")}');\"\"\"\n",
    "  #print(query)\n",
    "  con.sql(query)\n",
    "\n",
    "con.sql(\"\"\"COMMIT;\"\"\")"
   ]
  },
  {
   "cell_type": "code",
   "execution_count": 15,
   "metadata": {},
   "outputs": [],
   "source": [
    "con.sql(\"\"\"BEGIN TRANSACTION;\"\"\")\n",
    "df = pd.read_csv(\"drugs/cui_indication_3.tsv\", sep='\\t', lineterminator='\\n')\n",
    "\n",
    "for index, row in df.iterrows():\n",
    "  query = f\"\"\"INSERT INTO DrugDisorder VALUES ('{row[\"from\"]}', '{row[\"to\"]}');\"\"\"\n",
    "  con.sql(query)\n",
    "\n",
    "\n",
    "con.sql(\"\"\"COMMIT;\"\"\")"
   ]
  },
  {
   "cell_type": "code",
   "execution_count": 16,
   "metadata": {},
   "outputs": [],
   "source": [
    "con.sql(\"\"\"BEGIN TRANSACTION;\"\"\")\n",
    "df = pd.read_csv(\"drugs/cui_moa_3.tsv\", sep='\\t', lineterminator='\\n')\n",
    "\n",
    "for index, row in df.iterrows():\n",
    "  query = f\"\"\"INSERT INTO DrugMOA VALUES ('{row[\"from\"]}', '{row[\"to\"]}');\"\"\"\n",
    "  con.sql(query)\n",
    "\n",
    "\n",
    "con.sql(\"\"\"COMMIT;\"\"\")"
   ]
  },
  {
   "cell_type": "code",
   "execution_count": 17,
   "metadata": {},
   "outputs": [
    {
     "data": {
      "text/plain": [
       "┌───────────────┐\n",
       "│   drug_name   │\n",
       "│    varchar    │\n",
       "├───────────────┤\n",
       "│ aducanumab    │\n",
       "│ galantamine   │\n",
       "│ valproic acid │\n",
       "│ tacrine       │\n",
       "│ donepezil     │\n",
       "└───────────────┘"
      ]
     },
     "execution_count": 17,
     "metadata": {},
     "output_type": "execute_result"
    }
   ],
   "source": [
    "con.sql(\"\"\"\n",
    "FROM GRAPH_TABLE (drug_graph\n",
    "  MATCH\n",
    "  (i:Drug)-[m:MAY_TREAT]->(c:Disorder WHERE c.name = 'Alzheimer''s Disease')\n",
    "  COLUMNS (i.name AS drug_name)\n",
    ")\n",
    "LIMIT 5;\n",
    "\"\"\")"
   ]
  },
  {
   "cell_type": "code",
   "execution_count": 18,
   "metadata": {},
   "outputs": [
    {
     "data": {
      "text/plain": [
       "┌──────────────────────────────────────────┐\n",
       "│                 moa_name                 │\n",
       "│                 varchar                  │\n",
       "├──────────────────────────────────────────┤\n",
       "│ Lipoxygenase Inhibitors                  │\n",
       "│ Corticosteroid Hormone Receptor Agonists │\n",
       "│ Glucocorticoid Receptor Agonists         │\n",
       "└──────────────────────────────────────────┘"
      ]
     },
     "execution_count": 18,
     "metadata": {},
     "output_type": "execute_result"
    }
   ],
   "source": [
    "con.sql(\"\"\"FROM GRAPH_TABLE (drug_graph\n",
    "        MATCH\n",
    "        (d:Drug WHERE d.name = 'medrysone')-[h:HAS_MOA]->(m:MOA)\n",
    "        COLUMNS (m.name AS moa_name)\n",
    "      )\n",
    "      LIMIT 5;\"\"\")"
   ]
  },
  {
   "cell_type": "code",
   "execution_count": 19,
   "metadata": {},
   "outputs": [
    {
     "data": {
      "text/plain": [
       "┌──────────┬────────────┬──────────┐\n",
       "│ trial_id │    cui     │ drug_cui │\n",
       "│  int32   │ varchar[]  │ varchar  │\n",
       "├──────────┼────────────┼──────────┤\n",
       "│    19970 │ [C0527316] │ C0527316 │\n",
       "│    19971 │ [C0527316] │ C0527316 │\n",
       "│    19972 │ [C0527316] │ C0527316 │\n",
       "│    19973 │ [C0527316] │ C0527316 │\n",
       "│    19974 │ [C0527316] │ C0527316 │\n",
       "│    19975 │ [C0527316] │ C0527316 │\n",
       "│    19976 │ [C0527316] │ C0527316 │\n",
       "│    19977 │ [C0527316] │ C0527316 │\n",
       "│    19978 │ [C0527316] │ C0527316 │\n",
       "│    19979 │ [C0527316] │ C0527316 │\n",
       "│    19980 │ [C0527316] │ C0527316 │\n",
       "│    20782 │ [C0527316] │ C0527316 │\n",
       "│    20783 │ [C0527316] │ C0527316 │\n",
       "│    20784 │ [C0527316] │ C0527316 │\n",
       "│     4086 │ [C0649350] │ C0649350 │\n",
       "│     4179 │ [C0649350] │ C0649350 │\n",
       "│     4180 │ [C0649350] │ C0649350 │\n",
       "│     4556 │ [C0649350] │ C0649350 │\n",
       "│     4688 │ [C0649350] │ C0649350 │\n",
       "│     4689 │ [C0649350] │ C0649350 │\n",
       "│     4749 │ [C0649350] │ C0649350 │\n",
       "│    21103 │ [C0649350] │ C0649350 │\n",
       "├──────────┴────────────┴──────────┤\n",
       "│ 22 rows                3 columns │\n",
       "└──────────────────────────────────┘"
      ]
     },
     "execution_count": 19,
     "metadata": {},
     "output_type": "execute_result"
    }
   ],
   "source": [
    "con.sql(\"\"\"\n",
    "SELECT Trials.PostingID as trial_id, Trials.cui, drug_for_disease.drug_cui\n",
    "FROM Trials,\n",
    "    GRAPH_TABLE(\n",
    "            drug_graph\n",
    "                MATCH\n",
    "                (i:Drug)-[m:MAY_TREAT]->(c:Disorder WHERE c.name = 'Alzheimer''s Disease')\n",
    "                COLUMNS (i.drug_cui AS drug_cui)\n",
    "    )  drug_for_disease\n",
    "WHERE list_contains(Trials.cui, drug_for_disease.drug_cui)\n",
    "\"\"\")"
   ]
  },
  {
   "cell_type": "code",
   "execution_count": 20,
   "metadata": {},
   "outputs": [
    {
     "data": {
      "text/plain": [
       "┌──────────┬────────────┬──────────┐\n",
       "│ trial_id │    cui     │ drug_cui │\n",
       "│  int32   │ varchar[]  │ varchar  │\n",
       "├──────────┼────────────┼──────────┤\n",
       "│    19970 │ [C0527316] │ C0527316 │\n",
       "│    19971 │ [C0527316] │ C0527316 │\n",
       "│    19972 │ [C0527316] │ C0527316 │\n",
       "│    19973 │ [C0527316] │ C0527316 │\n",
       "│    19974 │ [C0527316] │ C0527316 │\n",
       "│    19975 │ [C0527316] │ C0527316 │\n",
       "│    19976 │ [C0527316] │ C0527316 │\n",
       "│    19977 │ [C0527316] │ C0527316 │\n",
       "│    19978 │ [C0527316] │ C0527316 │\n",
       "│    19979 │ [C0527316] │ C0527316 │\n",
       "│    19980 │ [C0527316] │ C0527316 │\n",
       "│    20782 │ [C0527316] │ C0527316 │\n",
       "│    20783 │ [C0527316] │ C0527316 │\n",
       "│    20784 │ [C0527316] │ C0527316 │\n",
       "│     4086 │ [C0649350] │ C0649350 │\n",
       "│     4179 │ [C0649350] │ C0649350 │\n",
       "│     4180 │ [C0649350] │ C0649350 │\n",
       "│     4556 │ [C0649350] │ C0649350 │\n",
       "│     4688 │ [C0649350] │ C0649350 │\n",
       "│     4689 │ [C0649350] │ C0649350 │\n",
       "│     4749 │ [C0649350] │ C0649350 │\n",
       "│    21103 │ [C0649350] │ C0649350 │\n",
       "├──────────┴────────────┴──────────┤\n",
       "│ 22 rows                3 columns │\n",
       "└──────────────────────────────────┘"
      ]
     },
     "execution_count": 20,
     "metadata": {},
     "output_type": "execute_result"
    }
   ],
   "source": [
    "con.sql(\"\"\"\n",
    "SELECT Trials.PostingID as trial_id, Trials.cui, Drug.drug_cui\n",
    "FROM Trials, Drug, Disorder, DrugDisorder\n",
    "WHERE Disorder.name = 'Alzheimer''s Disease' \n",
    "  AND Disorder.disorder_cui = DrugDisorder.disorder_cui \n",
    "  AND Drug.drug_cui = DrugDisorder.drug_cui \n",
    "  AND list_contains(Trials.cui, Drug.drug_cui)\n",
    "\"\"\")"
   ]
  },
  {
   "cell_type": "code",
   "execution_count": 21,
   "metadata": {},
   "outputs": [
    {
     "data": {
      "text/plain": [
       "┌──────────┬────────────┬──────────┐\n",
       "│ trial_id │    cui     │ drug_cui │\n",
       "│  int32   │ varchar[]  │ varchar  │\n",
       "├──────────┼────────────┼──────────┤\n",
       "│    19970 │ [C0527316] │ C0527316 │\n",
       "│    19971 │ [C0527316] │ C0527316 │\n",
       "│    19972 │ [C0527316] │ C0527316 │\n",
       "│    19973 │ [C0527316] │ C0527316 │\n",
       "│    19974 │ [C0527316] │ C0527316 │\n",
       "│    19975 │ [C0527316] │ C0527316 │\n",
       "│    19976 │ [C0527316] │ C0527316 │\n",
       "│    19977 │ [C0527316] │ C0527316 │\n",
       "│    19978 │ [C0527316] │ C0527316 │\n",
       "│    19979 │ [C0527316] │ C0527316 │\n",
       "│    19980 │ [C0527316] │ C0527316 │\n",
       "│    20782 │ [C0527316] │ C0527316 │\n",
       "│    20783 │ [C0527316] │ C0527316 │\n",
       "│    20784 │ [C0527316] │ C0527316 │\n",
       "│     4086 │ [C0649350] │ C0649350 │\n",
       "│     4179 │ [C0649350] │ C0649350 │\n",
       "│     4180 │ [C0649350] │ C0649350 │\n",
       "│     4556 │ [C0649350] │ C0649350 │\n",
       "│     4688 │ [C0649350] │ C0649350 │\n",
       "│     4689 │ [C0649350] │ C0649350 │\n",
       "│     4749 │ [C0649350] │ C0649350 │\n",
       "│    21103 │ [C0649350] │ C0649350 │\n",
       "├──────────┴────────────┴──────────┤\n",
       "│ 22 rows                3 columns │\n",
       "└──────────────────────────────────┘"
      ]
     },
     "execution_count": 21,
     "metadata": {},
     "output_type": "execute_result"
    }
   ],
   "source": [
    "con.sql(\"\"\"\n",
    "SELECT Trials.PostingID as trial_id, Trials.cui, Drug.drug_cui\n",
    "FROM Trials, Drug\n",
    "JOIN DrugDisorder dd ON Drug.drug_cui = dd.drug_cui\n",
    "JOIN Disorder d ON dd.disorder_cui = d.disorder_cui\n",
    "WHERE d.name = 'Alzheimer''s Disease' AND list_contains(Trials.cui, Drug.drug_cui)\n",
    "\"\"\")"
   ]
  },
  {
   "cell_type": "code",
   "execution_count": 22,
   "metadata": {},
   "outputs": [
    {
     "data": {
      "text/plain": [
       "┌──────────────────────┬───────────────────────────────────────────────────────────────────────────────────────────────────────────────────────────────────────────────────────────────────────────────────────────────────────────────────────────────────────────────────────────────────────────────────────────────────────────────────────────────────────────────────────────────────────────────────────────────────────┐\n",
       "│         name         │                                                                                                                                                                                              definition                                                                                                                                                                                               │\n",
       "│       varchar        │                                                                                                                                                                                                varchar                                                                                                                                                                                                │\n",
       "├──────────────────────┼───────────────────────────────────────────────────────────────────────────────────────────────────────────────────────────────────────────────────────────────────────────────────────────────────────────────────────────────────────────────────────────────────────────────────────────────────────────────────────────────────────────────────────────────────────────────────────────────────────┤\n",
       "│ Arthropathy          │ Diseases involving the JOINTS.                                                                                                                                                                                                                                                                                                                                                                        │\n",
       "│ Spondylarthropathies │ Heterogeneous group of arthritic diseases sharing clinical and radiologic features. They are associated with the HLA-B27 ANTIGEN and some with a triggering infection. Most involve the axial joints in the SPINE, particularly the SACROILIAC JOINT, but can also involve asymmetric peripheral joints. Subsets include ANKYLOSING SPONDYLITIS; REACTIVE ARTHRITIS; PSORIATIC ARTHRITIS; and others. │\n",
       "│ Rheumatoid Arthritis │ A chronic systemic disease, primarily of the joints, marked by inflammatory changes in the synovial membranes and articular structures, widespread fibrinoid degeneration of the collagen fibers in mesenchymal tissues, and by atrophy and rarefaction of bony structures. Etiology is unknown, but autoimmune mechanisms have been implicated.                                                      │\n",
       "└──────────────────────┴───────────────────────────────────────────────────────────────────────────────────────────────────────────────────────────────────────────────────────────────────────────────────────────────────────────────────────────────────────────────────────────────────────────────────────────────────────────────────────────────────────────────────────────────────────────────────────────────────────┘"
      ]
     },
     "execution_count": 22,
     "metadata": {},
     "output_type": "execute_result"
    }
   ],
   "source": [
    "question = \"joint-related disease\"\n",
    "\n",
    "question_embedding = get_embedding(question)\n",
    "\n",
    "con.sql(f\"\"\"\n",
    "SELECT name, definition\n",
    "FROM Disorder\n",
    "ORDER BY array_distance(definitionEmbedding, {question_embedding}::FLOAT[1536])\n",
    "LIMIT 3;\n",
    "\"\"\")\n",
    "\n"
   ]
  },
  {
   "cell_type": "code",
   "execution_count": 23,
   "metadata": {},
   "outputs": [
    {
     "data": {
      "text/plain": [
       "┌──────────┬──────────────────────┬──────────────────────┐\n",
       "│ trial_id │         name         │      drug_name       │\n",
       "│  int32   │       varchar        │       varchar        │\n",
       "├──────────┼──────────────────────┼──────────────────────┤\n",
       "│     4829 │ Rheumatoid Arthritis │ certolizumab pegol   │\n",
       "│     3610 │ Rheumatoid Arthritis │ nabumetone           │\n",
       "│      121 │ Rheumatoid Arthritis │ naproxen             │\n",
       "│      122 │ Rheumatoid Arthritis │ naproxen             │\n",
       "│      123 │ Rheumatoid Arthritis │ naproxen             │\n",
       "│     3474 │ Rheumatoid Arthritis │ naproxen             │\n",
       "│     3475 │ Rheumatoid Arthritis │ naproxen             │\n",
       "│     3476 │ Rheumatoid Arthritis │ naproxen             │\n",
       "│     3477 │ Rheumatoid Arthritis │ naproxen             │\n",
       "│     3478 │ Rheumatoid Arthritis │ naproxen             │\n",
       "│       ·  │          ·           │    ·                 │\n",
       "│       ·  │          ·           │    ·                 │\n",
       "│       ·  │          ·           │    ·                 │\n",
       "│     3491 │ Rheumatoid Arthritis │ naproxen             │\n",
       "│     3492 │ Rheumatoid Arthritis │ naproxen             │\n",
       "│     3493 │ Rheumatoid Arthritis │ naproxen             │\n",
       "│     3494 │ Rheumatoid Arthritis │ naproxen             │\n",
       "│     3495 │ Rheumatoid Arthritis │ naproxen             │\n",
       "│     3496 │ Rheumatoid Arthritis │ naproxen             │\n",
       "│     4774 │ Rheumatoid Arthritis │ acetylsalicylic acid │\n",
       "│     4775 │ Rheumatoid Arthritis │ acetylsalicylic acid │\n",
       "│     4005 │ Rheumatoid Arthritis │ enalapril            │\n",
       "│    19531 │ Rheumatoid Arthritis │ meloxicam            │\n",
       "├──────────┴──────────────────────┴──────────────────────┤\n",
       "│ 32 rows (20 shown)                           3 columns │\n",
       "└────────────────────────────────────────────────────────┘"
      ]
     },
     "execution_count": 23,
     "metadata": {},
     "output_type": "execute_result"
    }
   ],
   "source": [
    "con.sql(f\"\"\"\n",
    "SELECT Trials.PostingID AS trial_id, target_disease.name, drug_for_disorder.drug_name FROM \n",
    "  Trials, (\n",
    "  SELECT disorder_cui, name\n",
    "    FROM Disorder\n",
    "    ORDER BY array_distance(definitionEmbedding, {question_embedding}::FLOAT[1536])\n",
    "    LIMIT 3\n",
    "  ) target_disease,\n",
    "  GRAPH_TABLE(\n",
    "    drug_graph\n",
    "      MATCH (i:Drug)-[m:MAY_TREAT]->(c:Disorder)\n",
    "      COLUMNS (i.drug_cui AS drug_cui, i.name AS drug_name,c.disorder_cui AS disorder_cui)\n",
    "    )  drug_for_disorder\n",
    "WHERE target_disease.disorder_cui = drug_for_disorder.disorder_cui AND list_contains(Trials.cui, drug_for_disorder.drug_cui)\n",
    "\"\"\")"
   ]
  },
  {
   "cell_type": "code",
   "execution_count": 24,
   "metadata": {},
   "outputs": [],
   "source": [
    "con.close()"
   ]
  },
  {
   "cell_type": "code",
   "execution_count": null,
   "metadata": {},
   "outputs": [],
   "source": []
  }
 ],
 "metadata": {
  "kernelspec": {
   "display_name": "duckdb",
   "language": "python",
   "name": "python3"
  },
  "language_info": {
   "codemirror_mode": {
    "name": "ipython",
    "version": 3
   },
   "file_extension": ".py",
   "mimetype": "text/x-python",
   "name": "python",
   "nbconvert_exporter": "python",
   "pygments_lexer": "ipython3",
   "version": "3.11.9"
  }
 },
 "nbformat": 4,
 "nbformat_minor": 2
}
